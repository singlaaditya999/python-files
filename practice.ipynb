{
 "cells": [
  {
   "cell_type": "code",
   "execution_count": 1,
   "metadata": {},
   "outputs": [],
   "source": [
    "# imported the requests library \n",
    "import requests \n",
    "image_url = \"https://www.python.org/static/community_logos/python-logo-master-v3-TM.png\"\n",
    "\n",
    "# URL of the image to be downloaded is defined as image_url \n",
    "r = requests.get(image_url) # create HTTP response object \n",
    "\n",
    "# send a HTTP request to the server and save \n",
    "# the HTTP response in a response object called r \n",
    "with open(\"python_logo.png\",'wb') as f: \n",
    "\n",
    "\t# Saving received content as a png file in \n",
    "\t# binary format \n",
    "\n",
    "\t# write the contents of the response (r.content) \n",
    "\t# to a new file in binary mode. \n",
    "\tf.write(r.content) \n"
   ]
  },
  {
   "cell_type": "code",
   "execution_count": 3,
   "metadata": {},
   "outputs": [],
   "source": [
    "import requests \n",
    "file_url = \"http://codex.cs.yale.edu/avi/db-book/db4/slide-dir/ch1-2.pdf\"\n",
    "\n",
    "r = requests.get(file_url, stream = True) \n",
    "\n",
    "with open(\"python.pdf\",\"wb\") as pdf: \n",
    "    for chunk in r.iter_content(chunk_size=1024): \n",
    "\n",
    "\t\t# writing one chunk at a time to pdf file \n",
    "        if chunk: \n",
    "            pdf.write(chunk) \n"
   ]
  },
  {
   "cell_type": "code",
   "execution_count": null,
   "metadata": {},
   "outputs": [
    {
     "name": "stdout",
     "output_type": "stream",
     "text": [
      "Downloading file:PY4INF-13-Webservices-01.mp4\n",
      "PY4INF-13-Webservices-01.mp4 downloaded!\n",
      "\n",
      "Downloading file:PY4INF-13-Webservices-01.mp4\n",
      "PY4INF-13-Webservices-01.mp4 downloaded!\n",
      "\n",
      "Downloading file:PY4INF-13-Webservices-02.mp4\n"
     ]
    }
   ],
   "source": [
    "import requests \n",
    "from bs4 import BeautifulSoup \n",
    "\n",
    "''' \n",
    "URL of the archive web-page which provides link to \n",
    "all video lectures. It would have been tiring to \n",
    "download each video manually. \n",
    "In this example, we first crawl the webpage to extract \n",
    "all the links and then download videos. \n",
    "'''\n",
    "\n",
    "# specify the URL of the archive here \n",
    "archive_url = \"http://www-personal.umich.edu/~csev/books/py4inf/media/\"\n",
    "\n",
    "def get_video_links(): \n",
    "\t\n",
    "\t# create response object \n",
    "\tr = requests.get(archive_url) \n",
    "\t\n",
    "\t# create beautiful-soup object \n",
    "\tsoup = BeautifulSoup(r.content,'html5lib') \n",
    "\t\n",
    "\t# find all links on web-page \n",
    "\tlinks = soup.findAll('a') \n",
    "\n",
    "\t# filter the link sending with .mp4 \n",
    "\tvideo_links = [archive_url + link['href'] for link in links if link['href'].endswith('mp4')] \n",
    "\n",
    "\treturn video_links \n",
    "\n",
    "\n",
    "def download_video_series(video_links): \n",
    "\n",
    "\tfor link in video_links: \n",
    "\n",
    "\t\t'''iterate through all links in video_links \n",
    "\t\tand download them one by one'''\n",
    "\t\t\n",
    "\t\t# obtain filename by splitting url and getting \n",
    "\t\t# last string \n",
    "\t\tfile_name = link.split('/')[-1] \n",
    "\n",
    "\t\tprint (\"Downloading file:%s\"%file_name) \n",
    "\t\t\n",
    "\t\t# create response object \n",
    "\t\tr = requests.get(link, stream = True) \n",
    "\t\t\n",
    "\t\t# download started \n",
    "\t\twith open(file_name, 'wb') as f: \n",
    "\t\t\tfor chunk in r.iter_content(chunk_size = 1024*1024): \n",
    "\t\t\t\tif chunk: \n",
    "\t\t\t\t\tf.write(chunk) \n",
    "\t\t\n",
    "\t\tprint (\"%s downloaded!\\n\"%file_name )\n",
    "\n",
    "\tprint (\"All videos downloaded!\")\n",
    "\treturn\n",
    "\n",
    "\n",
    "if __name__ == \"__main__\": \n",
    "\n",
    "\t# getting all video links \n",
    "\tvideo_links = get_video_links() \n",
    "\n",
    "\t# download all videos \n",
    "\tdownload_video_series(video_links) \n",
    "\t\n"
   ]
  },
  {
   "cell_type": "code",
   "execution_count": 2,
   "metadata": {},
   "outputs": [
    {
     "name": "stdout",
     "output_type": "stream",
     "text": [
      "//upload.wikimedia.org/wikipedia/commons/thumb/a/af/NlaJeffrey1942-43.jpg/220px-NlaJeffrey1942-43.jpg\n",
      "\n",
      "//upload.wikimedia.org/wikipedia/commons/thumb/c/c5/008315JeffreyTurnbull1941.jpg/260px-008315JeffreyTurnbull1941.jpg\n",
      "\n",
      "//upload.wikimedia.org/wikipedia/commons/e/ea/021807CameronJeffrey1941.jpg\n",
      "\n",
      "//upload.wikimedia.org/wikipedia/commons/thumb/9/92/AC0072JeffreyTruscottKittyhawks1942.jpg/280px-AC0072JeffreyTruscottKittyhawks1942.jpg\n",
      "\n",
      "//upload.wikimedia.org/wikipedia/commons/thumb/2/26/VIC1689Jeffrey1945.jpg/280px-VIC1689Jeffrey1945.jpg\n",
      "\n"
     ]
    }
   ],
   "source": [
    "#from urllib.request import urlopen\n",
    "from bs4 import BeautifulSoup\n",
    "import re\n",
    "\n",
    "html = urlopen('https://en.wikipedia.org/wiki/Peter_Jeffrey_(RAAF_officer)')\n",
    "bs = BeautifulSoup(html, 'html.parser')\n",
    "images = bs.find_all('img', {'src':re.compile('.jpg')})\n",
    "for image in images: \n",
    "    print(image['src']+'\\n')"
   ]
  },
  {
   "cell_type": "code",
   "execution_count": 8,
   "metadata": {},
   "outputs": [
    {
     "name": "stdout",
     "output_type": "stream",
     "text": [
      "Grabbing the page...\n",
      "Collecting the links...\n",
      "Saved to C:\\Users\\DELL\\AppData\\Roaming\\jupyter\\runtime\\kernel-178f85ce-c52d-47ff-9197-450ce482208f.json\n"
     ]
    }
   ],
   "source": [
    "\n",
    "#!venv/bin/python\n",
    "import sys\n",
    "import requests\n",
    "import bs4\n",
    " \n",
    "if len(sys.argv) == 3:\n",
    "    # If arguments are satisfied store them in readable variables\n",
    "    #url = 'http://%s' % sys.argv[1]\n",
    "    url='http://midas.iiitd.edu.in/'\n",
    "    file_name = sys.argv[2]\n",
    " \n",
    "    print('Grabbing the page...')\n",
    "    # Get url from command line\n",
    "    response = requests.get(url)\n",
    "    response.raise_for_status()\n",
    " \n",
    "    # Retrieve all links on the page\n",
    "    soup = bs4.BeautifulSoup(response.text, 'html.parser')\n",
    "    links = soup.find_all('a')\n",
    " \n",
    "    file = open(\"Midas links\", 'wb')\n",
    "    print('Collecting the links...')\n",
    "    for link in links:\n",
    "        href = link.get('href') + '\\n'\n",
    "        file.write(href.encode())\n",
    "    file.close()\n",
    "    print('Saved to %s' % file_name)\n",
    "else:\n",
    "    print('Usage: ./collect_links.py wwww.example.com file.txt')"
   ]
  },
  {
   "cell_type": "code",
   "execution_count": 9,
   "metadata": {},
   "outputs": [
    {
     "ename": "OSError",
     "evalue": "[Errno 22] Invalid argument: 'http://midas.iiitd.edu.in/'",
     "output_type": "error",
     "traceback": [
      "\u001b[1;31m---------------------------------------------------------------------------\u001b[0m",
      "\u001b[1;31mOSError\u001b[0m                                   Traceback (most recent call last)",
      "\u001b[1;32m<ipython-input-9-4b97167780fb>\u001b[0m in \u001b[0;36m<module>\u001b[1;34m\u001b[0m\n\u001b[0;32m      1\u001b[0m \u001b[1;32mfrom\u001b[0m \u001b[0mbs4\u001b[0m \u001b[1;32mimport\u001b[0m \u001b[0mBeautifulSoup\u001b[0m\u001b[1;33m\u001b[0m\u001b[1;33m\u001b[0m\u001b[0m\n\u001b[0;32m      2\u001b[0m \u001b[1;32mimport\u001b[0m \u001b[0mcsv\u001b[0m\u001b[1;33m\u001b[0m\u001b[1;33m\u001b[0m\u001b[0m\n\u001b[1;32m----> 3\u001b[1;33m \u001b[0mhtml\u001b[0m \u001b[1;33m=\u001b[0m \u001b[0mopen\u001b[0m\u001b[1;33m(\u001b[0m\u001b[1;34m\"http://midas.iiitd.edu.in/\"\u001b[0m\u001b[1;33m)\u001b[0m\u001b[1;33m.\u001b[0m\u001b[0mread\u001b[0m\u001b[1;33m(\u001b[0m\u001b[1;33m)\u001b[0m\u001b[1;33m\u001b[0m\u001b[1;33m\u001b[0m\u001b[0m\n\u001b[0m\u001b[0;32m      4\u001b[0m \u001b[0msoup\u001b[0m \u001b[1;33m=\u001b[0m \u001b[0mBeautifulSoup\u001b[0m\u001b[1;33m(\u001b[0m\u001b[0mhtml\u001b[0m\u001b[1;33m)\u001b[0m\u001b[1;33m\u001b[0m\u001b[1;33m\u001b[0m\u001b[0m\n\u001b[0;32m      5\u001b[0m \u001b[0mtable\u001b[0m \u001b[1;33m=\u001b[0m \u001b[0msoup\u001b[0m\u001b[1;33m.\u001b[0m\u001b[0mfind\u001b[0m\u001b[1;33m(\u001b[0m\u001b[1;34m\"table\"\u001b[0m\u001b[1;33m)\u001b[0m\u001b[1;33m\u001b[0m\u001b[1;33m\u001b[0m\u001b[0m\n",
      "\u001b[1;31mOSError\u001b[0m: [Errno 22] Invalid argument: 'http://midas.iiitd.edu.in/'"
     ]
    }
   ],
   "source": [
    "from bs4 import BeautifulSoup\n",
    "import requests\n",
    "import csv\n",
    "\n",
    "url='http://midas.iiitd.edu.in/'\n",
    "file = open(\"MidasLinks\",'wb')\n",
    "\n",
    "response=requests.get(url)\n",
    "\n",
    "soup = BeautifulSoup(response.text, 'html.parser')\n",
    "\n",
    "output_rows = []\n",
    "for table_row in table.findAll('tr'):\n",
    "    columns = table_row.findAll('td')\n",
    "    output_row = []\n",
    "    for column in columns:\n",
    "        output_row.append(column.text)\n",
    "    output_rows.append(output_row)\n",
    "    \n",
    "with open('output.csv', 'wb') as csvfile:\n",
    "    writer = csv.writer(csvfile)\n",
    "    writer.writerows(output_rows)"
   ]
  },
  {
   "cell_type": "markdown",
   "metadata": {},
   "source": [
    "# Reading Newspaper"
   ]
  },
  {
   "cell_type": "code",
   "execution_count": 10,
   "metadata": {},
   "outputs": [
    {
     "ename": "ModuleNotFoundError",
     "evalue": "No module named 'newspaper'",
     "output_type": "error",
     "traceback": [
      "\u001b[1;31m---------------------------------------------------------------------------\u001b[0m",
      "\u001b[1;31mModuleNotFoundError\u001b[0m                       Traceback (most recent call last)",
      "\u001b[1;32m<ipython-input-10-e5d9adb00ce5>\u001b[0m in \u001b[0;36m<module>\u001b[1;34m\u001b[0m\n\u001b[1;32m----> 1\u001b[1;33m \u001b[1;32mfrom\u001b[0m \u001b[0mnewspaper\u001b[0m \u001b[1;32mimport\u001b[0m \u001b[0mArticle\u001b[0m\u001b[1;33m\u001b[0m\u001b[1;33m\u001b[0m\u001b[0m\n\u001b[0m\u001b[0;32m      2\u001b[0m \u001b[1;33m\u001b[0m\u001b[0m\n\u001b[0;32m      3\u001b[0m \u001b[1;31m#A new article from TOI\u001b[0m\u001b[1;33m\u001b[0m\u001b[1;33m\u001b[0m\u001b[1;33m\u001b[0m\u001b[0m\n\u001b[0;32m      4\u001b[0m \u001b[0murl\u001b[0m \u001b[1;33m=\u001b[0m \u001b[1;34m\"http:// timesofindia.indiatimes.com/world/china/chinese-expert-warns-of-troops-entering-kashmir/articleshow/59516912.cms\"\u001b[0m\u001b[1;33m\u001b[0m\u001b[1;33m\u001b[0m\u001b[0m\n\u001b[0;32m      5\u001b[0m \u001b[1;33m\u001b[0m\u001b[0m\n",
      "\u001b[1;31mModuleNotFoundError\u001b[0m: No module named 'newspaper'"
     ]
    }
   ],
   "source": [
    "from newspaper import Article \n",
    "\n",
    "#A new article from TOI \n",
    "url = \"http:// timesofindia.indiatimes.com/world/china/chinese-expert-warns-of-troops-entering-kashmir/articleshow/59516912.cms\"\n",
    "\n",
    "#For different language newspaper refer above table \n",
    "toi_article = Article(url, language=\"en\") # en for English \n",
    "\n",
    "#To download the article \n",
    "toi_article.download() \n",
    "\n",
    "#To parse the article \n",
    "toi_article.parse() \n",
    "\n",
    "#To perform natural language processing ie..nlp \n",
    "toi_article.nlp() \n",
    "\n",
    "#To extract title \n",
    "print(\"Article's Title:\") \n",
    "print(toi_article.title) \n",
    "print(\"n\") \n",
    "\n",
    "#To extract text \n",
    "print(\"Article's Text:\") \n",
    "print(toi_article.text) \n",
    "print(\"n\") \n",
    "\n",
    "#To extract summary \n",
    "print(\"Article's Summary:\") \n",
    "print(toi_article.summary) \n",
    "print(\"n\") \n",
    "\n",
    "#To extract keywords \n",
    "print(\"Article's Keywords:\") \n",
    "print(toi_article.keywords) \n"
   ]
  },
  {
   "cell_type": "code",
   "execution_count": 17,
   "metadata": {},
   "outputs": [
    {
     "ename": "NameError",
     "evalue": "name 'row' is not defined",
     "output_type": "error",
     "traceback": [
      "\u001b[1;31m---------------------------------------------------------------------------\u001b[0m",
      "\u001b[1;31mNameError\u001b[0m                                 Traceback (most recent call last)",
      "\u001b[1;32m<ipython-input-17-3695deaa4d6a>\u001b[0m in \u001b[0;36m<module>\u001b[1;34m\u001b[0m\n\u001b[0;32m     16\u001b[0m \u001b[1;33m\u001b[0m\u001b[0m\n\u001b[0;32m     17\u001b[0m \u001b[0mquote\u001b[0m \u001b[1;33m=\u001b[0m \u001b[1;33m{\u001b[0m\u001b[1;33m}\u001b[0m\u001b[1;33m\u001b[0m\u001b[1;33m\u001b[0m\u001b[0m\n\u001b[1;32m---> 18\u001b[1;33m \u001b[0mquote\u001b[0m\u001b[1;33m[\u001b[0m\u001b[1;34m'theme'\u001b[0m\u001b[1;33m]\u001b[0m \u001b[1;33m=\u001b[0m \u001b[0mrow\u001b[0m\u001b[1;33m.\u001b[0m\u001b[0mh5\u001b[0m\u001b[1;33m.\u001b[0m\u001b[0mtext\u001b[0m\u001b[1;33m\u001b[0m\u001b[1;33m\u001b[0m\u001b[0m\n\u001b[0m\u001b[0;32m     19\u001b[0m \u001b[0mquote\u001b[0m\u001b[1;33m[\u001b[0m\u001b[1;34m'url'\u001b[0m\u001b[1;33m]\u001b[0m \u001b[1;33m=\u001b[0m \u001b[0mrow\u001b[0m\u001b[1;33m.\u001b[0m\u001b[0ma\u001b[0m\u001b[1;33m[\u001b[0m\u001b[1;34m'href'\u001b[0m\u001b[1;33m]\u001b[0m\u001b[1;33m\u001b[0m\u001b[1;33m\u001b[0m\u001b[0m\n\u001b[0;32m     20\u001b[0m \u001b[0mquote\u001b[0m\u001b[1;33m[\u001b[0m\u001b[1;34m'img'\u001b[0m\u001b[1;33m]\u001b[0m \u001b[1;33m=\u001b[0m \u001b[0mrow\u001b[0m\u001b[1;33m.\u001b[0m\u001b[0mimg\u001b[0m\u001b[1;33m[\u001b[0m\u001b[1;34m'src'\u001b[0m\u001b[1;33m]\u001b[0m\u001b[1;33m\u001b[0m\u001b[1;33m\u001b[0m\u001b[0m\n",
      "\u001b[1;31mNameError\u001b[0m: name 'row' is not defined"
     ]
    }
   ],
   "source": [
    "#Python program to scrape website \n",
    "#and save quotes from website \n",
    "import requests \n",
    "from bs4 import BeautifulSoup \n",
    "import csv \n",
    "\n",
    "URL = \"http://www.values.com/inspirational-quotes\"\n",
    "r = requests.get(URL) \n",
    "\n",
    "soup = BeautifulSoup(r.content, 'html.parser') \n",
    "\n",
    "quotes=[] # a list to store quotes \n",
    "\n",
    "table = soup.find('div') \n",
    "\n",
    " \n",
    "quote = {} \n",
    "quote['theme'] = row.h5.text \n",
    "quote['url'] = row.a['href'] \n",
    "quote['img'] = row.img['src'] \n",
    "quote['lines'] = row.h6.text \n",
    "quote['author'] = row.p.text \n",
    "quotes.append(quote) \n",
    "\n",
    "filename = 'inspirational_quotes.csv'\n",
    "with open(filename, 'wb') as f: \n",
    "\tw = csv.DictWriter(f,['theme','url','img','lines','author']) \n",
    "\tw.writeheader() \n",
    "\tfor quote in quotes: \n",
    "\t\tw.writerow(quote) \n"
   ]
  },
  {
   "cell_type": "code",
   "execution_count": 20,
   "metadata": {},
   "outputs": [
    {
     "ename": "NameError",
     "evalue": "name 'urllib2' is not defined",
     "output_type": "error",
     "traceback": [
      "\u001b[1;31m---------------------------------------------------------------------------\u001b[0m",
      "\u001b[1;31mNameError\u001b[0m                                 Traceback (most recent call last)",
      "\u001b[1;32m<ipython-input-20-8a7b36ab2e15>\u001b[0m in \u001b[0;36m<module>\u001b[1;34m\u001b[0m\n\u001b[0;32m     11\u001b[0m     \u001b[1;32mreturn\u001b[0m \u001b[0mlinks\u001b[0m\u001b[1;33m\u001b[0m\u001b[1;33m\u001b[0m\u001b[0m\n\u001b[0;32m     12\u001b[0m \u001b[1;33m\u001b[0m\u001b[0m\n\u001b[1;32m---> 13\u001b[1;33m \u001b[0mprint\u001b[0m\u001b[1;33m(\u001b[0m \u001b[0mgetLinks\u001b[0m\u001b[1;33m(\u001b[0m\u001b[1;34m\"https://arstechnica.com\"\u001b[0m\u001b[1;33m)\u001b[0m \u001b[1;33m)\u001b[0m\u001b[1;33m\u001b[0m\u001b[1;33m\u001b[0m\u001b[0m\n\u001b[0m",
      "\u001b[1;32m<ipython-input-20-8a7b36ab2e15>\u001b[0m in \u001b[0;36mgetLinks\u001b[1;34m(url)\u001b[0m\n\u001b[0;32m      2\u001b[0m \u001b[1;33m\u001b[0m\u001b[0m\n\u001b[0;32m      3\u001b[0m \u001b[1;32mdef\u001b[0m \u001b[0mgetLinks\u001b[0m\u001b[1;33m(\u001b[0m\u001b[0murl\u001b[0m\u001b[1;33m)\u001b[0m\u001b[1;33m:\u001b[0m\u001b[1;33m\u001b[0m\u001b[1;33m\u001b[0m\u001b[0m\n\u001b[1;32m----> 4\u001b[1;33m     \u001b[0mhtml_page\u001b[0m \u001b[1;33m=\u001b[0m \u001b[0murllib2\u001b[0m\u001b[1;33m.\u001b[0m\u001b[0murlopen\u001b[0m\u001b[1;33m(\u001b[0m\u001b[0murl\u001b[0m\u001b[1;33m)\u001b[0m\u001b[1;33m\u001b[0m\u001b[1;33m\u001b[0m\u001b[0m\n\u001b[0m\u001b[0;32m      5\u001b[0m     \u001b[0msoup\u001b[0m \u001b[1;33m=\u001b[0m \u001b[0mBeautifulSoup\u001b[0m\u001b[1;33m(\u001b[0m\u001b[0mhtml_page\u001b[0m\u001b[1;33m)\u001b[0m\u001b[1;33m\u001b[0m\u001b[1;33m\u001b[0m\u001b[0m\n\u001b[0;32m      6\u001b[0m     \u001b[0mlinks\u001b[0m \u001b[1;33m=\u001b[0m \u001b[1;33m[\u001b[0m\u001b[1;33m]\u001b[0m\u001b[1;33m\u001b[0m\u001b[1;33m\u001b[0m\u001b[0m\n",
      "\u001b[1;31mNameError\u001b[0m: name 'urllib2' is not defined"
     ]
    }
   ],
   "source": [
    "from bs4 import BeautifulSoup\n",
    "import urllib2\n",
    "import re\n",
    "\n",
    "def getLinks(url):\n",
    "    html_page = urllib2.urlopen(url)\n",
    "    soup = BeautifulSoup(html_page)\n",
    "    links = []\n",
    "\n",
    "    for link in soup.findAll('a', attrs={'href': re.compile(\"^http://\")}):\n",
    "        links.append(link.get('href'))\n",
    "\n",
    "    return links\n",
    "\n",
    "print( getLinks(\"https://arstechnica.com\") )"
   ]
  },
  {
   "cell_type": "code",
   "execution_count": null,
   "metadata": {},
   "outputs": [],
   "source": []
  }
 ],
 "metadata": {
  "kernelspec": {
   "display_name": "Python 3",
   "language": "python",
   "name": "python3"
  },
  "language_info": {
   "codemirror_mode": {
    "name": "ipython",
    "version": 3
   },
   "file_extension": ".py",
   "mimetype": "text/x-python",
   "name": "python",
   "nbconvert_exporter": "python",
   "pygments_lexer": "ipython3",
   "version": "3.7.1"
  }
 },
 "nbformat": 4,
 "nbformat_minor": 2
}
