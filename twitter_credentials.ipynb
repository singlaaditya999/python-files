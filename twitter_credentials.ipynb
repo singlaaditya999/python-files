{
 "cells": [
  {
   "cell_type": "code",
   "execution_count": 1,
   "metadata": {},
   "outputs": [],
   "source": [
    "# Variables that contains the user credentials to access Twitter API \n",
    "ACCESS_TOKEN = \"1169993457198227456-xTjohbBh7NlwRAP6YCyVE8wTF9q0c9\"\n",
    "ACCESS_TOKEN_SECRET = \"ETdzzG5XkXnQZ5Up29u9BdfSPjg5SLIpvoe3kXrG8V6vS\"\n",
    "CONSUMER_KEY = \"i80X5j7SKwnGZJMZOaVUn2Ekz\"\n",
    "CONSUMER_SECRET = \"ACLOOG7gelPIjPMhgFuru8m29xAD2hXA5WDMROr34J6WTtXDwj\""
   ]
  },
  {
   "cell_type": "code",
   "execution_count": null,
   "metadata": {},
   "outputs": [],
   "source": []
  }
 ],
 "metadata": {
  "kernelspec": {
   "display_name": "Python 3",
   "language": "python",
   "name": "python3"
  },
  "language_info": {
   "codemirror_mode": {
    "name": "ipython",
    "version": 3
   },
   "file_extension": ".py",
   "mimetype": "text/x-python",
   "name": "python",
   "nbconvert_exporter": "python",
   "pygments_lexer": "ipython3",
   "version": "3.7.1"
  }
 },
 "nbformat": 4,
 "nbformat_minor": 2
}
