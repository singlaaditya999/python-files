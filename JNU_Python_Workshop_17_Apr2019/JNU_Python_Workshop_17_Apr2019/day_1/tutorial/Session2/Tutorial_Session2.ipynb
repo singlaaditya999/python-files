{
 "cells": [
  {
   "cell_type": "markdown",
   "metadata": {
    "colab_type": "text",
    "id": "xNPnJI9d5n5g"
   },
   "source": [
    "Strings and Lists Tutorial: developed by Sheetal Taneja (Assistant Professor, Dyal Singh College), Ankit Rajpal (Assistant Professor, Deen Dayal Upadhyaya College), Naveen Kumar (Professor, Department of Computer Science), University of Delhi.   "
   ]
  },
  {
   "cell_type": "markdown",
   "metadata": {
    "colab_type": "text",
    "id": "sDecjL0p6OVd"
   },
   "source": [
    "# Strings and Lists"
   ]
  },
  {
   "cell_type": "markdown",
   "metadata": {
    "colab_type": "text",
    "id": "iZ0V_uY06OVt"
   },
   "source": [
    "## <font color= blue > Strings </font>\n",
    "* A string is a sequence of characters. \n",
    "* A string may be specified by placing the member characters of the sequence within quotes (single, double or triple). \n",
    "* Triple quotes are typically used for strings that span multiple lines."
   ]
  },
  {
   "cell_type": "code",
   "execution_count": 1,
   "metadata": {
    "colab": {},
    "colab_type": "code",
    "collapsed": true,
    "id": "48MSkI2Z6OV4"
   },
   "outputs": [],
   "source": [
    "message = 'Hello Gita'"
   ]
  },
  {
   "cell_type": "markdown",
   "metadata": {
    "colab_type": "text",
    "id": "ZrJWuY2-6OWd"
   },
   "source": [
    "### <font color= green > Computing Length using len function </font>\n"
   ]
  },
  {
   "cell_type": "code",
   "execution_count": 2,
   "metadata": {
    "colab": {},
    "colab_type": "code",
    "id": "iyLdTKtW6OWq",
    "outputId": "23c60ca0-2d20-406b-e8f7-4277582b19ef"
   },
   "outputs": [
    {
     "name": "stdout",
     "output_type": "stream",
     "text": [
      "10\n"
     ]
    }
   ],
   "source": [
    "print(len(message))"
   ]
  },
  {
   "cell_type": "markdown",
   "metadata": {
    "colab_type": "text",
    "id": "sKbF-ytD6OXR"
   },
   "source": [
    "### <font color= green > Indexing </font>\n",
    "* Individual characters within a string are accessed using a technique known as indexing.\n",
    "<div style=\"width: 600px;\"> \n",
    "  \n",
    "  ![title](1.png) \n",
    "</div>"
   ]
  },
  {
   "cell_type": "code",
   "execution_count": 3,
   "metadata": {
    "colab": {},
    "colab_type": "code",
    "id": "5JP5LyTy6OXZ",
    "outputId": "f0a56ce3-fb51-435e-ce9d-698cf0298fe0"
   },
   "outputs": [
    {
     "name": "stdout",
     "output_type": "stream",
     "text": [
      "H G a a\n"
     ]
    }
   ],
   "source": [
    "index = len(message) - 1\n",
    "print(message[0], message[6], message[index], message[-1])"
   ]
  },
  {
   "cell_type": "code",
   "execution_count": 4,
   "metadata": {
    "colab": {},
    "colab_type": "code",
    "id": "Iur2As5f6OYG",
    "outputId": "d35b6024-7773-463e-bd59-832bd7069b03"
   },
   "outputs": [
    {
     "ename": "IndexError",
     "evalue": "string index out of range",
     "output_type": "error",
     "traceback": [
      "\u001b[1;31m---------------------------------------------------------------------------\u001b[0m",
      "\u001b[1;31mIndexError\u001b[0m                                Traceback (most recent call last)",
      "\u001b[1;32m<ipython-input-4-293944f9458b>\u001b[0m in \u001b[0;36m<module>\u001b[1;34m()\u001b[0m\n\u001b[1;32m----> 1\u001b[1;33m \u001b[0mprint\u001b[0m\u001b[1;33m(\u001b[0m\u001b[0mmessage\u001b[0m\u001b[1;33m[\u001b[0m\u001b[1;36m15\u001b[0m\u001b[1;33m]\u001b[0m\u001b[1;33m)\u001b[0m\u001b[1;33m\u001b[0m\u001b[0m\n\u001b[0m",
      "\u001b[1;31mIndexError\u001b[0m: string index out of range"
     ]
    }
   ],
   "source": [
    "print(message[15])"
   ]
  },
  {
   "cell_type": "markdown",
   "metadata": {
    "colab_type": "text",
    "id": "kCSbnZC-6OYi"
   },
   "source": [
    "### <font color= green > Slicing </font>\n",
    "* In order to extract the substring comprising the character sequence having indices from start to end-1, we specify the range in the form start:end.\n",
    "* Python also allows us to extract a subsequence of the form _start:end:inc_."
   ]
  },
  {
   "cell_type": "code",
   "execution_count": 5,
   "metadata": {
    "colab": {},
    "colab_type": "code",
    "id": "I9VMoJyd6OYv",
    "outputId": "4153f7db-11df-4a30-a88d-29056f923f07"
   },
   "outputs": [
    {
     "name": "stdout",
     "output_type": "stream",
     "text": [
      "Hello Hello\n"
     ]
    }
   ],
   "source": [
    "message = 'Hello Sita'\n",
    "print(message[0:5], message[-10:-5])"
   ]
  },
  {
   "cell_type": "code",
   "execution_count": 6,
   "metadata": {
    "colab": {},
    "colab_type": "code",
    "id": "xAdoR_bq6OZT",
    "outputId": "e3963e6a-c1de-4236-b7bf-a0e4f473de38"
   },
   "outputs": [
    {
     "name": "stdout",
     "output_type": "stream",
     "text": [
      "HloSt\n",
      "Hello Sita\n"
     ]
    }
   ],
   "source": [
    "print(message[0:len(message):2])\n",
    "print(message[:])"
   ]
  },
  {
   "cell_type": "markdown",
   "metadata": {
    "colab_type": "text",
    "id": "1CrMJEB_6OaO"
   },
   "source": [
    "### <font color= green > Membership Operator in</font>\n",
    "* Python also allows us to check for membership of the individual characters or substrings in strings using in operator."
   ]
  },
  {
   "cell_type": "code",
   "execution_count": 7,
   "metadata": {
    "colab": {},
    "colab_type": "code",
    "id": "O8gEBv4a6OaV",
    "outputId": "0fb4ac75-c39c-4f85-8758-aede997a30da"
   },
   "outputs": [
    {
     "data": {
      "text/plain": [
       "True"
      ]
     },
     "execution_count": 7,
     "metadata": {},
     "output_type": "execute_result"
    }
   ],
   "source": [
    "'h' in 'hello'"
   ]
  },
  {
   "cell_type": "code",
   "execution_count": 8,
   "metadata": {
    "colab": {},
    "colab_type": "code",
    "id": "GnSf4Cap6Oa1",
    "outputId": "cf571a67-7765-4bae-913a-2536f806846f"
   },
   "outputs": [
    {
     "data": {
      "text/plain": [
       "True"
      ]
     },
     "execution_count": 8,
     "metadata": {},
     "output_type": "execute_result"
    }
   ],
   "source": [
    "'ell' in 'hello'"
   ]
  },
  {
   "cell_type": "code",
   "execution_count": 9,
   "metadata": {
    "colab": {},
    "colab_type": "code",
    "id": "y_W-lF8Z6ObN",
    "outputId": "e30fbacb-509f-4ca1-f4c9-1d2e7f2b74b0"
   },
   "outputs": [
    {
     "data": {
      "text/plain": [
       "False"
      ]
     },
     "execution_count": 9,
     "metadata": {},
     "output_type": "execute_result"
    }
   ],
   "source": [
    "'h' in 'Hello'"
   ]
  },
  {
   "cell_type": "markdown",
   "metadata": {
    "colab_type": "text",
    "id": "JymPmqNA6Obr"
   },
   "source": [
    "## <font color= blue > **Built-in Functions on Strings** </font>\n"
   ]
  },
  {
   "cell_type": "markdown",
   "metadata": {
    "colab_type": "text",
    "id": "FLA0tWlh6Obx"
   },
   "source": [
    "### <font color=green> Function: count </font>\n",
    "* For counting number of occurrences of a substring."
   ]
  },
  {
   "cell_type": "code",
   "execution_count": 10,
   "metadata": {
    "colab": {},
    "colab_type": "code",
    "id": "jGPX-tIh6Ob2",
    "outputId": "b892cf35-6722-459d-ebf7-43c66b90b2f6"
   },
   "outputs": [
    {
     "data": {
      "text/plain": [
       "2"
      ]
     },
     "execution_count": 10,
     "metadata": {},
     "output_type": "execute_result"
    }
   ],
   "source": [
    "'Encyclopedia'.count('c')"
   ]
  },
  {
   "cell_type": "code",
   "execution_count": 11,
   "metadata": {
    "colab": {},
    "colab_type": "code",
    "id": "3-om-LVd6OcJ",
    "outputId": "0f30ad22-87aa-4188-d64a-7a18d6c9fae5"
   },
   "outputs": [
    {
     "name": "stdout",
     "output_type": "stream",
     "text": [
      "5\n"
     ]
    }
   ],
   "source": [
    "vowels = 'AEIOUaeiou'\n",
    "vowelCount = 0\n",
    "for ch in vowels:\n",
    "    vowelCount += 'Encyclopedia'.count(ch)\n",
    "print(vowelCount)"
   ]
  },
  {
   "cell_type": "markdown",
   "metadata": {
    "colab_type": "text",
    "id": "0T5hu-Cm6Ocs"
   },
   "source": [
    "### <font color= green > Functions find and rfind </font>\n",
    "* Function **find**: Returns the index of the first occurrence of a string.\n",
    "* Function **rfind**: Returns the index of the last occurrence of a string."
   ]
  },
  {
   "cell_type": "code",
   "execution_count": 12,
   "metadata": {
    "colab": {},
    "colab_type": "code",
    "id": "S8O6a0wc6Oc0",
    "outputId": "478df7c1-42f5-4dc2-ad82-9e2d4a9dbaeb"
   },
   "outputs": [
    {
     "name": "stdout",
     "output_type": "stream",
     "text": [
      "colors.find('red'):  7\n",
      "colors.rfind('red'):  23\n",
      "colors.find('orange'):  -1\n"
     ]
    }
   ],
   "source": [
    "colors = 'green, red, blue, red, red, green'\n",
    "print(\"colors.find('red'): \", colors.find('red'))\n",
    "print(\"colors.rfind('red'): \", colors.rfind('red'))\n",
    "print(\"colors.find('orange'): \", colors.find('orange'))"
   ]
  },
  {
   "cell_type": "markdown",
   "metadata": {
    "colab_type": "text",
    "id": "ejUJZ1UQ6Odf"
   },
   "source": [
    "### <font color= green > Functions capitalize, title, lower, upper, and swapcase </font>\n",
    "* Function **capitalize**: converting the first letter of a string to uppercase character and converting the remaining letters in the string to lowercase.\n",
    "* Function **title**: Capitalize the first letter of each word in a string and change the remaining letters to lowercase.\n",
    "* Function **lower**: Convert all letters in a string to lowercase.\n",
    "* Function **upper**: Convert all letters in a string to uppercase."
   ]
  },
  {
   "cell_type": "code",
   "execution_count": 13,
   "metadata": {
    "colab": {},
    "colab_type": "code",
    "id": "8B2V4yxM6Odu",
    "outputId": "e552d0fb-bcea-444f-d9f0-c76ed9a54e1c"
   },
   "outputs": [
    {
     "data": {
      "text/plain": [
       "'Python is a language'"
      ]
     },
     "execution_count": 13,
     "metadata": {},
     "output_type": "execute_result"
    }
   ],
   "source": [
    "'python IS a Language'.capitalize()"
   ]
  },
  {
   "cell_type": "code",
   "execution_count": 14,
   "metadata": {
    "colab": {},
    "colab_type": "code",
    "id": "Ih46KzWS6OeL",
    "outputId": "4dd12faa-ec81-42bc-aacc-627c60beaac7"
   },
   "outputs": [
    {
     "data": {
      "text/plain": [
       "'Python Is A Programming Language'"
      ]
     },
     "execution_count": 14,
     "metadata": {},
     "output_type": "execute_result"
    }
   ],
   "source": [
    "'python IS a PROGRAMMING Language'.title()"
   ]
  },
  {
   "cell_type": "code",
   "execution_count": 15,
   "metadata": {
    "colab": {},
    "colab_type": "code",
    "id": "UkZ_rSKA6Oeg",
    "outputId": "e4cf5036-9872-4864-d073-bc0eed43f28d"
   },
   "outputs": [
    {
     "data": {
      "text/plain": [
       "True"
      ]
     },
     "execution_count": 15,
     "metadata": {},
     "output_type": "execute_result"
    }
   ],
   "source": [
    "emailId1 = 'geek@gmail.com'\n",
    "emailId2 = 'Geek@gmail.com'\n",
    "emailId1.lower() == emailId2.lower()"
   ]
  },
  {
   "cell_type": "markdown",
   "metadata": {
    "colab_type": "text",
    "id": "g7tf4Rin6OfC"
   },
   "source": [
    "### <font color= green > Function swapcase </font>"
   ]
  },
  {
   "cell_type": "code",
   "execution_count": 16,
   "metadata": {
    "colab": {},
    "colab_type": "code",
    "id": "zSQIFST36OfH",
    "outputId": "18b86e13-56c2-42fc-8865-961b61572501"
   },
   "outputs": [
    {
     "data": {
      "text/plain": [
       "'aNILkUMAR'"
      ]
     },
     "execution_count": 16,
     "metadata": {},
     "output_type": "execute_result"
    }
   ],
   "source": [
    "'AnilKumar'.swapcase()"
   ]
  },
  {
   "cell_type": "markdown",
   "metadata": {
    "colab_type": "text",
    "id": "ke0xIWLd6OfY"
   },
   "source": [
    "### <font color= green > Functions islower, isupper, isalpha, isdigit, and isalnum </font>"
   ]
  },
  {
   "cell_type": "code",
   "execution_count": 17,
   "metadata": {
    "colab": {},
    "colab_type": "code",
    "id": "GlYuamOz6Ofc",
    "outputId": "66de30be-f574-49f9-fae5-2fd3563100a5"
   },
   "outputs": [
    {
     "data": {
      "text/plain": [
       "True"
      ]
     },
     "execution_count": 17,
     "metadata": {},
     "output_type": "execute_result"
    }
   ],
   "source": [
    "'python'.islower()"
   ]
  },
  {
   "cell_type": "code",
   "execution_count": 18,
   "metadata": {
    "colab": {},
    "colab_type": "code",
    "id": "5sNhtr966Ofp",
    "outputId": "2cd28daa-1f74-476c-8778-aed66129ba32"
   },
   "outputs": [
    {
     "data": {
      "text/plain": [
       "False"
      ]
     },
     "execution_count": 18,
     "metadata": {},
     "output_type": "execute_result"
    }
   ],
   "source": [
    "'Python'.isupper()"
   ]
  },
  {
   "cell_type": "code",
   "execution_count": 19,
   "metadata": {
    "colab": {},
    "colab_type": "code",
    "id": "nQp23cnz6Of_",
    "outputId": "f33fac84-bd83-407f-d4e2-cab4ecee4360"
   },
   "outputs": [
    {
     "data": {
      "text/plain": [
       "True"
      ]
     },
     "execution_count": 19,
     "metadata": {},
     "output_type": "execute_result"
    }
   ],
   "source": [
    "'9953799924'.isdigit()"
   ]
  },
  {
   "cell_type": "code",
   "execution_count": 2,
   "metadata": {
    "colab": {},
    "colab_type": "code",
    "id": "JXL8EbJy6Ogs",
    "outputId": "6fa19910-6195-419b-d950-baa5ff18beca"
   },
   "outputs": [
    {
     "data": {
      "text/plain": [
       "False"
      ]
     },
     "execution_count": 2,
     "metadata": {},
     "output_type": "execute_result"
    }
   ],
   "source": [
    "'Nikhil Kumar'.isalpha()"
   ]
  },
  {
   "cell_type": "code",
   "execution_count": 21,
   "metadata": {
    "colab": {},
    "colab_type": "code",
    "id": "NtNzcpFX6OhF",
    "outputId": "fa111b0b-1c41-47ce-fa0c-2f4fb78ac649"
   },
   "outputs": [
    {
     "data": {
      "text/plain": [
       "True"
      ]
     },
     "execution_count": 21,
     "metadata": {},
     "output_type": "execute_result"
    }
   ],
   "source": [
    "password = 'Kailash107Ganga'\n",
    "password.isalnum()"
   ]
  },
  {
   "cell_type": "markdown",
   "metadata": {
    "colab_type": "text",
    "id": "EVsqseqm6Ohk"
   },
   "source": [
    "### <font color= green > Function replace </font>\n",
    "* It allows to replace part of a string by another string.\n",
    "* It takes two arguments as inputs. The first argument is used to specify the substring that is to be replaced. The second argument is used to specify the string that replaces the first string."
   ]
  },
  {
   "cell_type": "code",
   "execution_count": 22,
   "metadata": {
    "colab": {},
    "colab_type": "code",
    "collapsed": true,
    "id": "HdoTS_zy6Ohs"
   },
   "outputs": [],
   "source": [
    "message = 'Amey my friend, Amey my guide'"
   ]
  },
  {
   "cell_type": "code",
   "execution_count": 23,
   "metadata": {
    "colab": {},
    "colab_type": "code",
    "id": "XYkE2Vgp6Oh2",
    "outputId": "bd1b99ee-31b1-45c0-8696-460c1322d3e9"
   },
   "outputs": [
    {
     "data": {
      "text/plain": [
       "'Vihan my friend, Vihan my guide'"
      ]
     },
     "execution_count": 23,
     "metadata": {},
     "output_type": "execute_result"
    }
   ],
   "source": [
    "message.replace('Amey', 'Vihan')"
   ]
  },
  {
   "cell_type": "markdown",
   "metadata": {
    "colab_type": "text",
    "id": "V7blArJC6OiW"
   },
   "source": [
    "### <font color= green > Functions strip, lstrip, and rstrip </font>\n",
    "* The functions **lstrip** and **rstrip** remove whitespaces from the beginning and end, respectively. \n",
    "* The function **strip** removes whitespaces from the beginning as well as the end of a string."
   ]
  },
  {
   "cell_type": "code",
   "execution_count": 24,
   "metadata": {
    "colab": {},
    "colab_type": "code",
    "id": "EcDnZ3kH6Oib",
    "outputId": "003484d7-64be-4660-d711-6bef55894987"
   },
   "outputs": [
    {
     "data": {
      "text/plain": [
       "'Hello How are you!      '"
      ]
     },
     "execution_count": 24,
     "metadata": {},
     "output_type": "execute_result"
    }
   ],
   "source": [
    "'       Hello How are you!      '.lstrip()"
   ]
  },
  {
   "cell_type": "code",
   "execution_count": 25,
   "metadata": {
    "colab": {},
    "colab_type": "code",
    "id": "3yaGwYLb6Oir",
    "outputId": "90e5bbb9-6f5e-460d-f2d5-a5327c635191"
   },
   "outputs": [
    {
     "data": {
      "text/plain": [
       "'       Hello How are you!'"
      ]
     },
     "execution_count": 25,
     "metadata": {},
     "output_type": "execute_result"
    }
   ],
   "source": [
    "'       Hello How are you!      '.rstrip()"
   ]
  },
  {
   "cell_type": "code",
   "execution_count": 26,
   "metadata": {
    "colab": {},
    "colab_type": "code",
    "id": "tR_XF4Xj6Oi3",
    "outputId": "dd014753-9c68-4dc8-b9e1-4b0d820121ca"
   },
   "outputs": [
    {
     "data": {
      "text/plain": [
       "'Hello How are you!'"
      ]
     },
     "execution_count": 26,
     "metadata": {},
     "output_type": "execute_result"
    }
   ],
   "source": [
    "'       Hello How are you!      '.strip()"
   ]
  },
  {
   "cell_type": "markdown",
   "metadata": {
    "colab_type": "text",
    "id": "GTN-xmJd6OjV"
   },
   "source": [
    "### <font color= green > Functions split and partition </font>\n",
    "* The function **split** enables us to split a string into a list of strings based on a delimiter.\n",
    "* The function **partition** divides a string S into two parts based on a delimiter and returns a tuple comprising string before the delimiter, the delimiter itself, and the string after the delimiter"
   ]
  },
  {
   "cell_type": "code",
   "execution_count": 27,
   "metadata": {
    "colab": {},
    "colab_type": "code",
    "id": "MOkPYBtd6Ojj",
    "outputId": "3e48bdba-82e3-497d-e039-3f97bc51851d"
   },
   "outputs": [
    {
     "data": {
      "text/plain": [
       "['Red', ' Green', ' Blue', ' Orange', ' Yellow', ' Cyan']"
      ]
     },
     "execution_count": 27,
     "metadata": {},
     "output_type": "execute_result"
    }
   ],
   "source": [
    "colors = 'Red, Green, Blue, Orange, Yellow, Cyan'\n",
    "colors.split(',')"
   ]
  },
  {
   "cell_type": "code",
   "execution_count": 28,
   "metadata": {
    "colab": {},
    "colab_type": "code",
    "id": "voS7dQEX6OkV",
    "outputId": "98ac44e6-c653-4bfd-95f6-c5b3face5401"
   },
   "outputs": [
    {
     "data": {
      "text/plain": [
       "('Hello', '.', ' How are you?')"
      ]
     },
     "execution_count": 28,
     "metadata": {},
     "output_type": "execute_result"
    }
   ],
   "source": [
    "'Hello. How are you?'.partition('.')"
   ]
  },
  {
   "cell_type": "markdown",
   "metadata": {
    "colab_type": "text",
    "id": "vMRmi6XX6Okn"
   },
   "source": [
    "### <font color= green > Function join </font>\n",
    "* The function **join** returns a string comprising elements of a sequence separated by the specified delimiter."
   ]
  },
  {
   "cell_type": "code",
   "execution_count": 29,
   "metadata": {
    "colab": {},
    "colab_type": "code",
    "id": "BOkl-3Hp6Okp",
    "outputId": "90c45c9d-cc7a-4913-c853-b9f7bd3bcdc2"
   },
   "outputs": [
    {
     "data": {
      "text/plain": [
       "'I > am > ok'"
      ]
     },
     "execution_count": 29,
     "metadata": {},
     "output_type": "execute_result"
    }
   ],
   "source": [
    "' > '.join(['I', 'am', 'ok'])"
   ]
  },
  {
   "cell_type": "code",
   "execution_count": 30,
   "metadata": {
    "colab": {},
    "colab_type": "code",
    "id": "bwPSiMPJ6OlB",
    "outputId": "ce393ed8-49c5-450c-b2a9-ac932d47e9d3"
   },
   "outputs": [
    {
     "data": {
      "text/plain": [
       "'I am ok'"
      ]
     },
     "execution_count": 30,
     "metadata": {},
     "output_type": "execute_result"
    }
   ],
   "source": [
    "' '.join(('I', 'am', 'ok'))"
   ]
  },
  {
   "cell_type": "markdown",
   "metadata": {
    "colab_type": "text",
    "id": "34GA_3h06OlP"
   },
   "source": [
    "## <font color= blue > Problem: Reversing a string </font>"
   ]
  },
  {
   "cell_type": "code",
   "execution_count": 31,
   "metadata": {
    "colab": {},
    "colab_type": "code",
    "id": "KfnzeTIz6OlR",
    "outputId": "656743aa-28a7-4e82-a5ae-bb12cda0e418"
   },
   "outputs": [
    {
     "name": "stdout",
     "output_type": "stream",
     "text": [
      "Enter a string to be reversed:\n",
      "The reverse is:\n"
     ]
    }
   ],
   "source": [
    "def reverse(str1):\n",
    "    '''\n",
    "    Objective: To reverse a string\n",
    "    Input Parameter: str1 - string\n",
    "    Return Value: reverse of str1 - string\n",
    "    '''\n",
    "    reverseStr = ''\n",
    "    for i in range(len(str1)):\n",
    "        reverseStr = str1[i] + reverseStr\n",
    "    return reverseStr\n",
    "\n",
    "def main():\n",
    "    '''\n",
    "    Objective: To reverse the string provided as input\n",
    "    Input Parameter: None\n",
    "    Return Value: None\n",
    "    '''\n",
    "    myString=input('Enter a string to be reversed:')\n",
    "    reverseStr=reverse(myString)\n",
    "    print('The reverse is:' + reverseStr)\n",
    "if __name__ == '__main__':\n",
    "    main()"
   ]
  },
  {
   "cell_type": "code",
   "execution_count": 32,
   "metadata": {
    "colab": {},
    "colab_type": "code",
    "id": "7AY2EupX6Olc",
    "outputId": "f9838404-2268-465c-8ae4-f490bcceb88b"
   },
   "outputs": [
    {
     "data": {
      "text/plain": [
       "'nohtyP'"
      ]
     },
     "execution_count": 32,
     "metadata": {},
     "output_type": "execute_result"
    }
   ],
   "source": [
    "reverse('Python')"
   ]
  },
  {
   "cell_type": "markdown",
   "metadata": {
    "colab_type": "text",
    "id": "D1c84Rld6Olo"
   },
   "source": [
    "## <font color= blue > Lists </font>\n",
    "* A list is an ordered sequence of values. \n",
    "* Values stored in a list can be of any type such as string, integer, float, or list.\n",
    "* Note!! Elements of a list are enclosed in square brackets, separated by commas.\n",
    "* Unlike strings, lists are mutable, and therefore, one may modify individual elements of a list."
   ]
  },
  {
   "cell_type": "code",
   "execution_count": 4,
   "metadata": {
    "colab": {},
    "colab_type": "code",
    "id": "yCeVWU376Olq"
   },
   "outputs": [],
   "source": [
    "subjects=['Hindi', 'English', 'Maths', 'History']"
   ]
  },
  {
   "cell_type": "markdown",
   "metadata": {
    "colab_type": "text",
    "id": "d_sidlh76Olz"
   },
   "source": [
    "<div style=\"width: 500px;\"> ![title](2.png) </div>"
   ]
  },
  {
   "cell_type": "code",
   "execution_count": 8,
   "metadata": {
    "colab": {},
    "colab_type": "code",
    "id": "-5IF4YCk6Ol3"
   },
   "outputs": [],
   "source": [
    "temporary = subjects"
   ]
  },
  {
   "cell_type": "markdown",
   "metadata": {
    "colab_type": "text",
    "id": "qMlxGPVQ6Ol_"
   },
   "source": [
    "<div style=\"width: 500px;\"> ![title](3.png) </div>"
   ]
  },
  {
   "cell_type": "code",
   "execution_count": 9,
   "metadata": {
    "colab": {},
    "colab_type": "code",
    "id": "6LdtNMqt6OmC",
    "outputId": "e60a0bc8-4a41-409f-f41a-9c8f8bd41576"
   },
   "outputs": [
    {
     "ename": "IndexError",
     "evalue": "list assignment index out of range",
     "output_type": "error",
     "traceback": [
      "\u001b[1;31m---------------------------------------------------------------------------\u001b[0m",
      "\u001b[1;31mIndexError\u001b[0m                                Traceback (most recent call last)",
      "\u001b[1;32m<ipython-input-9-f524fb62c4b2>\u001b[0m in \u001b[0;36m<module>\u001b[1;34m\u001b[0m\n\u001b[1;32m----> 1\u001b[1;33m \u001b[0mtemporary\u001b[0m\u001b[1;33m[\u001b[0m\u001b[1;36m0\u001b[0m\u001b[1;33m]\u001b[0m \u001b[1;33m=\u001b[0m \u001b[1;34m'Sanskrit'\u001b[0m\u001b[1;33m\u001b[0m\u001b[1;33m\u001b[0m\u001b[0m\n\u001b[0m\u001b[0;32m      2\u001b[0m \u001b[0mprint\u001b[0m\u001b[1;33m(\u001b[0m\u001b[0mtemporary\u001b[0m\u001b[1;33m)\u001b[0m\u001b[1;33m\u001b[0m\u001b[1;33m\u001b[0m\u001b[0m\n\u001b[0;32m      3\u001b[0m \u001b[0mprint\u001b[0m\u001b[1;33m(\u001b[0m\u001b[0msubjects\u001b[0m\u001b[1;33m)\u001b[0m\u001b[1;33m\u001b[0m\u001b[1;33m\u001b[0m\u001b[0m\n",
      "\u001b[1;31mIndexError\u001b[0m: list assignment index out of range"
     ]
    }
   ],
   "source": [
    "temporary[0] = 'Sanskrit'\n",
    "print(temporary)\n",
    "print(subjects)"
   ]
  },
  {
   "cell_type": "code",
   "execution_count": 36,
   "metadata": {
    "colab": {},
    "colab_type": "code",
    "id": "XzdQQy-x6OmR",
    "outputId": "7f116eda-707d-40bc-dad6-0e8c563ded67"
   },
   "outputs": [
    {
     "data": {
      "text/plain": [
       "['English', 85]"
      ]
     },
     "execution_count": 36,
     "metadata": {},
     "output_type": "execute_result"
    }
   ],
   "source": [
    "subjectCodes = [['Sanskrit', 43], ['English', 85] , ['Maths', 65], ['History', 36]]\n",
    "subjectCodes[1]"
   ]
  },
  {
   "cell_type": "code",
   "execution_count": 37,
   "metadata": {
    "colab": {},
    "colab_type": "code",
    "id": "jnnPLEps6Omd",
    "outputId": "c65a805b-856e-4db5-ef4d-3231cea0df51"
   },
   "outputs": [
    {
     "name": "stdout",
     "output_type": "stream",
     "text": [
      "English 85\n"
     ]
    }
   ],
   "source": [
    "print(subjectCodes[1][0],subjectCodes[1][1])"
   ]
  },
  {
   "cell_type": "markdown",
   "metadata": {
    "colab_type": "text",
    "id": "4-QaBUgu6Omq"
   },
   "source": [
    "### <font color= green > Heterogeneous List </font>"
   ]
  },
  {
   "cell_type": "code",
   "execution_count": 38,
   "metadata": {
    "colab": {},
    "colab_type": "code",
    "collapsed": true,
    "id": "I19hm2dv6Omt"
   },
   "outputs": [],
   "source": [
    "details = ['Megha Verma', 'C-55, Raj Nagar, Pitam Pura, Delhi - 110034', 9876543210]"
   ]
  },
  {
   "cell_type": "markdown",
   "metadata": {
    "colab_type": "text",
    "id": "EGUMWzKL6OnB"
   },
   "source": [
    "## <font color= blue > List Operations </font>"
   ]
  },
  {
   "cell_type": "code",
   "execution_count": 4,
   "metadata": {
    "colab": {},
    "colab_type": "code",
    "id": "H7BWwmEK6OnF"
   },
   "outputs": [],
   "source": [
    "list1 = ['Red', 'Green']\n",
    "list2 = [10, 20, 30]"
   ]
  },
  {
   "cell_type": "markdown",
   "metadata": {
    "colab_type": "text",
    "id": "zASU-Gg76Onn"
   },
   "source": [
    "### <font color= green > Multiple Operator * </font>"
   ]
  },
  {
   "cell_type": "code",
   "execution_count": 5,
   "metadata": {},
   "outputs": [
    {
     "data": {
      "text/plain": [
       "['Red', 'Green', 'Red', 'Green']"
      ]
     },
     "execution_count": 5,
     "metadata": {},
     "output_type": "execute_result"
    }
   ],
   "source": [
    "list1*2"
   ]
  },
  {
   "cell_type": "code",
   "execution_count": 6,
   "metadata": {},
   "outputs": [
    {
     "data": {
      "text/plain": [
       "['Red', 'Green']"
      ]
     },
     "execution_count": 6,
     "metadata": {},
     "output_type": "execute_result"
    }
   ],
   "source": [
    "list1 "
   ]
  },
  {
   "cell_type": "code",
   "execution_count": 40,
   "metadata": {
    "colab": {},
    "colab_type": "code",
    "id": "4s4nOcrf6Onq",
    "outputId": "5172061e-038d-4ad6-9b77-3d22d68f7698"
   },
   "outputs": [
    {
     "data": {
      "text/plain": [
       "[10, 20, 30, 10, 20, 30]"
      ]
     },
     "execution_count": 40,
     "metadata": {},
     "output_type": "execute_result"
    }
   ],
   "source": [
    "list2 * 2"
   ]
  },
  {
   "cell_type": "markdown",
   "metadata": {
    "colab_type": "text",
    "id": "rnTYKqad6On5"
   },
   "source": [
    "### <font color= green > Concatenation Operator + </font>"
   ]
  },
  {
   "cell_type": "code",
   "execution_count": 41,
   "metadata": {
    "colab": {},
    "colab_type": "code",
    "id": "M0XFINt16On9",
    "outputId": "7040390c-9973-4e04-eecb-6a0e422cbe44"
   },
   "outputs": [
    {
     "data": {
      "text/plain": [
       "['Red', 'Green', 'Blue']"
      ]
     },
     "execution_count": 41,
     "metadata": {},
     "output_type": "execute_result"
    }
   ],
   "source": [
    "list1 = list1 + ['Blue']\n",
    "list1"
   ]
  },
  {
   "cell_type": "markdown",
   "metadata": {
    "colab_type": "text",
    "id": "B98Xvnqp6OoX"
   },
   "source": [
    "### <font color= green > Length Operator len </font>"
   ]
  },
  {
   "cell_type": "code",
   "execution_count": 42,
   "metadata": {
    "colab": {},
    "colab_type": "code",
    "id": "T3aQN6KY6Ooc",
    "outputId": "0b4fc4c6-3fe9-48a4-ac9b-6e11307a59c2"
   },
   "outputs": [
    {
     "data": {
      "text/plain": [
       "3"
      ]
     },
     "execution_count": 42,
     "metadata": {},
     "output_type": "execute_result"
    }
   ],
   "source": [
    "len(list1)"
   ]
  },
  {
   "cell_type": "markdown",
   "metadata": {
    "colab_type": "text",
    "id": "FvQkaWWn6Oot"
   },
   "source": [
    "### <font color= green > Indexing & Slicing </font>"
   ]
  },
  {
   "cell_type": "code",
   "execution_count": 0,
   "metadata": {
    "colab": {},
    "colab_type": "code",
    "id": "WXcQ9DRz6Oow",
    "outputId": "b4bdb091-d1ac-4df5-ace5-329d35924da7"
   },
   "outputs": [
    {
     "data": {
      "text/plain": [
       "30"
      ]
     },
     "execution_count": 160,
     "metadata": {
      "tags": []
     },
     "output_type": "execute_result"
    }
   ],
   "source": [
    "list2[-1]"
   ]
  },
  {
   "cell_type": "code",
   "execution_count": 0,
   "metadata": {
    "colab": {},
    "colab_type": "code",
    "id": "KnamLxwu6OpU",
    "outputId": "70cddd43-943f-4c6c-c2dd-3c989407c2fa"
   },
   "outputs": [
    {
     "data": {
      "text/plain": [
       "[10, 20]"
      ]
     },
     "execution_count": 161,
     "metadata": {
      "tags": []
     },
     "output_type": "execute_result"
    }
   ],
   "source": [
    "list2[0:2]"
   ]
  },
  {
   "cell_type": "code",
   "execution_count": 0,
   "metadata": {
    "colab": {},
    "colab_type": "code",
    "id": "P5RkmHrO6Opi",
    "outputId": "5000c462-926a-4878-e52f-8785424550fb"
   },
   "outputs": [
    {
     "data": {
      "text/plain": [
       "[10, 30]"
      ]
     },
     "execution_count": 162,
     "metadata": {
      "tags": []
     },
     "output_type": "execute_result"
    }
   ],
   "source": [
    "list2[0:3:2]"
   ]
  },
  {
   "cell_type": "markdown",
   "metadata": {
    "colab_type": "text",
    "id": "bXpiQyxy6Opy"
   },
   "source": [
    "### <font color= green > Function min & max </font>"
   ]
  },
  {
   "cell_type": "code",
   "execution_count": 0,
   "metadata": {
    "colab": {},
    "colab_type": "code",
    "id": "Ygvnnjzx6Op1",
    "outputId": "61806f12-fc8a-4c00-a4f0-11ab24305d9d"
   },
   "outputs": [
    {
     "data": {
      "text/plain": [
       "10"
      ]
     },
     "execution_count": 163,
     "metadata": {
      "tags": []
     },
     "output_type": "execute_result"
    }
   ],
   "source": [
    "min(list2)"
   ]
  },
  {
   "cell_type": "code",
   "execution_count": 0,
   "metadata": {
    "colab": {},
    "colab_type": "code",
    "id": "c4dGRiYs6OqE",
    "outputId": "3edc50c0-0f5e-4893-aca0-c9bf85d6c678"
   },
   "outputs": [
    {
     "data": {
      "text/plain": [
       "'Red'"
      ]
     },
     "execution_count": 164,
     "metadata": {
      "tags": []
     },
     "output_type": "execute_result"
    }
   ],
   "source": [
    "max(list1)"
   ]
  },
  {
   "cell_type": "code",
   "execution_count": 7,
   "metadata": {},
   "outputs": [
    {
     "data": {
      "text/plain": [
       "'a'"
      ]
     },
     "execution_count": 7,
     "metadata": {},
     "output_type": "execute_result"
    }
   ],
   "source": [
    "list=['a','A']\n",
    "max(list)"
   ]
  },
  {
   "cell_type": "markdown",
   "metadata": {
    "colab_type": "text",
    "id": "F3WLxHtM6OrH"
   },
   "source": [
    "### <font color= green > Function sum </font>"
   ]
  },
  {
   "cell_type": "code",
   "execution_count": 0,
   "metadata": {
    "colab": {},
    "colab_type": "code",
    "id": "ygLrcuYS6OrL",
    "outputId": "7c236086-09eb-49fc-841e-cfa3558ff3d5"
   },
   "outputs": [
    {
     "data": {
      "text/plain": [
       "60"
      ]
     },
     "execution_count": 165,
     "metadata": {
      "tags": []
     },
     "output_type": "execute_result"
    }
   ],
   "source": [
    "sum(list2)"
   ]
  },
  {
   "cell_type": "markdown",
   "metadata": {
    "colab_type": "text",
    "id": "f1P_j-F96Ore"
   },
   "source": [
    "### <font color= green > Membership Operator: in </font>"
   ]
  },
  {
   "cell_type": "code",
   "execution_count": 0,
   "metadata": {
    "colab": {},
    "colab_type": "code",
    "id": "ANpWoid66Or5",
    "outputId": "e855f2d4-d9d3-4e1b-e955-8c885bd5f6fb"
   },
   "outputs": [
    {
     "data": {
      "text/plain": [
       "False"
      ]
     },
     "execution_count": 166,
     "metadata": {
      "tags": []
     },
     "output_type": "execute_result"
    }
   ],
   "source": [
    "40 in list2"
   ]
  },
  {
   "cell_type": "code",
   "execution_count": 0,
   "metadata": {
    "colab": {},
    "colab_type": "code",
    "id": "75gMJWH06OsK",
    "outputId": "85e3a21b-6fb9-4acb-cc59-c4a6d1370c15"
   },
   "outputs": [
    {
     "name": "stdout",
     "output_type": "stream",
     "text": [
      "Ram\n",
      "Shyam\n",
      "Gita\n",
      "Sita\n"
     ]
    }
   ],
   "source": [
    "students = ['Ram', 'Shyam', 'Gita', 'Sita']\n",
    "for name in students:\n",
    "    print(name)"
   ]
  },
  {
   "cell_type": "markdown",
   "metadata": {
    "colab_type": "text",
    "id": "fvr8rEUw6Osf"
   },
   "source": [
    "### <font color= green > Function list </font>\n",
    "* The function list takes a sequence as an argument and returns a list."
   ]
  },
  {
   "cell_type": "code",
   "execution_count": 0,
   "metadata": {
    "colab": {},
    "colab_type": "code",
    "id": "rZG1whTa6Osl",
    "outputId": "d6609547-1060-41cd-899c-ecea1ddb706a"
   },
   "outputs": [
    {
     "data": {
      "text/plain": [
       "['a', 'e', 'i', 'o', 'u']"
      ]
     },
     "execution_count": 168,
     "metadata": {
      "tags": []
     },
     "output_type": "execute_result"
    }
   ],
   "source": [
    "vowels = 'aeiou'\n",
    "list(vowels)"
   ]
  },
  {
   "cell_type": "markdown",
   "metadata": {
    "colab_type": "text",
    "id": "R0A4LkCL6Os6"
   },
   "source": [
    "## <font color= blue > **Built-in Functions on Lists** </font>\n"
   ]
  },
  {
   "cell_type": "markdown",
   "metadata": {
    "colab_type": "text",
    "id": "dyz3QD_96Os_"
   },
   "source": [
    "### <font color= green > Function append </font>\n",
    "* The function append insert the object passed to it at the end of the list."
   ]
  },
  {
   "cell_type": "code",
   "execution_count": 0,
   "metadata": {
    "colab": {},
    "colab_type": "code",
    "id": "MUzTTnAw6OtB",
    "outputId": "e3ce7b1f-f62f-44a1-94b6-e6d142773b35"
   },
   "outputs": [
    {
     "name": "stdout",
     "output_type": "stream",
     "text": [
      "[10, 20, 30, 40, 35]\n"
     ]
    }
   ],
   "source": [
    "a = [10, 20, 30, 40]\n",
    "a.append(35)\n",
    "print(a)"
   ]
  },
  {
   "cell_type": "markdown",
   "metadata": {
    "colab_type": "text",
    "id": "tuuMNFhr6OtP"
   },
   "source": [
    "### <font color= green > Function extend </font>\n",
    "* The function extend accepts a sequence as an argument and puts the elements of the sequence at the end of the list."
   ]
  },
  {
   "cell_type": "code",
   "execution_count": 0,
   "metadata": {
    "colab": {},
    "colab_type": "code",
    "id": "edRsW1UY6OtT",
    "outputId": "8b529888-7673-4ef4-9fad-31890cb678bc"
   },
   "outputs": [
    {
     "name": "stdout",
     "output_type": "stream",
     "text": [
      "[10, 20, 30, 35, 40]\n"
     ]
    }
   ],
   "source": [
    "a = [10, 20, 30]\n",
    "a.extend([35,40])\n",
    "print(a)"
   ]
  },
  {
   "cell_type": "markdown",
   "metadata": {
    "colab_type": "text",
    "id": "zfQ0LIhA6Oth"
   },
   "source": [
    "### <font color= green > Function:count </font>\n",
    "* The function count returns the count of the number of times the object passed as an argument appears in the list."
   ]
  },
  {
   "cell_type": "code",
   "execution_count": 0,
   "metadata": {
    "colab": {},
    "colab_type": "code",
    "id": "ZQ8xsmse6Otj",
    "outputId": "e4937867-6b69-4f21-873a-8ffb383d5fec"
   },
   "outputs": [
    {
     "name": "stdout",
     "output_type": "stream",
     "text": [
      "3\n"
     ]
    }
   ],
   "source": [
    "a = [10, 20, 30, 10, 50, 20, 60, 20, 30, 55]\n",
    "print(a.count(20))"
   ]
  },
  {
   "cell_type": "markdown",
   "metadata": {
    "colab_type": "text",
    "id": "Ak2dc_w96Otu"
   },
   "source": [
    "### <font color= green > Function pop </font>\n",
    "* The function pop returns the element from the list whose index is passed as an argument, while removing it from the list."
   ]
  },
  {
   "cell_type": "code",
   "execution_count": 0,
   "metadata": {
    "colab": {},
    "colab_type": "code",
    "id": "-_dcN1cY6Otv",
    "outputId": "15b77a71-ad79-414d-8003-2d430c49666b"
   },
   "outputs": [
    {
     "name": "stdout",
     "output_type": "stream",
     "text": [
      "[10, 20, 30, 50, 20, 60, 20, 30, 55]\n"
     ]
    }
   ],
   "source": [
    "a = [10, 20, 30, 10, 50, 20, 60, 20, 30, 55]\n",
    "a.pop(3)\n",
    "print(a)"
   ]
  },
  {
   "cell_type": "markdown",
   "metadata": {
    "colab_type": "text",
    "id": "UqQeb1NW6Ot1"
   },
   "source": [
    "### <font color= green > Function remove </font>\n",
    "* The function remove takes the value to be removed from the list as an argument, and removes the first occurrence of that value from the list."
   ]
  },
  {
   "cell_type": "code",
   "execution_count": 0,
   "metadata": {
    "colab": {},
    "colab_type": "code",
    "id": "k7MVOR3e6Ot6",
    "outputId": "f09cee59-aff6-4110-e397-5b34e40766b4"
   },
   "outputs": [
    {
     "name": "stdout",
     "output_type": "stream",
     "text": [
      "[10, 30, 50, 20, 60, 20, 30, 55]\n"
     ]
    }
   ],
   "source": [
    "a.remove(20)\n",
    "print(a)"
   ]
  },
  {
   "cell_type": "markdown",
   "metadata": {
    "colab_type": "text",
    "id": "fk3E2xPI6OuC"
   },
   "source": [
    "### <font color= green > del Operator </font>\n",
    "* The del operator is used to remove a subsequence of elements (start:end:increment) from a list."
   ]
  },
  {
   "cell_type": "code",
   "execution_count": 0,
   "metadata": {
    "colab": {},
    "colab_type": "code",
    "id": "KBJTMXAI6OuE",
    "outputId": "6d817620-6b35-43fc-82a4-a7fa1cb7f85a"
   },
   "outputs": [
    {
     "name": "stdout",
     "output_type": "stream",
     "text": [
      "[10, 20, 20, 60, 30, 55]\n"
     ]
    }
   ],
   "source": [
    "a = [10, 20, 30, 20, 60, 20, 30, 55]\n",
    "del a[2:6:3]\n",
    "print(a)"
   ]
  },
  {
   "cell_type": "markdown",
   "metadata": {
    "colab_type": "text",
    "id": "v5lhMjjv6OuQ"
   },
   "source": [
    "### <font color= green > Function insert </font>\n",
    "* The insert function can be used to insert an object at a specified index. This function takes two arguments: the index where an object is to be inserted and the object itself."
   ]
  },
  {
   "cell_type": "code",
   "execution_count": 0,
   "metadata": {
    "colab": {},
    "colab_type": "code",
    "id": "L9wCu4ex6OuS",
    "outputId": "d9eb9edd-8893-40a2-ff61-3b8028603af6"
   },
   "outputs": [
    {
     "name": "stdout",
     "output_type": "stream",
     "text": [
      "['Ram', 'Sita', 'Shyam', 'Gita', 'Sita']\n"
     ]
    }
   ],
   "source": [
    "names = ['Ram', 'Sita', 'Gita', 'Sita']\n",
    "names.insert(2, 'Shyam')\n",
    "print(names)"
   ]
  },
  {
   "cell_type": "markdown",
   "metadata": {
    "colab_type": "text",
    "id": "_51rWSik6Ouc"
   },
   "source": [
    "### <font color= green > Function reverse </font>\n",
    "* The function reverse reverses the order of the elements in a list."
   ]
  },
  {
   "cell_type": "code",
   "execution_count": 0,
   "metadata": {
    "colab": {},
    "colab_type": "code",
    "id": "j4JkbSAp6Ouf",
    "outputId": "382aa096-6143-42d3-80ef-e39620a31f5c"
   },
   "outputs": [
    {
     "name": "stdout",
     "output_type": "stream",
     "text": [
      "['Anya', 'Sita', 'Sita', 'Ram']\n"
     ]
    }
   ],
   "source": [
    "names = ['Ram', 'Sita', 'Sita', 'Anya']\n",
    "names.reverse()\n",
    "print(names)"
   ]
  },
  {
   "cell_type": "markdown",
   "metadata": {
    "colab_type": "text",
    "id": "utoHbgwg6Our"
   },
   "source": [
    "### <font color= green > Function sort </font>\n",
    "* The function sort can be used to arrange the elements in a list in ascending order."
   ]
  },
  {
   "cell_type": "code",
   "execution_count": 6,
   "metadata": {
    "colab": {},
    "colab_type": "code",
    "id": "Jf-rdRNw6OvM",
    "outputId": "f91c968f-866b-44e3-f4d1-bb7ffe7cde40"
   },
   "outputs": [
    {
     "name": "stdout",
     "output_type": "stream",
     "text": [
      "['Anya', 'Ram', 'Sita', 'Sita']\n"
     ]
    }
   ],
   "source": [
    "names = ['Ram', 'Sita', 'Sita', 'Anya']\n",
    "names.sort()\n",
    "print(names)"
   ]
  },
  {
   "cell_type": "code",
   "execution_count": 7,
   "metadata": {
    "colab": {},
    "colab_type": "code",
    "id": "RlHexSEg6OvY",
    "outputId": "3112f494-7e91-4ed5-9931-dd4eca16ada8"
   },
   "outputs": [
    {
     "name": "stdout",
     "output_type": "stream",
     "text": [
      "['Sita', 'Sita', 'Ram', 'Anya']\n"
     ]
    }
   ],
   "source": [
    "names = ['Ram', 'Sita', 'Sita', 'Anya']\n",
    "names.sort(reverse = True)\n",
    "print(names)"
   ]
  },
  {
   "cell_type": "markdown",
   "metadata": {
    "colab_type": "text",
    "id": "2QWicV7T6Ovk"
   },
   "source": [
    "## <font color= blue > Problem: List of n terms of fibonacci series </font>"
   ]
  },
  {
   "cell_type": "code",
   "execution_count": 0,
   "metadata": {
    "colab": {},
    "colab_type": "code",
    "id": "NIHaLeWK6Ovn",
    "outputId": "3a1e6e46-bb69-441c-8b53-c317c17acd6a"
   },
   "outputs": [
    {
     "name": "stdout",
     "output_type": "stream",
     "text": [
      "Enter no. of terms:6\n",
      "[0, 1, 1, 2, 3, 5]\n"
     ]
    }
   ],
   "source": [
    "def fib(n):\n",
    "    '''\n",
    "    Objective: To return list of n terms of fibonacci series.\n",
    "    Input Parameter: n - numeric\n",
    "    Return Value: numeric\n",
    "    '''\n",
    "    '''\n",
    "    Approach:\n",
    "        Create a list with 0 and 1 as first two numbers of fibonacci series.\n",
    "        For each subsequent number, append sum of previous two numbers to\n",
    "        the list.\n",
    "    '''\n",
    "    if n <=0:\n",
    "        return None\n",
    "    elif n ==1:\n",
    "        return [0]\n",
    "    elif n == 2:\n",
    "        return [0, 1]\n",
    "    else:\n",
    "        resList = []\n",
    "        a, b = 0, 1\n",
    "        resList.append(a)\n",
    "        resList.append(b)\n",
    "        count = 3\n",
    "        while  count <= n:\n",
    "            c = a + b\n",
    "            resList.append(c)\n",
    "            a = b\n",
    "            b = c\n",
    "            count += 1\n",
    "        return resList\n",
    "\n",
    "def main():\n",
    "    '''\n",
    "    Objective: To print n terms of fibonacci series based on user input\n",
    "    Input Parameter: None\n",
    "    Return Value: None\n",
    "    '''\n",
    "    num = int(input('Enter no. of terms:'))\n",
    "    result = fib(num)\n",
    "    print(result)\n",
    "\n",
    "if __name__ == '__main__':\n",
    "    main()"
   ]
  },
  {
   "cell_type": "markdown",
   "metadata": {
    "colab_type": "text",
    "id": "hgjLAb1P6Ov1"
   },
   "source": [
    "# Exercises"
   ]
  },
  {
   "cell_type": "markdown",
   "metadata": {
    "colab_type": "text",
    "id": "qDEcaKaX6Ov3"
   },
   "source": [
    "### <font color= green > Count Words </font>"
   ]
  },
  {
   "cell_type": "code",
   "execution_count": 0,
   "metadata": {
    "colab": {},
    "colab_type": "code",
    "collapsed": true,
    "id": "djBADa7a6Ov5"
   },
   "outputs": [],
   "source": [
    "\n",
    "def wordCount(str1):\n",
    "    '''\n",
    "    Objective: To compute the number of words in the input sentence\n",
    "    Input Parameters: sentence - string\n",
    "    Return value: None\n",
    "    ''' \n",
    "    #+++ Your Code Here +++\n",
    "    count = len(words)\n",
    "    return count\n",
    "\n",
    "def main():\n",
    "    '''\n",
    "    Objective: To compute the number of words in the sentence provided as input by user\n",
    "    Input Parameter: None\n",
    "    Return Value: None\n",
    "    '''\n",
    "    sentence = input('Enter plain sentence:')\n",
    "    numWords = wordCount(sentence)\n",
    "    print('Number of words in sentence are:', numWords)\n",
    "\n",
    "if __name__ == '__main__':\n",
    "    main()\n"
   ]
  },
  {
   "cell_type": "markdown",
   "metadata": {
    "colab_type": "text",
    "id": "rX58JNZk6OwB"
   },
   "source": [
    "### <font color= green > Palindrome </font>"
   ]
  },
  {
   "cell_type": "code",
   "execution_count": 0,
   "metadata": {
    "colab": {},
    "colab_type": "code",
    "collapsed": true,
    "id": "rB1D8xvm6OwF"
   },
   "outputs": [],
   "source": [
    "def palindrome(string):\n",
    "    '''\n",
    "    Objective: To determine whether the given string is a palindrome.\n",
    "    Input Parameter: string\n",
    "    Return Value: True if string is a palindrome,  False otherwise\n",
    "    '''\n",
    "    '''\n",
    "    Approach:\n",
    "        For each position i in string, check if elements at i and\n",
    "        len(string)-(i-1) th locations are same. If this holds true for all i\n",
    "        in range [1, len(string)/2] return True else False.\n",
    "    '''\n",
    "    n = len(string)\n",
    "    if n == 0: #null string\n",
    "        return True\n",
    "    else:\n",
    "        j = n-1 #index of rightmost character\n",
    "        for i in range(n//2+1):\n",
    "            if #+++ Condition Here +++ :\n",
    "                return False #character mismatch\n",
    "            j -= 1\n",
    "        return True\n",
    "\n",
    "def main():\n",
    "    '''\n",
    "    Objective: To check whether the given string is a palindrome or not\n",
    "    Input parameter: None\n",
    "    Return alue: None\n",
    "    '''\n",
    "    '''\n",
    "    Approach:  To use function palindrome\n",
    "    '''\n",
    "    myString = input('Enter a string to check:')\n",
    "    if palindrome(myString):\n",
    "        print('String \"%s\" is a Palindrome' %(myString))\n",
    "    else:\n",
    "        print('String \"%s\" is not a Palindrome' %(myString))\n",
    "\n",
    "if __name__ == '__main__':\n",
    "    main()\n"
   ]
  },
  {
   "cell_type": "markdown",
   "metadata": {
    "colab_type": "text",
    "id": "ReUgc89z6OwK"
   },
   "source": [
    "### <font color= green > Piglatin </font>"
   ]
  },
  {
   "cell_type": "code",
   "execution_count": 0,
   "metadata": {
    "colab": {},
    "colab_type": "code",
    "collapsed": true,
    "id": "2GhJsBIa6OwM"
   },
   "outputs": [],
   "source": [
    "def convertWord(word):\n",
    "    '''\n",
    "    Objective: To convert the word to pig latin\n",
    "    Input Parameter: word\n",
    "    Return Value: pig latin word\n",
    "    '''\n",
    "    '''\n",
    "    Description of Pig-Latin:\n",
    "        Pig-Latin takes the first letter of a word, puts it at the end, and\n",
    "        appends ay. The only exception is if the first letter is a vowel, in\n",
    "        which case we keep it as it is and append hay to the end.\n",
    "        E.g. hello -> ellohay, and image -> imagehay\n",
    "    '''\n",
    "    '''\n",
    "    Approach: Extract first letter of word, examine it to form Pig-Latin word\n",
    "    '''\n",
    "    first_letter = word[0]\n",
    "    if first_letter in 'aeiouAEIOU':\n",
    "        return #+++ Your Code Here +++\n",
    "    else:\n",
    "        return #+++ Your Code Here +++\n",
    "\n",
    "\n",
    "def convertSentence(sentence):\n",
    "    '''\n",
    "    Objective: To convert text in a sentence to pig latin\n",
    "    Input Parameter: sentence\n",
    "    Return Value: Sentence in pig latin\n",
    "    '''\n",
    "    '''\n",
    "    Approach: Split sentence into words and convert each word to pig latin.\n",
    "    Return the resulted sentence with each word replaced with converted pig\n",
    "    latin word.\n",
    "    '''\n",
    "    list_of_words = sentence.split(' ')\n",
    "    new_sentence = ''\n",
    "    for word in list_of_words:\n",
    "        new_sentence = new_sentence + convertWord(word)\n",
    "        new_sentence = new_sentence + ' '\n",
    "    return new_sentence\n",
    "\n",
    "def main():\n",
    "    '''\n",
    "    Objective: To convert text in a sentence to pig latin\n",
    "    Input parameter: None\n",
    "    Output: None\n",
    "    '''\n",
    "    '''\n",
    "    Approach: To call function convertSentence\n",
    "    '''\n",
    "    text = input('Enter the text to be converted=')\n",
    "    result = convertSentence(text)\n",
    "    print('Piglatin Text:: ' + result)\n",
    "\n",
    "if __name__ == '__main__':\n",
    "    main()\n"
   ]
  },
  {
   "cell_type": "markdown",
   "metadata": {
    "colab_type": "text",
    "id": "HJCULPku6OwV"
   },
   "source": [
    "### <font color= green > Remove Duplicate </font>"
   ]
  },
  {
   "cell_type": "code",
   "execution_count": 0,
   "metadata": {
    "colab": {},
    "colab_type": "code",
    "collapsed": true,
    "id": "55zTRrw26OwZ"
   },
   "outputs": [],
   "source": [
    "def removeDuplicates(lst1):\n",
    "    '''\n",
    "    Objective: To return another list without any duplicates from the input list\n",
    "    Input Parameter: lst1- list with duplicate elements\n",
    "    Return Value: lst2 - list without duplicate elements\n",
    "    '''\n",
    "    lst2 = []\n",
    "    for el in lst1:\n",
    "        if el not in lst2:\n",
    "            #if the element el is not already in lst2, concatenate el with lst2\n",
    "            # +++ Your Code Here +++\n",
    "    return lst2\n",
    "\n",
    "def main():\n",
    "    '''\n",
    "    Objective: To remove duplicate from a list\n",
    "    Input parameter: None\n",
    "    Output: None\n",
    "    '''\n",
    "    myList = eval(input('Enter the list='))\n",
    "    result = removeDuplicates(myList)\n",
    "    print('List with no duplicates::' ,result)\n",
    "\n",
    "if __name__ == '__main__':\n",
    "    main()\n"
   ]
  },
  {
   "cell_type": "markdown",
   "metadata": {
    "colab_type": "text",
    "id": "hOg2S6d96Ows"
   },
   "source": [
    "### <font color= green > Cumulative Sum </font>"
   ]
  },
  {
   "cell_type": "code",
   "execution_count": 0,
   "metadata": {
    "colab": {},
    "colab_type": "code",
    "collapsed": true,
    "id": "PlpDcKuF6Owv"
   },
   "outputs": [],
   "source": [
    "def cumulativeList(lst1):\n",
    "    '''\n",
    "    Objective: To return another list whose ith element is the sum of all elements till ith element of lst1\n",
    "    Input Parameter: lst1- list\n",
    "    Return value: cumLst - list\n",
    "    '''\n",
    "    if len(lst1) == 0 : return []\n",
    "    cumLst = [lst1[0]]\n",
    "    for i in range(1,len(lst1)):\n",
    "        #+++ Your Code Here ++\n",
    "        cumLst.append(nextElement)\n",
    "    return cumLst\n",
    "            \n",
    "def main():\n",
    "    '''\n",
    "    Objective: To find the cumulative sum of elements of the integer list\n",
    "    Input parameter: None\n",
    "    Output: None\n",
    "    '''\n",
    "    myList = eval(input('Enter the list='))\n",
    "    result = cumulativeList(myList)\n",
    "    print('List with cumulative sum::' ,result)\n",
    "\n",
    "if __name__ == '__main__':\n",
    "    main()\n"
   ]
  }
 ],
 "metadata": {
  "colab": {
   "collapsed_sections": [
    "FLA0tWlh6Obx",
    "0T5hu-Cm6Ocs",
    "ejUJZ1UQ6Odf",
    "g7tf4Rin6OfC",
    "ke0xIWLd6OfY",
    "EVsqseqm6Ohk",
    "V7blArJC6OiW",
    "GTN-xmJd6OjV",
    "vMRmi6XX6Okn",
    "4-QaBUgu6Omq",
    "zASU-Gg76Onn",
    "rnTYKqad6On5",
    "B98Xvnqp6OoX",
    "FvQkaWWn6Oot",
    "bXpiQyxy6Opy",
    "F3WLxHtM6OrH",
    "f1P_j-F96Ore",
    "fvr8rEUw6Osf",
    "dyz3QD_96Os_",
    "tuuMNFhr6OtP",
    "zfQ0LIhA6Oth",
    "Ak2dc_w96Otu",
    "UqQeb1NW6Ot1",
    "fk3E2xPI6OuC",
    "v5lhMjjv6OuQ",
    "_51rWSik6Ouc",
    "utoHbgwg6Our",
    "qDEcaKaX6Ov3",
    "rX58JNZk6OwB",
    "ReUgc89z6OwK",
    "HJCULPku6OwV",
    "hOg2S6d96Ows"
   ],
   "name": "Tutorial_Session2.ipynb",
   "provenance": [],
   "version": "0.3.2"
  },
  "kernelspec": {
   "display_name": "Python 3",
   "language": "python",
   "name": "python3"
  },
  "language_info": {
   "codemirror_mode": {
    "name": "ipython",
    "version": 3
   },
   "file_extension": ".py",
   "mimetype": "text/x-python",
   "name": "python",
   "nbconvert_exporter": "python",
   "pygments_lexer": "ipython3",
   "version": "3.7.1"
  }
 },
 "nbformat": 4,
 "nbformat_minor": 1
}
