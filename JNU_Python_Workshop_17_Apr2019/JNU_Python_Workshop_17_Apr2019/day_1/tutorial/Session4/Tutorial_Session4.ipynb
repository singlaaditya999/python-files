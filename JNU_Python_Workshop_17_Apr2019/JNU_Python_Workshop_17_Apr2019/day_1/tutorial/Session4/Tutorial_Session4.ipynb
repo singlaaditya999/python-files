{
 "cells": [
  {
   "cell_type": "markdown",
   "metadata": {},
   "source": [
    "File Handling and Error Handling Tutorial: developed by Sheetal Taneja (Assistant Professor, Dyal Singh College), Ankit Rajpal (Assistant Professor, Deen Dayal Upadhyaya College), Naveen Kumar (Professor, Department of Computer Science), University of Delhi.   "
   ]
  },
  {
   "cell_type": "markdown",
   "metadata": {},
   "source": [
    "# <font color= blue > FILE HANDLING AND ERROR HANDLING </font>"
   ]
  },
  {
   "cell_type": "markdown",
   "metadata": {},
   "source": [
    "## <font color= blue > File Handling </font>\n",
    "* Files provide a means of communication between the program and the\n",
    "outside world. \n",
    "* A file is a stream of bytes, comprising data of\n",
    "interest.\n",
    "* **File Operations:**\n",
    "> * Create a file\n",
    "> * Reading from a file\n",
    "> * Writing to a file\n",
    "> * Append to a file\n",
    "> * **Rename a file**\n",
    "> * **Delete a file**"
   ]
  },
  {
   "cell_type": "markdown",
   "metadata": {},
   "source": [
    "### <font color= green > Opening a File </font>\n",
    "* Built-in function used: **open()**\n",
    "* This function takes the name of the file as the first argument. The second argument indicates the mode for accessing the file.\n",
    "* Modes for opening a file:\n",
    "    * read(r): to read the file\n",
    "    * write(w): to write to the file\n",
    "    * append(a): to write at the end of the file.\n",
    "    \n",
    "<br>Syntax:    <br>\n",
    "                \n",
    "     f = open(file_name, access_mode)\n",
    "                \n",
    "* Opening a non-existent file in w or a mode creates a new file with the given name\n",
    "* However, opening a non-existent file in r mode leads to an error."
   ]
  },
  {
   "cell_type": "code",
   "execution_count": null,
   "metadata": {},
   "outputs": [],
   "source": [
    "f = open('PYTHON','w')"
   ]
  },
  {
   "cell_type": "markdown",
   "metadata": {},
   "source": [
    "### <font color= green > Writing to a File </font>\n",
    "* Built-in function used: **write()**\n",
    "* To use write function, specify name of the file object, followed by the dot operator (.), followed by the name of the function.\n",
    "* Note that apart from writing the given data into a file, the function write also returns the number of characters written into the file."
   ]
  },
  {
   "cell_type": "code",
   "execution_count": null,
   "metadata": {},
   "outputs": [],
   "source": [
    "f.write('''Python:\n",
    "Python is Simple.\n",
    "Simple syntax.''')\n",
    "f.close()"
   ]
  },
  {
   "cell_type": "code",
   "execution_count": null,
   "metadata": {},
   "outputs": [],
   "source": [
    "f = open('PYTHON','w')\n",
    "for i in range(10):\n",
    "     f.write(\"This is line %d\\n\" % (i+1))\n",
    "f.close()"
   ]
  },
  {
   "cell_type": "markdown",
   "metadata": {},
   "source": [
    "### <font color= green > Reading a File </font>\n",
    "* Built-in function used: **read()**\n",
    "* To use read function, specify name of the file object, followed by the dot operator (.), followed by the name of the function\n",
    "* The read() function retrieves the contents of the entire file. "
   ]
  },
  {
   "cell_type": "code",
   "execution_count": null,
   "metadata": {},
   "outputs": [],
   "source": [
    "f.read() #attempt to read file without read mode on."
   ]
  },
  {
   "cell_type": "code",
   "execution_count": null,
   "metadata": {},
   "outputs": [],
   "source": [
    "f = open('PYTHON','r')\n",
    "f.read()"
   ]
  },
  {
   "cell_type": "code",
   "execution_count": null,
   "metadata": {},
   "outputs": [],
   "source": [
    "f.read() # reading a file reached EOF yields empty string"
   ]
  },
  {
   "cell_type": "markdown",
   "metadata": {},
   "source": [
    "We can read a fixed number of bytes from the file by specifying the number of bytes as the argument to read function."
   ]
  },
  {
   "cell_type": "code",
   "execution_count": null,
   "metadata": {},
   "outputs": [],
   "source": [
    "f = open('PYTHON','r')\n",
    "f.close()"
   ]
  },
  {
   "cell_type": "code",
   "execution_count": null,
   "metadata": {},
   "outputs": [],
   "source": [
    "f.read(6)"
   ]
  },
  {
   "cell_type": "markdown",
   "metadata": {},
   "source": [
    "**Displaying the multi-line string using the print function**"
   ]
  },
  {
   "cell_type": "code",
   "execution_count": null,
   "metadata": {},
   "outputs": [],
   "source": [
    "f = open('PYTHON','r')\n",
    "print(f.read())"
   ]
  },
  {
   "cell_type": "markdown",
   "metadata": {},
   "source": [
    "**Append Mode**"
   ]
  },
  {
   "cell_type": "code",
   "execution_count": null,
   "metadata": {},
   "outputs": [],
   "source": [
    "f = open('PYTHON','a')\n",
    "f.write(\"\\nPython is interactive1\")"
   ]
  },
  {
   "cell_type": "code",
   "execution_count": null,
   "metadata": {},
   "outputs": [],
   "source": [
    "f.close()"
   ]
  },
  {
   "cell_type": "markdown",
   "metadata": {},
   "source": [
    "**Rename a file**"
   ]
  },
  {
   "cell_type": "code",
   "execution_count": null,
   "metadata": {},
   "outputs": [],
   "source": [
    "import os\n",
    "os.rename('a.txt','g.txt')"
   ]
  },
  {
   "cell_type": "markdown",
   "metadata": {},
   "source": [
    "**Delete a file**"
   ]
  },
  {
   "cell_type": "code",
   "execution_count": null,
   "metadata": {},
   "outputs": [],
   "source": [
    "import os\n",
    "if os.path.exists(\"g.txt\"):\n",
    "  os.remove(\"g.txt\")\n",
    "else:\n",
    "  print(\"The file does not exist\")"
   ]
  },
  {
   "cell_type": "markdown",
   "metadata": {},
   "source": [
    "**Create a file**"
   ]
  },
  {
   "cell_type": "code",
   "execution_count": null,
   "metadata": {},
   "outputs": [],
   "source": [
    "f = open(\"g.txt\", \"x\")"
   ]
  },
  {
   "cell_type": "markdown",
   "metadata": {},
   "source": [
    "### <font color= green > Function close </font>\n",
    "* When a file is no longer required for reading or writing, it should be closed by invoking the function close"
   ]
  },
  {
   "cell_type": "code",
   "execution_count": null,
   "metadata": {},
   "outputs": [],
   "source": [
    "f.close()"
   ]
  },
  {
   "cell_type": "markdown",
   "metadata": {},
   "source": [
    "The function close also saves a file, which was opened for writing. Once\n",
    "a file is closed, it cannot be read or written any further unless it is opened\n",
    "again and an attempt to access the file results in an I/O (input/output) error:"
   ]
  },
  {
   "cell_type": "code",
   "execution_count": null,
   "metadata": {},
   "outputs": [],
   "source": [
    "f.write('Python was developed by Guido Van Rossum in 1991.')"
   ]
  },
  {
   "cell_type": "markdown",
   "metadata": {},
   "source": [
    "### <font color= green > Functions readline and readlines </font>"
   ]
  },
  {
   "cell_type": "markdown",
   "metadata": {},
   "source": [
    "**readline** function: reads a stream of bytes beginning the current\n",
    "position until a newline character is encountered"
   ]
  },
  {
   "cell_type": "code",
   "execution_count": null,
   "metadata": {
    "scrolled": true
   },
   "outputs": [],
   "source": [
    "f = open('PYTHON','r')\n",
    "line = f.readline()\n",
    "print('line1:', line)\n",
    "line = f.readline()\n",
    "print('line2:', line)\n",
    "line = f.readline()\n",
    "print('line3:', line)\n",
    "line = f.readline()\n",
    "print('line4:', line)\n",
    "f.close()"
   ]
  },
  {
   "cell_type": "code",
   "execution_count": null,
   "metadata": {
    "scrolled": true
   },
   "outputs": [],
   "source": [
    "f=open('PYTHON','r')\n",
    "f.readline()"
   ]
  },
  {
   "cell_type": "code",
   "execution_count": null,
   "metadata": {
    "scrolled": true
   },
   "outputs": [],
   "source": [
    "f.tell()"
   ]
  },
  {
   "cell_type": "markdown",
   "metadata": {},
   "source": [
    "**readlines** function: returns all the remaining lines of the file in the form of a list"
   ]
  },
  {
   "cell_type": "code",
   "execution_count": null,
   "metadata": {},
   "outputs": [],
   "source": [
    "f = open('PYTHON','r')\n",
    "lines = f.readlines()\n",
    "print(lines)\n",
    "f.close()"
   ]
  },
  {
   "cell_type": "code",
   "execution_count": null,
   "metadata": {},
   "outputs": [],
   "source": [
    "f= open ('PYTHON','r')\n",
    "\n",
    "line=f.readline()\n",
    "\n",
    "while (line!=''):\n",
    "    print(line)\n",
    "    line=f.readline()\n"
   ]
  },
  {
   "cell_type": "markdown",
   "metadata": {},
   "source": [
    "### <font color= green > Function writelines </font>\n",
    "**writelines** function: takes a list of lines to be written in the file as an argument"
   ]
  },
  {
   "cell_type": "code",
   "execution_count": null,
   "metadata": {},
   "outputs": [],
   "source": [
    "f = open('PYTHON', 'w')\n",
    "description = ['Python:\\n', 'Python is simple.\\n']\n",
    "f.writelines(description)\n",
    "f.close()\n",
    "\n",
    "f = open('PYTHON', 'r')\n",
    "print(f.read())\n",
    "f.close()"
   ]
  },
  {
   "cell_type": "markdown",
   "metadata": {},
   "source": [
    "### <font color= green > Functions seek and tell </font>\n",
    "* **seek()**: to reach desired position in a file\n",
    "<br>Syntax:<br>\n",
    "\n",
    "       seek(offset)\n",
    "       # offset indicates the number of bytes to be moved\n",
    "       # Returns the new absolute position\n",
    "* **tell()**: to find current position of the file object"
   ]
  },
  {
   "cell_type": "code",
   "execution_count": null,
   "metadata": {},
   "outputs": [],
   "source": [
    "f = open('PYTHON','r')\n",
    "print(f.readline())\n",
    "f.seek(0) # Changes the current file position to the beginning of the file\n",
    "print('After seeking file pointer in the beginning\\n')\n",
    "print(f.readline())"
   ]
  },
  {
   "cell_type": "code",
   "execution_count": null,
   "metadata": {},
   "outputs": [],
   "source": [
    "f.seek(0)\n",
    "f.read(4)"
   ]
  },
  {
   "cell_type": "code",
   "execution_count": null,
   "metadata": {},
   "outputs": [],
   "source": [
    "f.tell()"
   ]
  },
  {
   "cell_type": "markdown",
   "metadata": {},
   "source": [
    "**Writing Structures to file: Pickle**\n",
    "    > Pickling refers to the process of converting the structure to a byte stream before writing to the fle.\n",
    "   \n",
    "    > While reading the contents of the fle, a reverse process called unpickling is used to convert the byte stream back to the original structure.\n",
    "    \n",
    "    > We can save the memory and improve the performance by directlt writing the binary data on the file. \n",
    "    \n",
    "    > It can't be opened by any other applications"
   ]
  },
  {
   "cell_type": "code",
   "execution_count": null,
   "metadata": {},
   "outputs": [],
   "source": [
    "import pickle\n",
    "def main():\n",
    "    '''\n",
    "    Objective: To write and read a list and dictionary to and from a file\n",
    "    Input Parameter: None\n",
    "    Return Value: None\n",
    "    '''\n",
    "    f = open('file1', 'wb')\n",
    "    pickle.dump(['hello', 'world'], f)\n",
    "    pickle.dump({1:'one', 2:'four'}, f)\n",
    "    f.close()\n",
    "    \n",
    "    f = open('file1', 'rb')   #rb read binary\n",
    "    value1 = pickle.load(f)\n",
    "    value2 = pickle.load(f)\n",
    "    print(value1, value2)\n",
    "    f.close()\n",
    "\n",
    "if __name__ == '__main__':\n",
    "    main()\n"
   ]
  },
  {
   "cell_type": "markdown",
   "metadata": {},
   "source": [
    "## <font color= blue > Error Handling </font>\n",
    "* Error occurs when something goes wrong.\n",
    "* The errors in Python programming may be categorized as:\n",
    "    * Syntax Errors\n",
    "    * Exceptions"
   ]
  },
  {
   "cell_type": "markdown",
   "metadata": {},
   "source": [
    "## <font color= blue > Syntax Error </font>\n",
    "A syntax error occurs when a rule of Python grammar is violated."
   ]
  },
  {
   "cell_type": "code",
   "execution_count": null,
   "metadata": {},
   "outputs": [],
   "source": [
    "print('Hello)   # missing quote mark at the end of the string"
   ]
  },
  {
   "cell_type": "code",
   "execution_count": null,
   "metadata": {},
   "outputs": [],
   "source": [
    "for i in range(0, 10)   # missing colon in the for statement"
   ]
  },
  {
   "cell_type": "markdown",
   "metadata": {},
   "source": [
    "## <font color= blue > Exceptions </font>\n",
    "* Errors that occur at execution time.  \n",
    "* These errors disrupt the flow of the program at a run-time by terminating the execution at the point of occurrence of the error. \n",
    "* We have noticed that whenever an exception occurs, a Traceback object is displayed which includes error name, <br> its description, and the point of occurrence of the error such as line number."
   ]
  },
  {
   "cell_type": "markdown",
   "metadata": {},
   "source": [
    "### <font color= green > NameError </font>\n",
    "This exception occurs whenever a name that appears in a statement is not found globally."
   ]
  },
  {
   "cell_type": "code",
   "execution_count": null,
   "metadata": {},
   "outputs": [],
   "source": [
    "marks = Input('Enter your marks')"
   ]
  },
  {
   "cell_type": "code",
   "execution_count": null,
   "metadata": {},
   "outputs": [],
   "source": [
    "price=10\n",
    "print(Price)"
   ]
  },
  {
   "cell_type": "markdown",
   "metadata": {},
   "source": [
    "### <font color= green > TypeError </font>\n",
    "This exception occurs when an operation or function is applied to an object of inappropriate type."
   ]
  },
  {
   "cell_type": "code",
   "execution_count": null,
   "metadata": {},
   "outputs": [],
   "source": [
    "'sum of 2 and 3 is ' + 5"
   ]
  },
  {
   "cell_type": "markdown",
   "metadata": {},
   "source": [
    "### <font color= green > ValueError </font>\n",
    "This exception occurs whenever an inappropriate argument value, even though of correct type, is used in a function call."
   ]
  },
  {
   "cell_type": "code",
   "execution_count": null,
   "metadata": {},
   "outputs": [],
   "source": [
    "int('12345s')"
   ]
  },
  {
   "cell_type": "markdown",
   "metadata": {},
   "source": [
    "### <font color= green > ZeroDivisionError </font>\n",
    "This exception occurs when we try to perform numeric division in which the denominator happens to be zero."
   ]
  },
  {
   "cell_type": "code",
   "execution_count": null,
   "metadata": {},
   "outputs": [],
   "source": [
    "78/(2+3-5)"
   ]
  },
  {
   "cell_type": "markdown",
   "metadata": {},
   "source": [
    "### <font color= green > FileNotFoundError </font>\n",
    "This exception occurs whenever there is an error related to input/output. "
   ]
  },
  {
   "cell_type": "code",
   "execution_count": null,
   "metadata": {},
   "outputs": [],
   "source": [
    "# opening a non-existent file for reading or reading a file opened in write mode\n",
    "f = open('passwordFile.txt')"
   ]
  },
  {
   "cell_type": "markdown",
   "metadata": {},
   "source": [
    "### <font color= green > IndexError </font>\n",
    "This exception occurs whenever we try to access an index that is out of a valid range."
   ]
  },
  {
   "cell_type": "code",
   "execution_count": null,
   "metadata": {},
   "outputs": [],
   "source": [
    "colors = ['red', 'green', 'blue']"
   ]
  },
  {
   "cell_type": "code",
   "execution_count": null,
   "metadata": {},
   "outputs": [],
   "source": [
    "colors[4]"
   ]
  },
  {
   "cell_type": "markdown",
   "metadata": {},
   "source": [
    "## <font color= blue > Handling Exceptions using Try...Except </font>\n",
    "* To prevent a program from terminating abruptly when an exception is raised, we need to handle it by catching it and taking appropriate action using the try…except clause. \n",
    "    * try block: statements having potential to raise an exception.\n",
    "    * except block: action to be performed when exception is raised.\n",
    "    * finally block: executed irrespective of whether an exception is raised."
   ]
  },
  {
   "cell_type": "code",
   "execution_count": null,
   "metadata": {},
   "outputs": [],
   "source": [
    "def main():\n",
    "    '''\n",
    "    Objective: To open a file for reading\n",
    "    Input Parameter: None\n",
    "    Return Value: None\n",
    "    '''\n",
    "    try:\n",
    "        f = open('abc' , 'r')\n",
    "    except IOError:\n",
    "        print('Problem with Input Output... ')\n",
    "    print('Program continues smoothly beyond try...except block')\n",
    "\n",
    "if __name__ == '__main__':\n",
    "    main()"
   ]
  },
  {
   "cell_type": "markdown",
   "metadata": {},
   "source": [
    "## <font color= blue > Accessing Description of Traceback object  </font>\n",
    "*  the name of the exception such as FileNotFoundError is followed by the keyword as, which is followed by a user-defined name such as err in the except clause."
   ]
  },
  {
   "cell_type": "code",
   "execution_count": null,
   "metadata": {},
   "outputs": [],
   "source": [
    "import sys\n",
    "def main():\n",
    "    '''\n",
    "    Objective: To open a file for reading\n",
    "    Input Parameter: None\n",
    "    Return Value: None\n",
    "    '''\n",
    "    try:\n",
    "        f = open('Temporary_File', 'r')\n",
    "    except FileNotFoundError as desc:\n",
    "        print('Problem with Input Output...\\n', desc)\n",
    "    print('Program continues smoothly beyond try...except block')\n",
    "\n",
    "if __name__ == '__main__': \n",
    "    main()"
   ]
  },
  {
   "cell_type": "markdown",
   "metadata": {},
   "source": [
    "## <font color= blue > Catch all possible exceptions </font>\n",
    "1. Enumerate all possible exceptions in the except clause in the form of a list.\n",
    "2. Define an except clause for handling each exception separately.\n",
    "3. Go for a defensive approach by placing the targeted group of statements in try block and specify an empty except clause."
   ]
  },
  {
   "cell_type": "code",
   "execution_count": null,
   "metadata": {},
   "outputs": [],
   "source": [
    "import sys\n",
    "def main():\n",
    "    '''\n",
    "    Objective: To compute price per unit weight of an item\n",
    "    Input Parameter: None\n",
    "    Return Value: None\n",
    "    '''\n",
    "    price = input('Enter price of item purchased: ')\n",
    "    weight = input('Enter weight of item purchased: ')\n",
    "    try:\n",
    "        if price == '': price = None\n",
    "        price = float(price)\n",
    "        if weight == '': weight = None\n",
    "        weight = float(weight)\n",
    "        assert price >= 0 and weight >= 0\n",
    "        result = price / weight\n",
    "    except (ValueError, TypeError, ZeroDivisionError):\n",
    "        print('Invalid input provided by user \\n' + \\\n",
    "                str(sys.exc_info()))\n",
    "    else:\n",
    "        print('Price per unit weight: ', result)\n",
    "\n",
    "if __name__ == '__main__':\n",
    "    main()"
   ]
  },
  {
   "cell_type": "code",
   "execution_count": 2,
   "metadata": {},
   "outputs": [
    {
     "name": "stdout",
     "output_type": "stream",
     "text": [
      "Enter price of item purchased: \n",
      "Enter weight of item purchased: \n",
      "Invalid inputs: TypeError\n",
      "Program terminates here!\n"
     ]
    }
   ],
   "source": [
    "import sys\n",
    "def main():\n",
    "    '''\n",
    "    Objective: To compute price per unit weight of an item\n",
    "    Input Parameter: None\n",
    "    Return Value: None\n",
    "    '''\n",
    "    price = input('Enter price of item purchased: ')\n",
    "    weight = input('Enter weight of item purchased: ')\n",
    "    try:\n",
    "        if price == '': price = None\n",
    "        price = float(price)\n",
    "        if weight == '': weight = None\n",
    "        weight = float(weight)\n",
    "        assert price >= 0 and weight >= 0\n",
    "        result = price / weight\n",
    "    except ValueError:\n",
    "        print('Invalid inputs: ValueError')\n",
    "    except TypeError:\n",
    "        print('Invalid inputs: TypeError')\n",
    "    except ZeroDivisionError:\n",
    "        print('Invalid inputs: ZeroDivisionError')\n",
    "    except:\n",
    "        print('workshop')\n",
    "    else:\n",
    "        print('Price per unit weight:', result)\n",
    "    \n",
    "    print(\"Program terminates here!\")\n",
    "\n",
    "if __name__ == '__main__':\n",
    "    main()"
   ]
  },
  {
   "cell_type": "markdown",
   "metadata": {},
   "source": [
    "## <font color= blue > If the script does not include the corresponding handler </font>\n",
    "*  search for a handler is continued in the outer try…except block, and so on."
   ]
  },
  {
   "cell_type": "code",
   "execution_count": null,
   "metadata": {},
   "outputs": [],
   "source": [
    "import sys\n",
    "def main():\n",
    "    '''\n",
    "    Objective: To compute price per unit weight of an item\n",
    "    Input Parameter: None\n",
    "    Return Value: None\n",
    "    '''\n",
    "    price = input('Enter price of item purchased: ')\n",
    "    weight = input('Enter weight of item purchased: ')\n",
    "    try:\n",
    "        if price == '': price = None\n",
    "        try:\n",
    "            price = float(price)\n",
    "        except ValueError:\n",
    "            print('Invalid price input: ValueError')\n",
    "        if weight == '': weight = None\n",
    "        try:\n",
    "            weight = float(weight)\n",
    "        except ValueError:\n",
    "            print('Invalid weight input: ValueError')\n",
    "        assert price >= 0 and weight >= 0\n",
    "        result = price / weight\n",
    "    except TypeError:\n",
    "        print('Invalid inputs: TypeError')\n",
    "    except ZeroDivisionError:\n",
    "        print('Invalid inputs: ZeroDivisionError')\n",
    "    #except:\n",
    "     #   print(str(sys.exc_info()))\n",
    "    else:\n",
    "        print('Price per unit weight: ', result)\n",
    "\n",
    "if __name__ == '__main__':\n",
    "    main()"
   ]
  },
  {
   "cell_type": "markdown",
   "metadata": {},
   "source": [
    "## <font color= blue > Finally Clause </font>\n",
    "*  If we wish to execute some action(s) irrespective of whether an exception is raised, such action(s) may be specifed in the finally clause.\n",
    "*  An exception may be raised explicitly using the keyword raise, followed by the name of the exception, followed by the string (enclosed in\n",
    "parentheses) to be displayed when the exception is raised."
   ]
  },
  {
   "cell_type": "code",
   "execution_count": null,
   "metadata": {},
   "outputs": [],
   "source": [
    "def main():\n",
    "    '''\n",
    "    Objective: To illustrate the use of raise and finally clauses\n",
    "    Input Parameter: None\n",
    "    Return Value: None\n",
    "    '''\n",
    "    marks = 110\n",
    "    try:\n",
    "        if marks < 0 or marks > 100:\n",
    "            raise ValueError('Marks out of range')\n",
    "    finally:\n",
    "        print('Bye')\n",
    "    print('Program continues after handling exception')\n",
    "\n",
    "if __name__ == '__main__':\n",
    "    main()\n"
   ]
  },
  {
   "cell_type": "code",
   "execution_count": null,
   "metadata": {},
   "outputs": [],
   "source": [
    "def main():\n",
    "    '''\n",
    "    Objective: To illustrate the use of raise and finally clauses\n",
    "    Input Parameter: None\n",
    "    Return Value: None\n",
    "    '''\n",
    "    marks = 110\n",
    "    try:\n",
    "        if marks < 0 or marks > 100:\n",
    "            raise ValueError('Marks out of range')\n",
    "    except:\n",
    "        pass\n",
    "    finally:\n",
    "        print('Bye')\n",
    "    print('Program continues after handling exception')\n",
    "\n",
    "if __name__ == '__main__':\n",
    "    main()\n"
   ]
  },
  {
   "cell_type": "markdown",
   "metadata": {},
   "source": [
    "## <font color= blue > Problem: Copying contents of a file to another file </font>"
   ]
  },
  {
   "cell_type": "code",
   "execution_count": null,
   "metadata": {},
   "outputs": [],
   "source": [
    "import os\n",
    "\n",
    "def fileCopy(file1,file2):\n",
    "    '''\n",
    "    Objective: This method copies the contents in a file to another file\n",
    "    Input Parameter: file1 - input file, file2 - output file\n",
    "    Return Value: None\n",
    "    '''\n",
    "    '''\n",
    "    Approach:\n",
    "    Read input from file1, line by line and copy to file2 until\n",
    "    null string is returned on reading\n",
    "    '''\n",
    "    f1 = open(file1, 'r')\n",
    "    f2 = open(file2, 'w')\n",
    "    line = f1.readline()\n",
    "    while line != '':\n",
    "        f2.write(line) #write the line from f1 with additional newline\n",
    "        line = f1.readline()\n",
    "    f1.close()\n",
    "    f2.close()\n",
    "\n",
    "def main():\n",
    "    '''\n",
    "    Objective: To call function fileCopy to copy contents in a file to another file.\n",
    "    Input Parameter: None\n",
    "    Return Value: None\n",
    "    '''\n",
    "    fileName1=input('Enter the source file name: ')\n",
    "    fileName2=input('Enter the destination file name : ')\n",
    "    fileCopy(fileName1, fileName2)\n",
    "\n",
    "if __name__ == '__main__':\n",
    "    main()"
   ]
  },
  {
   "cell_type": "markdown",
   "metadata": {},
   "source": [
    "## <font color= blue > Computing moderated marks </font>\n",
    "* The file studentMarks contains the student data that includes roll number (rollNo), name (name), and marks (marks) for each student. \n",
    "* The data about each student is stored in a separate line. Sample data in the file is shown below:\n",
    "\n",
    "        4001,Nitin Negi,75\n",
    "        4002,Kishalaya Sen,98\n",
    "        4003,Kunal Dua,80\n",
    "        4004,Prashant Sharma,60\n",
    "        4005,Saurav Sharma,88\n",
    "\n",
    "* We define addPerCent as the percentage of maxMarks that should be added to the marks obtained to get the moderated marks, subject to the upper limit of maxMarks. \n",
    "* The output file moderatedMarks containing moderated marks of the students\n",
    "\n",
    "> 1. Open file studentMarks in read mode.\n",
    "> 2. Open file moderatedMarks in write mode.\n",
    "> 3. Read one line of input (line1) from studentMarks.\n",
    "> 4. while (line1 != ''):<br>\n",
    "    >• Compute moderated marks and write one line of output in the file\n",
    "moderatedMarks.<br>\n",
    "    >• Read one line of input (line1) from studentMarks."
   ]
  },
  {
   "cell_type": "markdown",
   "metadata": {},
   "source": [
    "## <font color= blue > Problem: Compute moderated marks based on user input </font>"
   ]
  },
  {
   "cell_type": "code",
   "execution_count": null,
   "metadata": {},
   "outputs": [],
   "source": [
    "import sys\n",
    "def computeModeratedMarks(file1, file2, addPercent):\n",
    "    '''\n",
    "    Objective: To compute moderated marks of students\n",
    "    Input Parameters: file1, file2: file names - string values\n",
    "                      addPercent – numeric value\n",
    "    Return Value: None\n",
    "    Side effect: A new file – file2 of moderated marks is produced\n",
    "    '''\n",
    "    try:\n",
    "        fIn = open(file1, 'r')\n",
    "        fOut = open(file2,'w')\n",
    "    except IOError:\n",
    "        print('Problem in opening the file'); sys.exit()\n",
    "    line1 = fIn.readline()\n",
    "    while(line1 != ''):\n",
    "        sList = line1.split(',')\n",
    "        try:\n",
    "            rollNo = int(sList[0])\n",
    "            name = sList[1]\n",
    "            marks = int(sList[2])\n",
    "        except IndexError:\n",
    "            print('Undefined Index'); sys.exit()\n",
    "        except (ValueError):\n",
    "            print('Unsuccessful conversion to int'); sys.exit()\n",
    "        maxMarks= 100\n",
    "        moderatedMarks = marks+((addPercent*maxMarks) /100)\n",
    "        if moderatedMarks > 100:\n",
    "            moderatedMarks = 100\n",
    "        fOut.write(str(rollNo) + ',' + name + ',' + str(moderatedMarks) + '\\n')\n",
    "        line1 = fIn.readline()\n",
    "    fIn.close()\n",
    "    fOut.close()\n",
    "def main():\n",
    "    '''\n",
    "    Objective: To compute moderated marks based on user input\n",
    "    Input Parameter: None\n",
    "    Return Value: None\n",
    "    '''\n",
    "    import sys\n",
    "    #sys.path.append('F:\\PythonCode\\Ch09')\n",
    "    # To compute moderated marks of students\n",
    "    file1 = input('Enter name of file containing marks:')\n",
    "    file2 = input('Enter output file for moderated marks:')\n",
    "    addPercent = int(input('Enter moderation percentage:'))\n",
    "    computeModeratedMarks(file1, file2, addPercent)\n",
    "if __name__=='__main__':\n",
    "    main()"
   ]
  },
  {
   "cell_type": "code",
   "execution_count": null,
   "metadata": {},
   "outputs": [],
   "source": [
    "f=open('g.txt','r')\n",
    "\n",
    "line=f.readline()\n",
    "count=0\n",
    "while line !='':\n",
    "    lineList=line.split()\n",
    "    count+=len(lineList)\n",
    "    line=f.readline()\n",
    "print(count)\n",
    "f.close()"
   ]
  },
  {
   "cell_type": "code",
   "execution_count": null,
   "metadata": {},
   "outputs": [],
   "source": []
  }
 ],
 "metadata": {
  "celltoolbar": "Raw Cell Format",
  "kernelspec": {
   "display_name": "Python 3",
   "language": "python",
   "name": "python3"
  },
  "language_info": {
   "codemirror_mode": {
    "name": "ipython",
    "version": 3
   },
   "file_extension": ".py",
   "mimetype": "text/x-python",
   "name": "python",
   "nbconvert_exporter": "python",
   "pygments_lexer": "ipython3",
   "version": "3.7.1"
  }
 },
 "nbformat": 4,
 "nbformat_minor": 2
}
