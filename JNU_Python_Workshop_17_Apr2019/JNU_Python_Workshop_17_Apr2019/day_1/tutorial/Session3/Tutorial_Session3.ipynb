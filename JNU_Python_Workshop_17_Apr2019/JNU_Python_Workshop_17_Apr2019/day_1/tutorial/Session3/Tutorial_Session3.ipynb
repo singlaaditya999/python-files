{
 "cells": [
  {
   "cell_type": "markdown",
   "metadata": {
    "colab_type": "text",
    "id": "xNPnJI9d5n5g"
   },
   "source": [
    "Tuples and Dictionaries Tutorial: developed by Sheetal Taneja (Assistant Professor, Dyal Singh College), Ankit Rajpal (Assistant Professor, Deen Dayal Upadhyaya College), Naveen Kumar (Professor, Department of Computer Science), University of Delhi.   "
   ]
  },
  {
   "cell_type": "markdown",
   "metadata": {
    "colab_type": "text",
    "id": "le27sIQd6oXj"
   },
   "source": [
    "# Tuples and Dictionaries"
   ]
  },
  {
   "cell_type": "markdown",
   "metadata": {
    "colab_type": "text",
    "id": "sccZ-jcS6oX0"
   },
   "source": [
    "---\n",
    "## <font color= blue > Tuples </font>\n",
    "* A tuple is an ordered sequence of objects. \n",
    "* A tuple may be specified by enclosing in the parentheses, the elements of the tuple (possibly of heterogeneous types), separated by commas."
   ]
  },
  {
   "cell_type": "code",
   "execution_count": 0,
   "metadata": {
    "colab": {},
    "colab_type": "code",
    "collapsed": true,
    "id": "zEOlzvHg6oX-"
   },
   "outputs": [],
   "source": [
    "myTuple = (4, 6, [2, 8], 'abc', {3, 4})"
   ]
  },
  {
   "cell_type": "code",
   "execution_count": 0,
   "metadata": {
    "colab": {},
    "colab_type": "code",
    "collapsed": true,
    "id": "RApB6sL96oYm"
   },
   "outputs": [],
   "source": [
    "digits = (0, 1, 2, 3, 4, 5, 6, 7, 8, 9)"
   ]
  },
  {
   "cell_type": "code",
   "execution_count": 0,
   "metadata": {
    "colab": {},
    "colab_type": "code",
    "collapsed": true,
    "id": "bXwsIHaZ6oZA"
   },
   "outputs": [],
   "source": [
    "subjects = ('Physics', 'Chemistry', 'Computer Science')"
   ]
  },
  {
   "cell_type": "code",
   "execution_count": 0,
   "metadata": {
    "colab": {},
    "colab_type": "code",
    "collapsed": true,
    "id": "f97HxO086oZc"
   },
   "outputs": [],
   "source": [
    "months = ((1, 'January'), (2, 'February'), (3, 'March'))"
   ]
  },
  {
   "cell_type": "markdown",
   "metadata": {
    "colab_type": "text",
    "id": "zaO2emF66oZz"
   },
   "source": [
    "* If a tuple comprises a single element, the element should be followed by a comma to distinguish a tuple from a parenthesized expression.\n",
    "* A tuple having a single element is also known as singleton tuple."
   ]
  },
  {
   "cell_type": "markdown",
   "metadata": {
    "colab_type": "text",
    "id": "Bn1OibNx6oZ7"
   },
   "source": [
    "* Tuples being **immutable**, an attempt to modify an element of a tuple yields an error."
   ]
  },
  {
   "cell_type": "code",
   "execution_count": 0,
   "metadata": {
    "colab": {},
    "colab_type": "code",
    "id": "LIvz27A56oaC",
    "outputId": "c207248e-ac2a-4da6-a7cf-676b8dd96eb3",
    "scrolled": true
   },
   "outputs": [
    {
     "ename": "TypeError",
     "evalue": "'tuple' object does not support item assignment",
     "output_type": "error",
     "traceback": [
      "\u001b[1;31m---------------------------------------------------------------------------\u001b[0m",
      "\u001b[1;31mTypeError\u001b[0m                                 Traceback (most recent call last)",
      "\u001b[1;32m<ipython-input-14-93313e5806a7>\u001b[0m in \u001b[0;36m<module>\u001b[1;34m()\u001b[0m\n\u001b[1;32m----> 1\u001b[1;33m \u001b[0mdigits\u001b[0m\u001b[1;33m[\u001b[0m\u001b[1;36m1\u001b[0m\u001b[1;33m]\u001b[0m \u001b[1;33m=\u001b[0m \u001b[1;36m3\u001b[0m\u001b[1;33m\u001b[0m\u001b[0m\n\u001b[0m",
      "\u001b[1;31mTypeError\u001b[0m: 'tuple' object does not support item assignment"
     ]
    }
   ],
   "source": [
    "digits[1] = 3"
   ]
  },
  {
   "cell_type": "markdown",
   "metadata": {
    "colab_type": "text",
    "id": "k938RvR46oaq"
   },
   "source": [
    "## <font color= blue > Tuple Operations </font>"
   ]
  },
  {
   "cell_type": "code",
   "execution_count": 1,
   "metadata": {
    "colab": {},
    "colab_type": "code",
    "id": "wctPw6UY6oa8"
   },
   "outputs": [],
   "source": [
    "weekDays = ('Monday', 'Tuesday')\n",
    "marks = (78, 99, 34, 45)\n",
    "dateOfBirth = (1, 'October', 1990)"
   ]
  },
  {
   "cell_type": "markdown",
   "metadata": {
    "colab_type": "text",
    "id": "FfL-amql6obW"
   },
   "source": [
    "### <font color= green > Multiplication Operator * </font>"
   ]
  },
  {
   "cell_type": "code",
   "execution_count": 2,
   "metadata": {
    "colab": {},
    "colab_type": "code",
    "id": "Of6SCScj6obl",
    "outputId": "2aa29eec-98e5-4680-d805-c9b5cffd671d"
   },
   "outputs": [
    {
     "data": {
      "text/plain": [
       "('Monday', 'Tuesday', 'Monday', 'Tuesday')"
      ]
     },
     "execution_count": 2,
     "metadata": {},
     "output_type": "execute_result"
    }
   ],
   "source": [
    "weekDays * 2"
   ]
  },
  {
   "cell_type": "markdown",
   "metadata": {
    "colab_type": "text",
    "id": "hZDTJUYK6ocg"
   },
   "source": [
    "### <font color= green > Concatenation Operator + </font>"
   ]
  },
  {
   "cell_type": "code",
   "execution_count": 3,
   "metadata": {
    "colab": {},
    "colab_type": "code",
    "id": "dKEKKC8O6ocp",
    "outputId": "e0822e89-b795-4e20-dea9-3f3207d07f8d"
   },
   "outputs": [
    {
     "name": "stdout",
     "output_type": "stream",
     "text": [
      "('Monday', 'Tuesday', 'Wednesday')\n"
     ]
    }
   ],
   "source": [
    "weekDays = weekDays + ('Wednesday',)\n",
    "print(weekDays)"
   ]
  },
  {
   "cell_type": "markdown",
   "metadata": {
    "colab_type": "text",
    "id": "xpxrOnk66odD"
   },
   "source": [
    "### <font color= green > Length Operator len </font>"
   ]
  },
  {
   "cell_type": "code",
   "execution_count": 0,
   "metadata": {
    "colab": {},
    "colab_type": "code",
    "id": "QfqkDYVD6odJ",
    "outputId": "e86209ca-e183-4010-cdac-5c46a451cb72"
   },
   "outputs": [
    {
     "data": {
      "text/plain": [
       "3"
      ]
     },
     "execution_count": 18,
     "metadata": {
      "tags": []
     },
     "output_type": "execute_result"
    }
   ],
   "source": [
    "len(weekDays)"
   ]
  },
  {
   "cell_type": "markdown",
   "metadata": {
    "colab_type": "text",
    "id": "GZjK_LYA6odl"
   },
   "source": [
    "### <font color= green > Indexing & Slicing </font>"
   ]
  },
  {
   "cell_type": "code",
   "execution_count": 0,
   "metadata": {
    "colab": {},
    "colab_type": "code",
    "id": "QyeKw46E6odx",
    "outputId": "152eac2d-d027-455e-fb8f-892f9aa53e95"
   },
   "outputs": [
    {
     "name": "stdout",
     "output_type": "stream",
     "text": [
      "1990\n"
     ]
    }
   ],
   "source": [
    "yearOfBirth = dateOfBirth[-1] #Indexing\n",
    "print(yearOfBirth)"
   ]
  },
  {
   "cell_type": "code",
   "execution_count": 0,
   "metadata": {
    "colab": {},
    "colab_type": "code",
    "id": "T4feZ_bZ6oeL",
    "outputId": "722cb968-56a2-4183-8e82-d421feb3529b"
   },
   "outputs": [
    {
     "data": {
      "text/plain": [
       "('Tuesday',)"
      ]
     },
     "execution_count": 20,
     "metadata": {
      "tags": []
     },
     "output_type": "execute_result"
    }
   ],
   "source": [
    "weekDays[1:2] #Slicing"
   ]
  },
  {
   "cell_type": "markdown",
   "metadata": {
    "colab_type": "text",
    "id": "t_-2ROCL6oel"
   },
   "source": [
    "### <font color= green > Function min & max </font>"
   ]
  },
  {
   "cell_type": "code",
   "execution_count": 0,
   "metadata": {
    "colab": {},
    "colab_type": "code",
    "id": "rrd6oqFL6oes",
    "outputId": "05713c69-f33f-4f6a-9d87-e54765d1a2bc"
   },
   "outputs": [
    {
     "data": {
      "text/plain": [
       "34"
      ]
     },
     "execution_count": 21,
     "metadata": {
      "tags": []
     },
     "output_type": "execute_result"
    }
   ],
   "source": [
    "min(marks)"
   ]
  },
  {
   "cell_type": "code",
   "execution_count": 0,
   "metadata": {
    "colab": {},
    "colab_type": "code",
    "id": "8wU7Pq_l6ofJ",
    "outputId": "6d8139f8-1409-4468-9869-c8a756b67198"
   },
   "outputs": [
    {
     "data": {
      "text/plain": [
       "99"
      ]
     },
     "execution_count": 22,
     "metadata": {
      "tags": []
     },
     "output_type": "execute_result"
    }
   ],
   "source": [
    "max(marks)"
   ]
  },
  {
   "cell_type": "markdown",
   "metadata": {
    "colab_type": "text",
    "id": "39d12Mij6of8"
   },
   "source": [
    "### <font color= green > Function sum </font>"
   ]
  },
  {
   "cell_type": "code",
   "execution_count": 0,
   "metadata": {
    "colab": {},
    "colab_type": "code",
    "id": "wd7OCFiO6ogK",
    "outputId": "1fa370b5-1418-49e6-ca4b-3795b2e92dd9"
   },
   "outputs": [
    {
     "data": {
      "text/plain": [
       "256"
      ]
     },
     "execution_count": 23,
     "metadata": {
      "tags": []
     },
     "output_type": "execute_result"
    }
   ],
   "source": [
    "sum(marks)"
   ]
  },
  {
   "cell_type": "markdown",
   "metadata": {
    "colab_type": "text",
    "id": "CRT-JV_K6ogq"
   },
   "source": [
    "### <font color= green > Membership Operator in </font>"
   ]
  },
  {
   "cell_type": "code",
   "execution_count": 0,
   "metadata": {
    "colab": {},
    "colab_type": "code",
    "id": "lm3gKdEr6ogw",
    "outputId": "0c78417c-d68e-4a67-add0-069db359aa3c"
   },
   "outputs": [
    {
     "data": {
      "text/plain": [
       "False"
      ]
     },
     "execution_count": 24,
     "metadata": {
      "tags": []
     },
     "output_type": "execute_result"
    }
   ],
   "source": [
    "'Friday' in weekDays"
   ]
  },
  {
   "cell_type": "markdown",
   "metadata": {
    "colab_type": "text",
    "id": "zVwG0FnE6ohu"
   },
   "source": [
    "### <font color= green > Function tuple </font>\n",
    "* The function tuple can be used to convert a sequence to a tuple."
   ]
  },
  {
   "cell_type": "code",
   "execution_count": 0,
   "metadata": {
    "colab": {},
    "colab_type": "code",
    "id": "QA5B8UL46ohz",
    "outputId": "9b10eecd-332f-433a-a2d0-c79e4b6cfb26"
   },
   "outputs": [
    {
     "data": {
      "text/plain": [
       "('a', 'e', 'i', 'o', 'u')"
      ]
     },
     "execution_count": 25,
     "metadata": {
      "tags": []
     },
     "output_type": "execute_result"
    }
   ],
   "source": [
    "vowels = 'aeiou'\n",
    "tuple(vowels)"
   ]
  },
  {
   "cell_type": "markdown",
   "metadata": {
    "colab_type": "text",
    "id": "1_TZPOBF6oiI"
   },
   "source": [
    "## <font color= blue > **Built-in Functions on Tuples** </font>\n"
   ]
  },
  {
   "cell_type": "markdown",
   "metadata": {
    "colab_type": "text",
    "id": "ux04PV_46oiO"
   },
   "source": [
    "### <font color= green > Function count </font>\n",
    "* Returns count of occurrences of an element in the tuple."
   ]
  },
  {
   "cell_type": "code",
   "execution_count": 0,
   "metadata": {
    "colab": {},
    "colab_type": "code",
    "id": "F-EHVJR96oiR",
    "outputId": "69245ad7-978b-4c10-fc00-e59a4af45452"
   },
   "outputs": [
    {
     "name": "stdout",
     "output_type": "stream",
     "text": [
      "3\n"
     ]
    }
   ],
   "source": [
    "age = (20, 18, 17, 19, 18, 18)\n",
    "print(age.count(18))"
   ]
  },
  {
   "cell_type": "markdown",
   "metadata": {
    "colab_type": "text",
    "id": "ioQXvoXz6oil"
   },
   "source": [
    "### <font color= green > Function index </font>\n",
    "* Returns index of the first occurrence of an element in the tuple."
   ]
  },
  {
   "cell_type": "code",
   "execution_count": 0,
   "metadata": {
    "colab": {},
    "colab_type": "code",
    "id": "8a7zEg1O6oip",
    "outputId": "cc37d7e3-fd17-4d0a-ee5f-8dedf151c18b"
   },
   "outputs": [
    {
     "data": {
      "text/plain": [
       "1"
      ]
     },
     "execution_count": 27,
     "metadata": {
      "tags": []
     },
     "output_type": "execute_result"
    }
   ],
   "source": [
    "age.index(18)"
   ]
  },
  {
   "cell_type": "markdown",
   "metadata": {
    "colab_type": "text",
    "id": "tgzpZAn26ojb"
   },
   "source": [
    "## <font color= blue > Problem: Sort list of tuples </font>"
   ]
  },
  {
   "cell_type": "code",
   "execution_count": 0,
   "metadata": {
    "colab": {},
    "colab_type": "code",
    "id": "cbrIRzCv6ojj",
    "outputId": "325f5214-a672-4a84-ec3f-e45baabb20d9"
   },
   "outputs": [
    {
     "name": "stdout",
     "output_type": "stream",
     "text": [
      "Enter the number of students:4\n",
      "Enter tuple <student name, marks>('Sheetal',99)\n",
      "Enter tuple <student name, marks>('Ankit',100)\n",
      "Enter tuple <student name, marks>('Arun',56)\n",
      "Enter tuple <student name, marks>('Bhawna',89)\n",
      "[('Arun', 56), ('Bhawna', 89), ('Sheetal', 99), ('Ankit', 100)]\n"
     ]
    }
   ],
   "source": [
    "def sortList(studentList):\n",
    "    '''\n",
    "    Objective: To sort a given list of tuples in increasing order on the basis \n",
    "               of marks.\n",
    "    Input Parameter: studentList: a list of tuples such that each tuple \n",
    "                     contains student names and their marks\n",
    "    Return Value: studentList: sorted list\n",
    "    '''\n",
    "    '''\n",
    "    Approach:\n",
    "        Use bubble sort.\n",
    "        Starting from the first element (tuple), compare two consecutive elements \n",
    "        of the list and swap the two if marks in second element is smaller than the \n",
    "        marks in first element. At the end of first iteration, smallest element in \n",
    "        the list will come in the beginning. If there are n elements, the above \n",
    "        procedure will repeat n-1 times\n",
    "    '''\n",
    "\n",
    "    for i in range(0, len(studentList) - 1):\n",
    "        for j in range(0, len(studentList) - 1 - i):\n",
    "            if studentList[j+1][1] < studentList[j][1]:\n",
    "                studentList[j+1], studentList[j] = studentList[j], studentList[j+1]\n",
    "    return studentList\n",
    "\n",
    "def main():\n",
    "    '''\n",
    "    Objective: To call a function sortList to sort a given list of tuples in \n",
    "    increasing order on the basis of marks provided as input.\n",
    "    Input Parameter: None\n",
    "    Return Value: None\n",
    "    '''\n",
    "    #studentList = [('Rohit', 50), ('Deepak', 75), ('Sonali', 47)]\n",
    "    studentList = []\n",
    "    num = int(input('Enter the number of students:'))\n",
    "    for i in range(num):\n",
    "        pair = eval(input('Enter tuple <student name, marks>'))\n",
    "        studentList.append(pair)\n",
    "    sortList(studentList)\n",
    "    print(studentList)\n",
    "\n",
    "if __name__ == '__main__':\n",
    "    main()"
   ]
  },
  {
   "cell_type": "code",
   "execution_count": null,
   "metadata": {},
   "outputs": [],
   "source": [
    "def sortList(lst1):\n",
    "    for i in range (0,len(lst1)-1):\n",
    "        for j in range (0,len(lst1)-1-i):\n",
    "            if lst1[j][1]>lst1[j+1][1]:\n",
    "                temp=lst1[j][1]\n",
    "                lst1[j][1]=lst1[j+1][1]\n",
    "                lst1[j+1][1]=temp\n",
    "    return "
   ]
  },
  {
   "cell_type": "markdown",
   "metadata": {
    "colab_type": "text",
    "id": "B6uOJVCf6oj9"
   },
   "source": [
    "---\n",
    "## <font color= blue > Dictionaries </font>\n",
    "* A dictionary is an unordered sequence of key-value pairs. \n",
    "* Key and value in a key-value pair in a dictionary are separated by a colon. Further, <br> \n",
    "  the key:value pairs in a dictionary are separated by commas and are enclosed between <br>\n",
    "  curly parentheses.\n",
    "* Indices in a dictionary can be of any immutable type and are called keys."
   ]
  },
  {
   "cell_type": "code",
   "execution_count": 0,
   "metadata": {
    "colab": {},
    "colab_type": "code",
    "id": "cWwhhCns6okC",
    "outputId": "0f5a733c-727f-4d32-a95b-92d22e59f40f"
   },
   "outputs": [
    {
     "name": "stdout",
     "output_type": "stream",
     "text": [
      "{1: 'Jan', 2: 'Feb', 3: 'Mar', 4: 'Apr'}\n"
     ]
    }
   ],
   "source": [
    "month = {}\n",
    "month[1] = 'Jan'\n",
    "month[2] = 'Feb'\n",
    "month[3] = 'Mar'\n",
    "month[4] = 'Apr'\n",
    "print(month)"
   ]
  },
  {
   "cell_type": "markdown",
   "metadata": {
    "colab_type": "text",
    "id": "a4F3uDRd6okV"
   },
   "source": [
    "* The search in a dictionary is based on the key. \n",
    "* Therefore, in a dictionary, the keys are required to be unique. However, the same value may be associated with multiple keys. "
   ]
  },
  {
   "cell_type": "code",
   "execution_count": 0,
   "metadata": {
    "colab": {},
    "colab_type": "code",
    "collapsed": true,
    "id": "p7hzqApn6okd"
   },
   "outputs": [],
   "source": [
    "price = {'tomato':40, 'cucumber':30,\n",
    "'potato':20, 'cauliflower':70, 'cabbage':50,\n",
    "'lettuce':40, 'raddish':30, 'carrot':20,\n",
    "'peas':80}"
   ]
  },
  {
   "cell_type": "markdown",
   "metadata": {
    "colab_type": "text",
    "id": "vBvZLlt26ok2"
   },
   "source": [
    "* Values associated with keys can be mutable objects and thus, may be changed at will."
   ]
  },
  {
   "cell_type": "code",
   "execution_count": 0,
   "metadata": {
    "colab": {},
    "colab_type": "code",
    "collapsed": true,
    "id": "porlWK7C6ok5"
   },
   "outputs": [],
   "source": [
    "price['tomato'] = 25"
   ]
  },
  {
   "cell_type": "markdown",
   "metadata": {
    "colab_type": "text",
    "id": "3n34JSiF6olE"
   },
   "source": [
    "* Keys in a dictionary may be of heterogeneous types"
   ]
  },
  {
   "cell_type": "code",
   "execution_count": 0,
   "metadata": {
    "colab": {},
    "colab_type": "code",
    "collapsed": true,
    "id": "v87Cmg-U6olK"
   },
   "outputs": [],
   "source": [
    "counting = {1:'one', 'one':1, 2:'two', 'two':2}"
   ]
  },
  {
   "cell_type": "markdown",
   "metadata": {
    "colab_type": "text",
    "id": "TpQ9SwEY6olX"
   },
   "source": [
    "## <font color= blue > Dictionary Operations </font>"
   ]
  },
  {
   "cell_type": "code",
   "execution_count": 0,
   "metadata": {
    "colab": {},
    "colab_type": "code",
    "collapsed": true,
    "id": "pC-0kiNb6old"
   },
   "outputs": [],
   "source": [
    "digits = {0:'Zero', 1:'One', 2:'Two', 3:'Three', 4:'Four', 5:'Five', 6:'Six', 7:'Seven', 8:'Eight', 9:'Nine'}"
   ]
  },
  {
   "cell_type": "markdown",
   "metadata": {
    "colab_type": "text",
    "id": "BtM16SKr6ols"
   },
   "source": [
    "### <font color= green > length Operator len </font>"
   ]
  },
  {
   "cell_type": "code",
   "execution_count": 0,
   "metadata": {
    "colab": {},
    "colab_type": "code",
    "id": "Fv4lh1Co6olw",
    "outputId": "4374ecff-1b11-46c5-f914-b5f8777939b6"
   },
   "outputs": [
    {
     "data": {
      "text/plain": [
       "10"
      ]
     },
     "execution_count": 34,
     "metadata": {
      "tags": []
     },
     "output_type": "execute_result"
    }
   ],
   "source": [
    "len(digits)"
   ]
  },
  {
   "cell_type": "markdown",
   "metadata": {
    "colab_type": "text",
    "id": "P7ohXMbu6omE"
   },
   "source": [
    "### <font color= green > Indexing </font>"
   ]
  },
  {
   "cell_type": "code",
   "execution_count": 0,
   "metadata": {
    "colab": {},
    "colab_type": "code",
    "id": "8OGaDw0f6omJ",
    "outputId": "051cbd14-c848-44cb-af2d-675a8d002c3c"
   },
   "outputs": [
    {
     "data": {
      "text/plain": [
       "'One'"
      ]
     },
     "execution_count": 35,
     "metadata": {
      "tags": []
     },
     "output_type": "execute_result"
    }
   ],
   "source": [
    "digits[1]"
   ]
  },
  {
   "cell_type": "markdown",
   "metadata": {
    "colab_type": "text",
    "id": "prUGNSBh6omu"
   },
   "source": [
    "### <font color= green > Functions min and max</font>"
   ]
  },
  {
   "cell_type": "code",
   "execution_count": 0,
   "metadata": {
    "colab": {},
    "colab_type": "code",
    "id": "82jFuFma6om5",
    "outputId": "299c5f9f-e6ca-4f2b-8448-73f5a134bdf1"
   },
   "outputs": [
    {
     "data": {
      "text/plain": [
       "0"
      ]
     },
     "execution_count": 36,
     "metadata": {
      "tags": []
     },
     "output_type": "execute_result"
    }
   ],
   "source": [
    "min(digits)"
   ]
  },
  {
   "cell_type": "code",
   "execution_count": 0,
   "metadata": {
    "colab": {},
    "colab_type": "code",
    "id": "BO5HCPXc6onL",
    "outputId": "eb1bee08-31af-440d-ef4d-a95bf8607eff"
   },
   "outputs": [
    {
     "data": {
      "text/plain": [
       "9"
      ]
     },
     "execution_count": 37,
     "metadata": {
      "tags": []
     },
     "output_type": "execute_result"
    }
   ],
   "source": [
    "max(digits)"
   ]
  },
  {
   "cell_type": "markdown",
   "metadata": {
    "colab_type": "text",
    "id": "7ccHtlzR6onb"
   },
   "source": [
    "### <font color= green > Function sum</font>"
   ]
  },
  {
   "cell_type": "code",
   "execution_count": 0,
   "metadata": {
    "colab": {},
    "colab_type": "code",
    "id": "wKf8wia_6ond",
    "outputId": "13af5ebf-e1ed-441b-fe89-256476a2c06b"
   },
   "outputs": [
    {
     "data": {
      "text/plain": [
       "45"
      ]
     },
     "execution_count": 38,
     "metadata": {
      "tags": []
     },
     "output_type": "execute_result"
    }
   ],
   "source": [
    "sum(digits)"
   ]
  },
  {
   "cell_type": "markdown",
   "metadata": {
    "colab_type": "text",
    "id": "9U5ZPK5s6on5"
   },
   "source": [
    "### <font color= green > Membership Opeartor in</font>"
   ]
  },
  {
   "cell_type": "code",
   "execution_count": 0,
   "metadata": {
    "colab": {},
    "colab_type": "code",
    "id": "bcllCWTJ6on-",
    "outputId": "21ba804d-d3ec-40eb-a50b-ca9146c73abd"
   },
   "outputs": [
    {
     "data": {
      "text/plain": [
       "True"
      ]
     },
     "execution_count": 39,
     "metadata": {
      "tags": []
     },
     "output_type": "execute_result"
    }
   ],
   "source": [
    "5 in digits"
   ]
  },
  {
   "cell_type": "code",
   "execution_count": 0,
   "metadata": {
    "colab": {},
    "colab_type": "code",
    "id": "EC-vbgLS6ooR",
    "outputId": "37c660f8-7abd-4e63-ac4f-7ac3bf964bf8"
   },
   "outputs": [
    {
     "data": {
      "text/plain": [
       "False"
      ]
     },
     "execution_count": 40,
     "metadata": {
      "tags": []
     },
     "output_type": "execute_result"
    }
   ],
   "source": [
    "'Five' in digits"
   ]
  },
  {
   "cell_type": "markdown",
   "metadata": {
    "colab_type": "text",
    "id": "qOHvJsIX6ooa"
   },
   "source": [
    "**<font color= red > Note: Membership operation in, and functions min, max and sum apply\n",
    "only to the keys in a dictionary. </font>**"
   ]
  },
  {
   "cell_type": "markdown",
   "metadata": {
    "colab_type": "text",
    "id": "BL3Kb_LT6ood"
   },
   "source": [
    "### <font color= green >Deleting a key-value pair from dictionary</font>"
   ]
  },
  {
   "cell_type": "code",
   "execution_count": 0,
   "metadata": {
    "colab": {},
    "colab_type": "code",
    "id": "xfWwI7_-6oof",
    "outputId": "39fd7f8f-c2b3-40e6-d8ed-79b13ed4990a"
   },
   "outputs": [
    {
     "name": "stdout",
     "output_type": "stream",
     "text": [
      "{12: 'December', 1: 'January', 2: 'February'}\n"
     ]
    }
   ],
   "source": [
    "winter = {11:'November ', 12: 'December', 1:'January', 2:'February'}\n",
    "del winter[11]\n",
    "print(winter)"
   ]
  },
  {
   "cell_type": "markdown",
   "metadata": {
    "colab_type": "text",
    "id": "3eMZ0TR66oop"
   },
   "source": [
    "## <font color= blue > **Built-in Functions on Dictionaries** </font>\n"
   ]
  },
  {
   "cell_type": "markdown",
   "metadata": {
    "colab_type": "text",
    "id": "m5ZM-lmj6oor"
   },
   "source": [
    "### <font color= green >Deleting all key-value pairs using clear function</font>"
   ]
  },
  {
   "cell_type": "code",
   "execution_count": 0,
   "metadata": {
    "colab": {},
    "colab_type": "code",
    "id": "hKLpVkx46oou",
    "outputId": "e2a82d55-1cdb-44bd-b7cc-d70344da1968"
   },
   "outputs": [
    {
     "name": "stdout",
     "output_type": "stream",
     "text": [
      "{}\n"
     ]
    }
   ],
   "source": [
    "winter.clear()\n",
    "print(winter)"
   ]
  },
  {
   "cell_type": "markdown",
   "metadata": {
    "colab_type": "text",
    "id": "_XklJWh86oo5"
   },
   "source": [
    "### <font color= green >Function get</font>\n",
    "* The function get is used to extract the value corresponding to a given key\n",
    "* The first parameter is used to specify the key and the second parameter is used to specify the value to be returned in case the key is not found in the dictionary. In case, the second parameter is not specified, the system returns None"
   ]
  },
  {
   "cell_type": "code",
   "execution_count": 0,
   "metadata": {
    "colab": {},
    "colab_type": "code",
    "collapsed": true,
    "id": "ZZ6apuxD6oo8"
   },
   "outputs": [],
   "source": [
    "passwords = {'Ram':'ak@607', 'Shyam':'rou.589'}"
   ]
  },
  {
   "cell_type": "code",
   "execution_count": 0,
   "metadata": {
    "colab": {},
    "colab_type": "code",
    "id": "-Lg-JVfb6opD",
    "outputId": "f1056827-2f6a-4740-8b94-5d6679b73696"
   },
   "outputs": [
    {
     "data": {
      "text/plain": [
       "'ak@607'"
      ]
     },
     "execution_count": 44,
     "metadata": {
      "tags": []
     },
     "output_type": "execute_result"
    }
   ],
   "source": [
    "passwords.get('Ram',-1)"
   ]
  },
  {
   "cell_type": "code",
   "execution_count": 0,
   "metadata": {
    "colab": {},
    "colab_type": "code",
    "id": "O7X_ZKch6opM",
    "outputId": "e4d71e18-d5e3-4b9b-b611-067a8906421f"
   },
   "outputs": [
    {
     "data": {
      "text/plain": [
       "-1"
      ]
     },
     "execution_count": 45,
     "metadata": {
      "tags": []
     },
     "output_type": "execute_result"
    }
   ],
   "source": [
    "passwords.get('Raman',-1)"
   ]
  },
  {
   "cell_type": "markdown",
   "metadata": {
    "colab_type": "text",
    "id": "oiy1n6uT6opm"
   },
   "source": [
    "### <font color= green >Function update</font>\n",
    "* The function update is used to insert in a dictionary, all the key–value pairs of another dictionary"
   ]
  },
  {
   "cell_type": "code",
   "execution_count": 0,
   "metadata": {
    "colab": {},
    "colab_type": "code",
    "collapsed": true,
    "id": "syIHcUG46ops"
   },
   "outputs": [],
   "source": [
    "morePasswords = {'Raman':'vi97@4', 'Kishore':'23@0jsk'}"
   ]
  },
  {
   "cell_type": "code",
   "execution_count": 0,
   "metadata": {
    "colab": {},
    "colab_type": "code",
    "id": "3wt0XUZT6oqF",
    "outputId": "a8e6e2ca-9539-427c-b67b-d35550e18d6a"
   },
   "outputs": [
    {
     "name": "stdout",
     "output_type": "stream",
     "text": [
      "{'Ram': 'ak@607', 'Shyam': 'rou.589', 'Raman': 'vi97@4', 'Kishore': '23@0jsk'}\n"
     ]
    }
   ],
   "source": [
    "passwords.update(morePasswords)\n",
    "print(passwords)"
   ]
  },
  {
   "cell_type": "markdown",
   "metadata": {
    "colab_type": "text",
    "id": "L9lROOH86oqZ"
   },
   "source": [
    "### <font color= green >Function keys</font>\n",
    "* Return an object comprising of all keys of the dictionary."
   ]
  },
  {
   "cell_type": "code",
   "execution_count": 0,
   "metadata": {
    "colab": {},
    "colab_type": "code",
    "id": "EI-Yu0tN6oqf",
    "outputId": "bd765623-f708-4b7c-92fe-c50ce887a417"
   },
   "outputs": [
    {
     "name": "stdout",
     "output_type": "stream",
     "text": [
      "dict_keys([1, 2, 3, 4])\n"
     ]
    }
   ],
   "source": [
    "months = {1: 'Jan', 2: 'Feb', 3: 'Mar', 4: 'Apr'}\n",
    "print(months.keys())"
   ]
  },
  {
   "cell_type": "markdown",
   "metadata": {
    "colab_type": "text",
    "id": "ekJqXveG6oq5"
   },
   "source": [
    "### <font color= green >Function values</font>\n",
    "* Return an object comprising of all values of the dictionary."
   ]
  },
  {
   "cell_type": "code",
   "execution_count": 0,
   "metadata": {
    "colab": {},
    "colab_type": "code",
    "id": "ncb_-IIn6oq8",
    "outputId": "d699d899-fbbc-417c-a415-e3145f23f2eb"
   },
   "outputs": [
    {
     "name": "stdout",
     "output_type": "stream",
     "text": [
      "dict_values(['Jan', 'Feb', 'Mar', 'Apr'])\n"
     ]
    }
   ],
   "source": [
    "print(months.values())"
   ]
  },
  {
   "cell_type": "markdown",
   "metadata": {
    "colab_type": "text",
    "id": "i2aSaFlA6orL"
   },
   "source": [
    "### <font color= green >Function items</font>\n",
    "* Return an object comprising of tuples of key-value pairs present in the dictionary."
   ]
  },
  {
   "cell_type": "code",
   "execution_count": 0,
   "metadata": {
    "colab": {},
    "colab_type": "code",
    "id": "C8QDi-bW6orP",
    "outputId": "25868399-05d5-4c2e-9d88-672e0e24aa75"
   },
   "outputs": [
    {
     "name": "stdout",
     "output_type": "stream",
     "text": [
      "dict_items([(1, 'Jan'), (2, 'Feb'), (3, 'Mar'), (4, 'Apr')])\n"
     ]
    }
   ],
   "source": [
    "print(months.items())"
   ]
  },
  {
   "cell_type": "markdown",
   "metadata": {
    "colab_type": "text",
    "id": "rzZZRAr_6orf"
   },
   "source": [
    "## <font color= blue > Dictionary of state and its capitals </font>"
   ]
  },
  {
   "cell_type": "code",
   "execution_count": 0,
   "metadata": {
    "colab": {},
    "colab_type": "code",
    "id": "rp85MtUk6orh",
    "outputId": "e2353e14-4eee-43e4-d3b9-05d12a49ec61"
   },
   "outputs": [
    {
     "name": "stdout",
     "output_type": "stream",
     "text": [
      "Enter state:Goa\n",
      "Enter capital:Panaji\n",
      "Enter state:Haryana\n",
      "Enter capital:Chandigarh\n",
      "Enter state:\n",
      "Enter capital:\n",
      "{'Goa': 'Panaji', 'Haryana': 'Chandigarh'}\n"
     ]
    }
   ],
   "source": [
    "def stateCapitalDict():\n",
    "    '''\n",
    "    Purpose: To form a dictionary of state and its capital as specified by user.\n",
    "    Input Parameter: None\n",
    "    Return Value: stateCapital - Dictionary containing state as keys and capital \n",
    "                  as values\n",
    "    '''\n",
    "    '''\n",
    "    Approach:\n",
    "    For each state and capital taken as input from the user\n",
    "        Assign value capital to the key state\n",
    "    '''\n",
    "    stateCapital = dict()\n",
    "    state = input('Enter state:')\n",
    "    capital = input('Enter capital:')\n",
    "    while state != '' and capital != '':\n",
    "        stateCapital[state] = capital\n",
    "        state = input('Enter state:')\n",
    "        capital = input('Enter capital:')\n",
    "    return stateCapital\n",
    "\n",
    "def main():\n",
    "    '''\n",
    "    Purpose: To form a dictionary of state and its capital as specified by user.\n",
    "    Input Parameter: None\n",
    "    Return Value: None\n",
    "    '''\n",
    "    dict1 = stateCapitalDict()\n",
    "    print(dict1)\n",
    "\n",
    "if __name__ == '__main__':\n",
    "    main()"
   ]
  },
  {
   "cell_type": "markdown",
   "metadata": {
    "colab_type": "text",
    "id": "R0E595MV6or8"
   },
   "source": [
    "# Exercises"
   ]
  },
  {
   "cell_type": "markdown",
   "metadata": {
    "colab_type": "text",
    "id": "Fct7a5MO6osB"
   },
   "source": [
    "### <font color= green >Multiples</font>"
   ]
  },
  {
   "cell_type": "code",
   "execution_count": 0,
   "metadata": {
    "colab": {},
    "colab_type": "code",
    "collapsed": true,
    "id": "Wk-Lunyt6osH"
   },
   "outputs": [],
   "source": [
    "def findFactors(num):\n",
    "    '''\n",
    "    Objective: To find the list of factors of a given number.\n",
    "    Input Parameter: num - numeric\n",
    "    Return Value: total - numeric\n",
    "    '''\n",
    "    '''\n",
    "    Approach: Determine factors of n in the range [1,n].\n",
    "\n",
    "    '''\n",
    "    factors = ()\n",
    "    for i in range(1, num + 1):\n",
    "        if  #+++ Your Code Here +++:\n",
    "            factors = factors + (i,)\n",
    "    return factors\n",
    "\n",
    "\n",
    "def main():\n",
    "    '''\n",
    "    Objective: To find and print list of factors of first few numbers.\n",
    "    Input Parameter: None\n",
    "    Return Value: None\n",
    "    '''\n",
    "    limit = int(input('Enter the upper limit:'))\n",
    "    for i in range(1, limit + 1):\n",
    "        print('Number:', i, 'List of factors=', findFactors(i))\n",
    "\n",
    "if __name__ == '__main__':\n",
    "    main()\n",
    "\n"
   ]
  },
  {
   "cell_type": "markdown",
   "metadata": {
    "colab_type": "text",
    "id": "vHb29Zfp6osZ"
   },
   "source": [
    "### <font color= green >Word Length Tuple</font>"
   ]
  },
  {
   "cell_type": "code",
   "execution_count": 0,
   "metadata": {
    "colab": {},
    "colab_type": "code",
    "collapsed": true,
    "id": "52TplY7u6osf"
   },
   "outputs": [],
   "source": [
    "def wordLength(list1):\n",
    "    '''\n",
    "    Purpose: To return word-length pair for each word given in the list.\n",
    "    Input Parameter: list1 - list containing words\n",
    "    Return Value: List of tuples containing word and its length\n",
    "    '''\n",
    "    '''\n",
    "    Approach:\n",
    "    For each word in list1:\n",
    "            Append a tuple containing word and its length to the list.\n",
    "    '''\n",
    "    wordLength = list()\n",
    "    for word in list1:\n",
    "         #+++ Your Code Here +++\n",
    "    return wordLength\n",
    "\n",
    "\n",
    "def main():\n",
    "    '''\n",
    "    Purpose: For each word given in list, return a list of tuples containing\n",
    "    word and its length.\n",
    "    Input Parameter: None\n",
    "    Return Value: None\n",
    "    '''\n",
    "    list1 = eval(input('Enter the list: '))\n",
    "    print('List of tuples:: ', wordLength(list1))\n",
    "\n",
    "if __name__ == '__main__':\n",
    "    main()\n"
   ]
  },
  {
   "cell_type": "markdown",
   "metadata": {
    "colab_type": "text",
    "id": "cafmhF3t6osr"
   },
   "source": [
    "### <font color= green >Word Count Dictionary</font>"
   ]
  },
  {
   "cell_type": "code",
   "execution_count": 0,
   "metadata": {
    "colab": {},
    "colab_type": "code",
    "collapsed": true,
    "id": "KIvm4vV86osv"
   },
   "outputs": [],
   "source": [
    "def wordCountDict(list1):\n",
    "    '''\n",
    "    Objective: To determine word count from words given in list.\n",
    "    Input Parameter: list1 - list containg words\n",
    "    Return Value: wordCount - Dictionary containing the words and its count\n",
    "    '''\n",
    "    '''\n",
    "    Approach:\n",
    "    For each word w in list\n",
    "          If w is in dictionary, increment its value\n",
    "          Else add w to the dictionary with 1 as its value.\n",
    "    '''\n",
    "    wordCount = dict()\n",
    "    for w in list1:\n",
    "        if w in wordCount:\n",
    "             #+++ Your Code Here +++\n",
    "        else:\n",
    "             #+++ Your Code Here +++\n",
    "    return wordCount\n",
    "\n",
    "def main():\n",
    "    '''\n",
    "    Objective: To determine word count from words given in list.\n",
    "    Input Parameter: None\n",
    "    Return Value: None\n",
    "    '''\n",
    "    list1 = eval(input('Enter the list: '))\n",
    "    wordCount1 = wordCountDict(list1)\n",
    "    print('Dictionary of word count:: ', wordCount1)\n",
    "\n",
    "\n",
    "if __name__ == '__main__':\n",
    "    main()\n"
   ]
  },
  {
   "cell_type": "markdown",
   "metadata": {
    "colab_type": "text",
    "id": "yY2rfdq26os5"
   },
   "source": [
    "### <font color= green >Inverted Dictionary</font>"
   ]
  },
  {
   "cell_type": "code",
   "execution_count": 0,
   "metadata": {
    "colab": {},
    "colab_type": "code",
    "collapsed": true,
    "id": "kNOFspXJ6os7"
   },
   "outputs": [],
   "source": [
    "def buildInvDict(dict1):\n",
    "    '''\n",
    "    Objective: To construct an inverted dictionary\n",
    "    Input Parameter: dict1 : dictionary\n",
    "    Return Value: invDict : dictionary\n",
    "    '''\n",
    "    '''\n",
    "    Approach:\n",
    "    For every key-value pair of word:meaning in the dictionary dict1,\n",
    "    if it is the first occurrence meaning, then add  meaning:[word] \n",
    "    in the inverted dictionary.\n",
    "    If the key meaning already exists in the inverted dictionary,\n",
    "    then append the word to the list invDict[meaning].\n",
    "    '''\n",
    "    invDict = {}\n",
    "    for key,value in dict1.items():\n",
    "        if  #+++ Your Code Here +++:\n",
    "            invDict[value].append(key)\n",
    "        else:\n",
    "            invDict[value] = [key]\n",
    "    return invDict\n",
    "\n",
    "def main():\n",
    "    '''\n",
    "    Objective: To find inverted dictionary\n",
    "    Input Parameter: None\n",
    "    Return Value: None\n",
    "    '''\n",
    "    wordMeaning = eval(input('Enter word meaning dictionary: '))\n",
    "    meaningWord = buildInvDict(wordMeaning)\n",
    "    print('Inverted Dictionary:\\n', meaningWord)\n",
    "\n",
    "# Statements to initiate the call to main function.\n",
    "if __name__ == '__main__':\n",
    "    main()\n"
   ]
  },
  {
   "cell_type": "markdown",
   "metadata": {
    "colab_type": "text",
    "id": "mWKHPkli6otg"
   },
   "source": []
  }
 ],
 "metadata": {
  "colab": {
   "collapsed_sections": [
    "xpxrOnk66odD",
    "GZjK_LYA6odl",
    "t_-2ROCL6oel",
    "39d12Mij6of8",
    "CRT-JV_K6ogq",
    "zVwG0FnE6ohu",
    "ux04PV_46oiO",
    "ioQXvoXz6oil",
    "BtM16SKr6ols",
    "P7ohXMbu6omE",
    "prUGNSBh6omu",
    "7ccHtlzR6onb",
    "9U5ZPK5s6on5",
    "BL3Kb_LT6ood",
    "m5ZM-lmj6oor",
    "_XklJWh86oo5",
    "oiy1n6uT6opm",
    "L9lROOH86oqZ",
    "ekJqXveG6oq5",
    "i2aSaFlA6orL",
    "Fct7a5MO6osB",
    "vHb29Zfp6osZ",
    "cafmhF3t6osr",
    "yY2rfdq26os5"
   ],
   "name": "Tutorial_Session3.ipynb",
   "provenance": [],
   "version": "0.3.2"
  },
  "kernelspec": {
   "display_name": "Python 3",
   "language": "python",
   "name": "python3"
  },
  "language_info": {
   "codemirror_mode": {
    "name": "ipython",
    "version": 3
   },
   "file_extension": ".py",
   "mimetype": "text/x-python",
   "name": "python",
   "nbconvert_exporter": "python",
   "pygments_lexer": "ipython3",
   "version": "3.7.1"
  }
 },
 "nbformat": 4,
 "nbformat_minor": 1
}
