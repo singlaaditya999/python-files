{
 "cells": [
  {
   "cell_type": "markdown",
   "metadata": {
    "colab_type": "text",
    "id": "xNPnJI9d5n5g"
   },
   "source": [
    "Python Tutorial: developed by Sheetal Taneja (Assistant Professor, Dyal Singh College), Ankit Rajpal (Assistant Professor, Deen Dayal Upadhyaya College), Naveen Kumar (Professor, Department of Computer Science), University of Delhi.   "
   ]
  },
  {
   "cell_type": "markdown",
   "metadata": {
    "colab_type": "text",
    "id": "-wgnT8Ym4_um"
   },
   "source": [
    "---\n",
    "# <font color= blue > **PYTHON** </font>\n",
    "* Interactive, interpreted, and object-oriented programming language. \n",
    "* Simple syntax \n",
    "* Developed by Guido Van Rossum in 1991 at the National Research Institute for Mathematics and Computer Science in the Netherlands.\n",
    "* Name was inspired by: Monty Python's Flying Circus"
   ]
  },
  {
   "cell_type": "markdown",
   "metadata": {
    "colab_type": "text",
    "id": "QEm_dcHi4_vF"
   },
   "source": [
    "## <font color= blue > PYTHON PROGRAMMING ENVIRONMENT </font>\n",
    "* Available on a wide variety of platforms including Windows, Linux and Mac OS X. \n",
    "* Official Website: __[python.org](https://python.org)__ \n",
    "* IDLE stands for Integrated Development and Learning Environment. Python IDLE comprises Python Shell and Python Editor.\n",
    "                                Python Shell                                    Python Editor                  \n",
    "![](1.png)\n",
    "\n",
    "---"
   ]
  },
  {
   "cell_type": "markdown",
   "metadata": {
    "colab_type": "text",
    "id": "y5mlT7bd4_vT"
   },
   "source": [
    "## <font color= blue > Display on screen </font>"
   ]
  },
  {
   "cell_type": "code",
   "execution_count": 0,
   "metadata": {
    "colab": {},
    "colab_type": "code",
    "id": "NlO8GyKG4_vh",
    "outputId": "3f96733d-9edd-4c25-ea38-0f3420ccc43d"
   },
   "outputs": [
    {
     "name": "stdout",
     "output_type": "stream",
     "text": [
      "hello world\n"
     ]
    }
   ],
   "source": [
    "print('hello world')"
   ]
  },
  {
   "cell_type": "markdown",
   "metadata": {
    "colab_type": "text",
    "id": "Dub6KRGj4_xP"
   },
   "source": [
    "---\n",
    "\n",
    "## <font color= blue > Names (Variables) and Assignment Statements </font>\n",
    "* Variables provide a means to name values so that they can be used and manipulated later.\n",
    "* Assignment Statement: Statement that assigns value to a variable."
   ]
  },
  {
   "cell_type": "code",
   "execution_count": 0,
   "metadata": {
    "colab": {},
    "colab_type": "code",
    "id": "p2s_uKH94_xj",
    "outputId": "873b7150-4550-4313-8d07-5d0c138e58d4"
   },
   "outputs": [
    {
     "name": "stdout",
     "output_type": "stream",
     "text": [
      "57\n"
     ]
    }
   ],
   "source": [
    "english = 57\n",
    "print(english)\n"
   ]
  },
  {
   "cell_type": "markdown",
   "metadata": {
    "colab_type": "text",
    "id": "_BEGcotS4_yS"
   },
   "source": [
    "Python associates the **name** (variable) **english** with value **57** i.e. the name (variable) **english** is assigned the value **57**, or that the name (variable) **english** refers to value **57**. Values are also called **objects**.\n",
    "<div style=\"width: 300px;\">\n",
    "    \n",
    "![](2.png)\n",
    "</div>"
   ]
  },
  {
   "cell_type": "markdown",
   "metadata": {
    "colab_type": "text",
    "id": "Yy40crWt4_yX"
   },
   "source": [
    "### <font color= blue > Rules for creating a name (variable) </font>\n",
    "* Must begin with a letter or _ (underscore character)\n",
    "* May contain any number of letters, digits, or underscore\n",
    "characters. No other character apart from these is allowed."
   ]
  },
  {
   "cell_type": "markdown",
   "metadata": {
    "colab_type": "text",
    "id": "9tnNAAbX4_yh"
   },
   "source": [
    "### <font color= blue > Shorthand Notation </font>\n",
    "            a = a <operator> b            is equivalent to\n",
    "            a <operator>= b"
   ]
  },
  {
   "cell_type": "code",
   "execution_count": 0,
   "metadata": {
    "colab": {},
    "colab_type": "code",
    "id": "43n0So2x4_ys",
    "outputId": "958b548c-9b2a-4647-b27a-da1ab3aaa0d3"
   },
   "outputs": [
    {
     "name": "stdout",
     "output_type": "stream",
     "text": [
      "11\n",
      "11\n"
     ]
    }
   ],
   "source": [
    "a = 6\n",
    "a = a + 5\n",
    "print(a)\n",
    "a = 6\n",
    "a += 5\n",
    "print(a)"
   ]
  },
  {
   "cell_type": "markdown",
   "metadata": {
    "colab_type": "text",
    "id": "52c65qUs4_zU"
   },
   "source": [
    "### <font color= blue > Multiple Assignments </font>\n",
    "* Used to enhance the readability of the program."
   ]
  },
  {
   "cell_type": "code",
   "execution_count": 0,
   "metadata": {
    "colab": {},
    "colab_type": "code",
    "collapsed": true,
    "id": "gdzyBcol4_zb"
   },
   "outputs": [],
   "source": [
    "msg, day, time = 'Meeting', 'Mon', '9'\n",
    "totalMarks = count = 0"
   ]
  },
  {
   "cell_type": "markdown",
   "metadata": {
    "colab_type": "text",
    "id": "TzoDwyHe4_z5"
   },
   "source": [
    "---\n",
    "## <font color= blue > Arithmetic Operators </font>"
   ]
  },
  {
   "cell_type": "code",
   "execution_count": 0,
   "metadata": {
    "colab": {},
    "colab_type": "code",
    "id": "qmlQoH644_0G",
    "outputId": "2cc60be6-0fc2-4f3d-8cf5-c32f498a731d"
   },
   "outputs": [
    {
     "name": "stdout",
     "output_type": "stream",
     "text": [
      "18 + 5 = 23\n",
      "18 - 5 = 13\n",
      "18 * 5 = 90\n",
      "27 / 5 = 5.4\n",
      "27 // 5 = 5\n",
      "27 % 5 = 2\n",
      "2 ** 3 = 8\n",
      "-2 ** 3 = -8\n"
     ]
    }
   ],
   "source": [
    "print(\"18 + 5 =\", 18 + 5)    #Addition\n",
    "print(\"18 - 5 =\", 18 - 5)    #Subtraction\n",
    "print(\"18 * 5 =\", 18 * 5)    #Multiplication\n",
    "print(\"27 / 5 =\", 27 / 5)    #Division\n",
    "print(\"27 // 5 =\", 27 // 5)  #Integer Division\n",
    "print(\"27 % 5 =\", 27 % 5)    #Modulus\n",
    "print(\"2 ** 3 =\", 2 ** 3)    #Exponentiation\n",
    "print(\"-2 ** 3 =\", -2 ** 3)  #Exponentiation"
   ]
  },
  {
   "cell_type": "code",
   "execution_count": 0,
   "metadata": {
    "colab": {},
    "colab_type": "code",
    "id": "T_4JyuUP4_0w",
    "outputId": "aaac08c9-8bb2-448e-fd10-b431efcc0040"
   },
   "outputs": [
    {
     "name": "stdout",
     "output_type": "stream",
     "text": [
      "'how' + ' are' + ' you?': how are you?\n",
      "'hello' * 5             : hellohellohellohellohello\n"
     ]
    }
   ],
   "source": [
    "print(\"'how' + ' are' + ' you?':\", 'how' + ' are' + ' you?')\n",
    "print(\"'hello' * 5             :\", 'hello' * 5)"
   ]
  },
  {
   "cell_type": "markdown",
   "metadata": {
    "colab_type": "text",
    "id": "6pDp7b4_4_1t"
   },
   "source": [
    "### <font color= green > Precedence of Arithmetic Operators </font>\n",
    "<div style=\"width: 600px;\"> \n",
    "    \n",
    "    \n",
    "![title](3.png) \n",
    "</div>"
   ]
  },
  {
   "cell_type": "markdown",
   "metadata": {
    "colab_type": "text",
    "id": "9Xcqq5Xs4_16"
   },
   "source": [
    "---\n",
    "## <font color= blue > Relational Operators </font>\n",
    "* Used for comparing two expressions and yield True or False.\n",
    "* The arithmetic operators have higher precedence than the relational operators."
   ]
  },
  {
   "cell_type": "code",
   "execution_count": 0,
   "metadata": {
    "colab": {},
    "colab_type": "code",
    "id": "p7xEW3_i4_2E",
    "outputId": "c20de488-a648-45a3-d932-d4571c57352c"
   },
   "outputs": [
    {
     "name": "stdout",
     "output_type": "stream",
     "text": [
      "23 < 25  : True\n",
      "23 > 25  : False\n",
      "23 <= 23 : True\n",
      "23 - 2.5 >= 5 * 4 : True\n",
      "23 == 25 : False\n",
      "23 != 25 : True\n"
     ]
    }
   ],
   "source": [
    "print(\"23 < 25  :\", 23 < 25)           #less than\n",
    "print(\"23 > 25  :\", 23 > 25)           #greater than\n",
    "print(\"23 <= 23 :\", 23 <= 23)          #less than or equal to\n",
    "print(\"23 - 2.5 >= 5 * 4 :\", 23 - 2.5 >= 5 * 4) #greater than or equal to\n",
    "print(\"23 == 25 :\", 23 == 25)          #equal to\n",
    "print(\"23 != 25 :\", 23 != 25)          #not equal to"
   ]
  },
  {
   "cell_type": "markdown",
   "metadata": {
    "colab_type": "text",
    "id": "KIzRWI994_2p"
   },
   "source": [
    "* When the relational operators are applied to strings, strings are compared left to right, character by character, based on their ASCII codes, also called ASCII values."
   ]
  },
  {
   "cell_type": "code",
   "execution_count": 0,
   "metadata": {
    "colab": {},
    "colab_type": "code",
    "id": "26SsLaf84_22",
    "outputId": "a94fe33b-d4dd-4e16-8420-075b7fb6da19"
   },
   "outputs": [
    {
     "name": "stdout",
     "output_type": "stream",
     "text": [
      "'hello' < 'Hello' : False\n",
      "'hi' > 'hello'    : True\n"
     ]
    }
   ],
   "source": [
    "print(\"'hello' < 'Hello' :\", 'hello' < 'Hello') \n",
    "print(\"'hi' > 'hello'    :\", 'hi' > 'hello') "
   ]
  },
  {
   "cell_type": "markdown",
   "metadata": {
    "colab_type": "text",
    "id": "WNa6jcYp4_4O"
   },
   "source": [
    "---\n",
    "## <font color= blue > Logical Operators </font>\n",
    "* The logical operators not, and, and or are applied to logical operands True and False, also called Boolean values, and yield either True or False.\n",
    "* As compared to relational and arithmetic operators, logical operators have the least precedence level."
   ]
  },
  {
   "cell_type": "code",
   "execution_count": 0,
   "metadata": {
    "colab": {},
    "colab_type": "code",
    "id": "oB_Qx25u4_4T",
    "outputId": "4a108590-3f35-4a47-83c1-c814430fa6a9"
   },
   "outputs": [
    {
     "name": "stdout",
     "output_type": "stream",
     "text": [
      "not True: False\n",
      "10 < 25 and 5 > 6  : False\n",
      "10 < 25 or 5 > 6   : True\n"
     ]
    }
   ],
   "source": [
    "print(\"not True:\", not True)              #not operator\n",
    "print(\"10 < 25 and 5 > 6  :\", 10 < 25 and 5 > 6) #and operator\n",
    "print(\"10 < 25 or 5 > 6   :\", 10 < 25 or 5 > 6)   #or operator"
   ]
  },
  {
   "cell_type": "markdown",
   "metadata": {
    "colab_type": "text",
    "id": "h2kaUvwx4_4s"
   },
   "source": [
    "### <font color= green > Precedence of Logical Operators </font>\n",
    "<div style=\"width: 200px;\"> \n",
    "    \n",
    "![title](4.png) \n",
    "</div>"
   ]
  },
  {
   "cell_type": "markdown",
   "metadata": {
    "colab_type": "text",
    "id": "hVPQr1Mp4_4x"
   },
   "source": [
    "---\n",
    "## <font color= blue > Python Keywords </font>\n",
    "* Reserved words that are already defined by the Python for specific uses."
   ]
  },
  {
   "cell_type": "code",
   "execution_count": 0,
   "metadata": {
    "colab": {},
    "colab_type": "code",
    "id": "ELwoU4cE4_41",
    "outputId": "1fe60da0-2652-482d-a05c-68edbbfe0575"
   },
   "outputs": [
    {
     "name": "stdout",
     "output_type": "stream",
     "text": [
      "['False', 'None', 'True', 'and', 'as', 'assert', 'break', 'class', 'continue', 'def', 'del', 'elif', 'else', 'except', 'finally', 'for', 'from', 'global', 'if', 'import', 'in', 'is', 'lambda', 'nonlocal', 'not', 'or', 'pass', 'raise', 'return', 'try', 'while', 'with', 'yield']\n"
     ]
    }
   ],
   "source": [
    "import keyword\n",
    "print(keyword.kwlist)"
   ]
  },
  {
   "cell_type": "markdown",
   "metadata": {
    "colab_type": "text",
    "id": "2YYmKJsW4_5m"
   },
   "source": [
    "['False', 'None', 'True', 'and', 'as', 'assert', 'break', 'class','continue', 'def',<br>\n",
    "'del', 'elif', 'else', 'except', 'finally', 'for', 'from', 'global', 'if', 'import', <br>\n",
    "'in', 'is', 'lambda','nonlocal', 'not', 'or', 'pass', 'raise', 'return', 'try',<br>\n",
    " 'while', 'with', 'yield']"
   ]
  },
  {
   "cell_type": "markdown",
   "metadata": {
    "colab_type": "text",
    "id": "fo9fRCgt4_5y"
   },
   "source": [
    "---\n",
    "## <font color= blue > Functions </font>\n",
    "* Functions provide a systematic way of problem solving by dividing the given problem into several sub-problems, finding their individual solutions, and integrating the solutions of individual problems to solve the original problem.\n",
    "* This approach to problem solving is called stepwise refinement method or modular approach."
   ]
  },
  {
   "cell_type": "markdown",
   "metadata": {
    "colab_type": "text",
    "id": "v_SuYjlr4_55"
   },
   "source": [
    "## <font color= blue > Built-in Functions </font>\n",
    "* Predefined functions that are already available in Python."
   ]
  },
  {
   "cell_type": "markdown",
   "metadata": {
    "colab_type": "text",
    "id": "sBWzolc34_6F"
   },
   "source": [
    "### <font color= green > Type Conversion: int, float, str functions </font>"
   ]
  },
  {
   "cell_type": "code",
   "execution_count": 0,
   "metadata": {
    "colab": {},
    "colab_type": "code",
    "id": "xdRNiSYd4_6d",
    "outputId": "0af42479-d62f-462a-b58c-a246e6d4355b"
   },
   "outputs": [
    {
     "data": {
      "text/plain": [
       "'123'"
      ]
     },
     "execution_count": 11,
     "metadata": {
      "tags": []
     },
     "output_type": "execute_result"
    }
   ],
   "source": [
    "str(123)"
   ]
  },
  {
   "cell_type": "code",
   "execution_count": 0,
   "metadata": {
    "colab": {},
    "colab_type": "code",
    "id": "90NlJPdf4_7O",
    "outputId": "3238b840-b8eb-4bf9-b5df-cbc370b93dad"
   },
   "outputs": [
    {
     "data": {
      "text/plain": [
       "234"
      ]
     },
     "execution_count": 12,
     "metadata": {
      "tags": []
     },
     "output_type": "execute_result"
    }
   ],
   "source": [
    "int('234')"
   ]
  },
  {
   "cell_type": "code",
   "execution_count": 0,
   "metadata": {
    "colab": {},
    "colab_type": "code",
    "id": "7bO0AoJj4_77",
    "outputId": "ba2accda-851a-461c-89f6-089b28df9225"
   },
   "outputs": [
    {
     "data": {
      "text/plain": [
       "234"
      ]
     },
     "execution_count": 13,
     "metadata": {
      "tags": []
     },
     "output_type": "execute_result"
    }
   ],
   "source": [
    "int(234.8)"
   ]
  },
  {
   "cell_type": "markdown",
   "metadata": {
    "colab_type": "text",
    "id": "mNw69dpR4_8f"
   },
   "source": [
    "### <font color= green > input function </font>\n",
    "* Enables us to accept an input string from the user\n",
    "without evaluating its value. \n",
    "* The function input continues to read input text from the user until it encounters a newline."
   ]
  },
  {
   "cell_type": "code",
   "execution_count": 0,
   "metadata": {
    "colab": {},
    "colab_type": "code",
    "id": "4_7umKk94_8v",
    "outputId": "34721d0b-cd5e-4045-80e7-e7755174f216"
   },
   "outputs": [
    {
     "name": "stdout",
     "output_type": "stream",
     "text": [
      "Enter a name: name\n",
      "Welcome name\n"
     ]
    }
   ],
   "source": [
    "name = input('Enter a name: ')\n",
    "print('Welcome', name)"
   ]
  },
  {
   "cell_type": "code",
   "execution_count": 0,
   "metadata": {
    "colab": {},
    "colab_type": "code",
    "id": "GYLGRT5b4_9U",
    "outputId": "21d44b1b-c156-4abd-978a-018e814d59e4"
   },
   "outputs": [
    {
     "name": "stdout",
     "output_type": "stream",
     "text": [
      "Enter cost price: 12\n",
      "Enter profit: 3\n",
      "Selling Price:  15\n"
     ]
    }
   ],
   "source": [
    "costPrice = int(input('Enter cost price: '))\n",
    "profit = int(input('Enter profit: '))\n",
    "sellingPrice = costPrice + profit\n",
    "print('Selling Price: ', sellingPrice)"
   ]
  },
  {
   "cell_type": "markdown",
   "metadata": {
    "colab_type": "text",
    "id": "-XlZTSF44_9n"
   },
   "source": [
    "### <font color= green > eval function </font>\n",
    "* Used to evaluate the value of a string."
   ]
  },
  {
   "cell_type": "code",
   "execution_count": 0,
   "metadata": {
    "colab": {},
    "colab_type": "code",
    "id": "0CoJ9iP14_9x",
    "outputId": "6feb9f35-20c6-4d50-9517-3d493d5b2ecf"
   },
   "outputs": [
    {
     "name": "stdout",
     "output_type": "stream",
     "text": [
      "25\n"
     ]
    }
   ],
   "source": [
    "a = eval('15+10')\n",
    "print(a)"
   ]
  },
  {
   "cell_type": "markdown",
   "metadata": {
    "colab_type": "text",
    "id": "aGbaeaN44_-E"
   },
   "source": [
    "### <font color= green > min and max functions </font>\n",
    "* Used to find maximum and minimum value respectively out of several values."
   ]
  },
  {
   "cell_type": "code",
   "execution_count": 0,
   "metadata": {
    "colab": {},
    "colab_type": "code",
    "id": "XCwxgzW54_-I",
    "outputId": "20275bcc-d9ff-44c7-868f-e548e77a1da8"
   },
   "outputs": [
    {
     "name": "stdout",
     "output_type": "stream",
     "text": [
      "Minimum Value 95.6\n",
      "Maximum Value Sir\n"
     ]
    }
   ],
   "source": [
    "a = max(59, 80, 95.6, 95.2)\n",
    "b = min('hello', 'how', 'are', 'you', 'Sir')\n",
    "print(\"Minimum Value\", a)\n",
    "print(\"Maximum Value\", b)"
   ]
  },
  {
   "cell_type": "markdown",
   "metadata": {
    "colab_type": "text",
    "id": "wGbStyAd4_-z"
   },
   "source": [
    "### <font color= green > Functions from math module </font>\n",
    "* Used to find maximum and minimum value respectively out of several values."
   ]
  },
  {
   "cell_type": "code",
   "execution_count": 0,
   "metadata": {
    "colab": {},
    "colab_type": "code",
    "id": "IShk1f_t4_-4",
    "outputId": "f612067d-65bb-446b-e874-5fd5627014bf"
   },
   "outputs": [
    {
     "name": "stdout",
     "output_type": "stream",
     "text": [
      "math.ceil(3.4)  : 4\n",
      "math.pow(3, 3)  : 27.0\n",
      "math.sqrt(65)   : 8.06225774829855\n",
      "math.sqrt(65)   : 8.06\n",
      "math.log10(100) : 2.0\n"
     ]
    }
   ],
   "source": [
    "import math\n",
    "print(\"math.ceil(3.4)  :\", math.ceil(3.4))\n",
    "print(\"math.pow(3, 3)  :\", math.pow(3, 3))\n",
    "print(\"math.sqrt(65)   :\", math.sqrt(65))\n",
    "print(\"math.sqrt(65)   :\", round(math.sqrt(65),2))\n",
    "print(\"math.log10(100) :\", math.log10(100))"
   ]
  },
  {
   "cell_type": "markdown",
   "metadata": {
    "colab_type": "text",
    "id": "mbu-X9Ky4__j"
   },
   "source": [
    "### <font color= green > help function </font>\n",
    "* Used to know the purpose of a function and how it is used."
   ]
  },
  {
   "cell_type": "code",
   "execution_count": 0,
   "metadata": {
    "colab": {},
    "colab_type": "code",
    "id": "5Ib9SyKs4__p",
    "outputId": "57e6df97-863b-455b-bd0e-099540f40807"
   },
   "outputs": [
    {
     "name": "stdout",
     "output_type": "stream",
     "text": [
      "Help on built-in function cos in module math:\n",
      "\n",
      "cos(...)\n",
      "    cos(x)\n",
      "    \n",
      "    Return the cosine of x (measured in radians).\n",
      "\n",
      "None\n"
     ]
    }
   ],
   "source": [
    "import math\n",
    "print(help(math.cos))"
   ]
  },
  {
   "cell_type": "markdown",
   "metadata": {
    "colab_type": "text",
    "id": "fauBpCsf5AAF"
   },
   "source": [
    "## <font color= blue > Function Definition and Call </font>"
   ]
  },
  {
   "cell_type": "markdown",
   "metadata": {
    "colab_type": "text",
    "id": "lylU4Av05AAK"
   },
   "source": [
    "> The **syntax** for a function definition is as follows:\n",
    "\n",
    "    def function_name ( comma_separated_list_of_parameters):\n",
    "        statements\n",
    "Note: Statements below **def** begin with four spaces. This is called **indentation**. It is a requirement of Python that the code following a colon must be indented."
   ]
  },
  {
   "cell_type": "code",
   "execution_count": 0,
   "metadata": {
    "colab": {},
    "colab_type": "code",
    "collapsed": true,
    "id": "tN-UnqFK5AAV"
   },
   "outputs": [],
   "source": [
    "def triangle():\n",
    "    '''\n",
    "    Objective: To print a right angled triangle.\n",
    "    Input Parameter: None\n",
    "    Return Value: None\n",
    "    '''\n",
    "    '''\n",
    "    Approach: To use a print statement for each line of output\n",
    "    '''\n",
    "    print('*')\n",
    "    print('* *')\n",
    "    print('* * *')\n",
    "    print('* * * *')"
   ]
  },
  {
   "cell_type": "markdown",
   "metadata": {
    "colab_type": "text",
    "id": "l9IUgqOx5AAm"
   },
   "source": [
    "#### Invoking the function"
   ]
  },
  {
   "cell_type": "code",
   "execution_count": 0,
   "metadata": {
    "colab": {},
    "colab_type": "code",
    "id": "-BEcS00f5AAq",
    "outputId": "0d7fa5f8-1365-4eb0-cd95-f8004b9766cd"
   },
   "outputs": [
    {
     "name": "stdout",
     "output_type": "stream",
     "text": [
      "*\n",
      "* *\n",
      "* * *\n",
      "* * * *\n"
     ]
    }
   ],
   "source": [
    "triangle()"
   ]
  },
  {
   "cell_type": "markdown",
   "metadata": {
    "colab_type": "text",
    "id": "Rai_MdsG5ABD"
   },
   "source": [
    "### <font color= green > Computing Area of the Rectangle </font>"
   ]
  },
  {
   "cell_type": "code",
   "execution_count": 0,
   "metadata": {
    "colab": {},
    "colab_type": "code",
    "collapsed": true,
    "id": "HLBEboTf5ABH"
   },
   "outputs": [],
   "source": [
    "def areaRectangle(length, breadth):\n",
    "    '''\n",
    "    Objective: To compute the area of rectangle\n",
    "    Input Parameters: length, breadth – numeric value\n",
    "    Return Value: area - numeric value\n",
    "    '''\n",
    "    area = length * breadth\n",
    "    return area"
   ]
  },
  {
   "cell_type": "code",
   "execution_count": 0,
   "metadata": {
    "colab": {},
    "colab_type": "code",
    "id": "JXJhxWkC5ABZ",
    "outputId": "fc7cb344-cc09-4796-9a9c-1f2da2c77fa0"
   },
   "outputs": [
    {
     "data": {
      "text/plain": [
       "35"
      ]
     },
     "execution_count": 23,
     "metadata": {
      "tags": []
     },
     "output_type": "execute_result"
    }
   ],
   "source": [
    "areaRectangle(7,5)"
   ]
  },
  {
   "cell_type": "code",
   "execution_count": 0,
   "metadata": {
    "colab": {},
    "colab_type": "code",
    "id": "9FY56NNO5AB3",
    "outputId": "a286f565-444a-4b18-be97-adaa069bc798"
   },
   "outputs": [
    {
     "name": "stdout",
     "output_type": "stream",
     "text": [
      "Help on function areaRectangle in module __main__:\n",
      "\n",
      "areaRectangle(length, breadth)\n",
      "    Objective: To compute the area of rectangle\n",
      "    Input Parameters: length, breadth – numeric value\n",
      "    Return Value: area - numeric value\n",
      "\n"
     ]
    }
   ],
   "source": [
    "help(areaRectangle)"
   ]
  },
  {
   "cell_type": "code",
   "execution_count": 1,
   "metadata": {
    "colab": {},
    "colab_type": "code",
    "id": "mwFuU_Rl5ACQ",
    "outputId": "b5a396ca-bd89-435a-a759-bf711d634696"
   },
   "outputs": [
    {
     "name": "stdout",
     "output_type": "stream",
     "text": [
      "Enter the following values for rectangle:\n",
      "Length : integer value: 1\n",
      "Breadth : integer value: 1\n",
      "Area of rectangle is 1\n"
     ]
    }
   ],
   "source": [
    "def areaRectangle(length, breadth=1):\n",
    "    '''\n",
    "    Objective: To compute the area of rectangle\n",
    "    Input Parameters: length, breadth - numeric value\n",
    "    Return Value: area - numeric value\n",
    "    '''\n",
    "    area = length * breadth\n",
    "    return area\n",
    "\n",
    "def main():\n",
    "    '''\n",
    "    Objective: To compute the area of rectangle based on user input\n",
    "    Input Parameter: None\n",
    "    Return Value: None\n",
    "    '''\n",
    "    print('Enter the following values for rectangle:')\n",
    "    lengthRect = int(input('Length : integer value: '))\n",
    "    breadthRect = int(input('Breadth : integer value: '))\n",
    "    areaRect = areaRectangle(lengthRect, breadthRect)\n",
    "    print('Area of rectangle is', areaRect)\n",
    "    \n",
    "if __name__ == '__main__':\n",
    "    main()"
   ]
  },
  {
   "cell_type": "markdown",
   "metadata": {
    "colab_type": "text",
    "id": "k0yfDyhB5AC9"
   },
   "source": [
    "---\n",
    "## <font color= blue > Control Structures </font>\n",
    "* Needed for non-sequential and repetitive execution of instructions."
   ]
  },
  {
   "cell_type": "markdown",
   "metadata": {
    "colab_type": "text",
    "id": "jmEbOSHi5AC_"
   },
   "source": [
    "## <font color= blue > if Conditional Statement </font>\n",
    "* Used to execute a certain sequence of statements depending upon fulfilment of a particular condition\n",
    "> The general form of **if-elif-else** statement is as follows:\n",
    "\n",
    "\n",
    "    if < condition1 >:\n",
    "        < Sequence S1 of statements to be executed >\n",
    "    elif < condition2 >:\n",
    "        < Sequence S2 of statements to be executed >\n",
    "    elif < condition3 >:\n",
    "        < Sequence S3 of statements to be executed >\n",
    "    ...\n",
    "    \n",
    "    else:\n",
    "        < Sequence Sn of statements to be executed >"
   ]
  },
  {
   "cell_type": "markdown",
   "metadata": {
    "colab_type": "text",
    "id": "zSmXBJRj5ADE"
   },
   "source": [
    "### <font color= green >Problem: Grade assignment on the basis of marks obtained</font>"
   ]
  },
  {
   "cell_type": "code",
   "execution_count": 0,
   "metadata": {
    "colab": {},
    "colab_type": "code",
    "id": "6YRLOTKa5ADQ",
    "outputId": "d9ddf5ee-c3b3-4af9-b853-adbd16017c20"
   },
   "outputs": [
    {
     "name": "stdout",
     "output_type": "stream",
     "text": [
      "Enter your marks: 45\n",
      "Marks: 45.0 \n",
      "Grade: D\n"
     ]
    }
   ],
   "source": [
    "def assignGrade(marks):\n",
    "    '''\n",
    "    Objective: To assign grade on the basis of marks obtained\n",
    "    Input Parameter: marks – numeric value\n",
    "    Return Value: grade - string\n",
    "    '''\n",
    "    assert marks >= 0 and marks <= 100\n",
    "    if marks >= 90:\n",
    "        grade = 'A'\n",
    "    elif marks >= 70:\n",
    "        grade = 'B'\n",
    "    elif marks >= 50:\n",
    "        grade = 'C'\n",
    "    elif marks >= 40:\n",
    "        grade = 'D'\n",
    "    else:\n",
    "        grade = 'F'\n",
    "    return grade\n",
    "\n",
    "def main():\n",
    "    '''\n",
    "    Objective: To assign grade on the basis of input marks\n",
    "    Input Parameter: None\n",
    "    Return Value: None\n",
    "    '''\n",
    "    marks = float(input('Enter your marks: '))\n",
    "    print('Marks:', marks, '\\nGrade:', assignGrade(marks))\n",
    "\n",
    "if __name__ == '__main__':\n",
    "    main()"
   ]
  },
  {
   "cell_type": "markdown",
   "metadata": {
    "colab_type": "text",
    "id": "ET-rtc5g5ADi"
   },
   "source": [
    "## <font color= blue > for Statement </font>\n",
    "* It is used when we want to execute a sequence of statements (indented to the right of keyword for) a fixed number of times.\n",
    "> Syntax of **for** statement is as follows:\n",
    "    \n",
    "\n",
    "    for variable in sequence:\n",
    "            <block S of statements>"
   ]
  },
  {
   "cell_type": "code",
   "execution_count": 0,
   "metadata": {
    "colab": {},
    "colab_type": "code",
    "id": "IfwdSEAv5ADk",
    "outputId": "4bfe4af3-c6e4-47b6-8552-ae564590b279"
   },
   "outputs": [
    {
     "name": "stdout",
     "output_type": "stream",
     "text": [
      "h\n",
      "e\n",
      "l\n",
      "l\n",
      "o\n"
     ]
    }
   ],
   "source": [
    "for letter in \"hello\":\n",
    "    print(letter)"
   ]
  },
  {
   "cell_type": "markdown",
   "metadata": {
    "colab_type": "text",
    "id": "yAEjhkFO5ADy"
   },
   "source": [
    "### <font color= green > Generating sequence of numbers using range function</font>\n",
    "> Syntax:\n",
    "\n",
    "    range(start, end, increment)"
   ]
  },
  {
   "cell_type": "markdown",
   "metadata": {
    "colab_type": "text",
    "id": "U3P-KPTF5AD3"
   },
   "source": [
    "The function call\n",
    "**range(1,n + 1)** produces a sequence of numbers from 1 to n"
   ]
  },
  {
   "cell_type": "code",
   "execution_count": 0,
   "metadata": {
    "colab": {},
    "colab_type": "code",
    "id": "Kjhfa-0X5AED",
    "outputId": "c319fa08-ed9e-4aaf-e3f8-f6b4992fa34e"
   },
   "outputs": [
    {
     "name": "stdout",
     "output_type": "stream",
     "text": [
      "1\n",
      "2\n",
      "3\n",
      "4\n",
      "5\n",
      "6\n",
      "7\n",
      "8\n",
      "9\n",
      "10\n"
     ]
    }
   ],
   "source": [
    "start = 1\n",
    "limit = 11\n",
    "for num in range(start, limit):\n",
    "    print(num)"
   ]
  },
  {
   "cell_type": "code",
   "execution_count": 0,
   "metadata": {
    "colab": {},
    "colab_type": "code",
    "id": "AZlO49r45AET",
    "outputId": "5871e986-7597-46bd-9819-50455a353f75"
   },
   "outputs": [
    {
     "name": "stdout",
     "output_type": "stream",
     "text": [
      "1\n",
      "3\n",
      "5\n",
      "7\n",
      "9\n"
     ]
    }
   ],
   "source": [
    "start = 1\n",
    "limit = 11\n",
    "step = 2\n",
    "for num in range(start, limit, step):\n",
    "    print(num)"
   ]
  },
  {
   "cell_type": "code",
   "execution_count": 0,
   "metadata": {
    "colab": {},
    "colab_type": "code",
    "id": "semwy5Cj5AEd",
    "outputId": "41036d1a-cc0e-4aa3-dcab-cdecb557802d"
   },
   "outputs": [
    {
     "name": "stdout",
     "output_type": "stream",
     "text": [
      "30\n",
      "27\n",
      "24\n",
      "21\n",
      "18\n",
      "15\n",
      "12\n",
      "9\n",
      "6\n",
      "3\n",
      "0\n",
      "-3\n"
     ]
    }
   ],
   "source": [
    "start = 30\n",
    "limit = -4\n",
    "step = -3\n",
    "for num in range(start, limit, step):\n",
    "    print(num)"
   ]
  },
  {
   "cell_type": "code",
   "execution_count": 0,
   "metadata": {
    "colab": {},
    "colab_type": "code",
    "id": "UnwO9kyc5AEl",
    "outputId": "1bdf2dd5-8833-41bc-c390-0f9c9c54d42b"
   },
   "outputs": [
    {
     "name": "stdout",
     "output_type": "stream",
     "text": [
      "0\n",
      "1\n",
      "2\n",
      "3\n",
      "4\n"
     ]
    }
   ],
   "source": [
    "limit = 5\n",
    "for num in range(limit):\n",
    "    print(num)"
   ]
  },
  {
   "cell_type": "markdown",
   "metadata": {
    "colab_type": "text",
    "id": "VHvJmh3x5AEz"
   },
   "source": [
    "### <font color= green > Problem: Printing a Triangle </font>"
   ]
  },
  {
   "cell_type": "code",
   "execution_count": 0,
   "metadata": {
    "colab": {},
    "colab_type": "code",
    "id": "MnG3VGE-5AE2",
    "outputId": "772cdb5d-fa14-47e3-9dd7-e60be501bb3f"
   },
   "outputs": [
    {
     "name": "stdout",
     "output_type": "stream",
     "text": [
      "Enter number of rows: 78\n",
      "*\n",
      "**\n",
      "***\n",
      "****\n",
      "*****\n",
      "******\n",
      "*******\n",
      "********\n",
      "*********\n",
      "**********\n",
      "***********\n",
      "************\n",
      "*************\n",
      "**************\n",
      "***************\n",
      "****************\n",
      "*****************\n",
      "******************\n",
      "*******************\n",
      "********************\n",
      "*********************\n",
      "**********************\n",
      "***********************\n",
      "************************\n",
      "*************************\n",
      "**************************\n",
      "***************************\n",
      "****************************\n",
      "*****************************\n",
      "******************************\n",
      "*******************************\n",
      "********************************\n",
      "*********************************\n",
      "**********************************\n",
      "***********************************\n",
      "************************************\n",
      "*************************************\n",
      "**************************************\n",
      "***************************************\n",
      "****************************************\n",
      "*****************************************\n",
      "******************************************\n",
      "*******************************************\n",
      "********************************************\n",
      "*********************************************\n",
      "**********************************************\n",
      "***********************************************\n",
      "************************************************\n",
      "*************************************************\n",
      "**************************************************\n",
      "***************************************************\n",
      "****************************************************\n",
      "*****************************************************\n",
      "******************************************************\n",
      "*******************************************************\n",
      "********************************************************\n",
      "*********************************************************\n",
      "**********************************************************\n",
      "***********************************************************\n",
      "************************************************************\n",
      "*************************************************************\n",
      "**************************************************************\n",
      "***************************************************************\n",
      "****************************************************************\n",
      "*****************************************************************\n",
      "******************************************************************\n",
      "*******************************************************************\n",
      "********************************************************************\n",
      "*********************************************************************\n",
      "**********************************************************************\n",
      "***********************************************************************\n",
      "************************************************************************\n",
      "*************************************************************************\n",
      "**************************************************************************\n",
      "***************************************************************************\n",
      "****************************************************************************\n",
      "*****************************************************************************\n",
      "******************************************************************************\n"
     ]
    }
   ],
   "source": [
    "def rightTriangle(rows):\n",
    "    '''\n",
    "    Objective: To print a triangle comprising of asterisks\n",
    "    Input Parameter: rows - numeric\n",
    "    Return Value: None\n",
    "    '''\n",
    "    for i in range(1, rows + 1):\n",
    "        print('*' * i)\n",
    "    \n",
    "def main():\n",
    "    '''\n",
    "    Objective: To compute factorial of a number provided as an input\n",
    "    Input Parameter: None\n",
    "    Return Value: None\n",
    "    '''\n",
    "    rows = int(input('Enter number of rows: '))\n",
    "    rightTriangle(rows)\n",
    "\n",
    "if __name__ == '__main__':\n",
    "    main()"
   ]
  },
  {
   "cell_type": "markdown",
   "metadata": {
    "colab_type": "text",
    "id": "U9VSyh0o5AFF"
   },
   "source": [
    "### <font color= green > Problem: Factorial of a number </font>\n"
   ]
  },
  {
   "cell_type": "code",
   "execution_count": 0,
   "metadata": {
    "colab": {},
    "colab_type": "code",
    "id": "sR2DWWfU5AFH",
    "outputId": "fbb5983d-cee8-4f1f-c7be-526e74bfb78e"
   },
   "outputs": [
    {
     "name": "stdout",
     "output_type": "stream",
     "text": [
      "Enter the number: 5\n",
      "Result: 120\n"
     ]
    }
   ],
   "source": [
    "def factorial(num):\n",
    "    '''\n",
    "    Objective: To compute factorial of a number\n",
    "    Input Parameter: num - numeric\n",
    "    Return Value: num! - numeric\n",
    "    '''\n",
    "    if num <= 0:\n",
    "        return 'Factorial Not defined'\n",
    "    fact = 1\n",
    "    for i in range(1, num+1):\n",
    "        fact = fact * i\n",
    "    return fact\n",
    "    \n",
    "def main():\n",
    "    '''\n",
    "    Objective: To compute factorial of a number provided as an input\n",
    "    Input Parameter: None\n",
    "    Return Value: None\n",
    "    '''\n",
    "    num = int(input('Enter the number: '))\n",
    "    fact = factorial(num)\n",
    "    print(\"Result:\", fact)\n",
    "\n",
    "if __name__ == '__main__':\n",
    "    main()"
   ]
  },
  {
   "cell_type": "markdown",
   "metadata": {
    "colab_type": "text",
    "id": "etiGaWbW5AFU"
   },
   "source": [
    "## <font color= blue > while Statement </font>\n",
    "* It is used for executing a sequence of statements again and again on the basis of some test condition.\n",
    "* If the test condition holds True, the body of the loop is executed, otherwise the control moves to the statement immediately following the while loop.\n",
    "> Syntax of **while** statement is as follows:\n",
    "    \n",
    "\n",
    "    while <test condition>:\n",
    "        <Sequence of statements S>"
   ]
  },
  {
   "cell_type": "code",
   "execution_count": 0,
   "metadata": {
    "colab": {},
    "colab_type": "code",
    "id": "NatMs3XY5AFV",
    "outputId": "1d041ce6-bd0f-4ee2-c05d-81cc7d9d14ba"
   },
   "outputs": [
    {
     "name": "stdout",
     "output_type": "stream",
     "text": [
      "1\n",
      "2\n",
      "3\n",
      "4\n",
      "5\n"
     ]
    }
   ],
   "source": [
    "count, n = 1, 5\n",
    "while count < n+1:\n",
    "    print(count)\n",
    "    count += 1"
   ]
  },
  {
   "cell_type": "markdown",
   "metadata": {
    "colab_type": "text",
    "id": "gMalChUj5AFl"
   },
   "source": [
    "### <font color= green > Sum of digits of a number </font>"
   ]
  },
  {
   "cell_type": "code",
   "execution_count": 0,
   "metadata": {
    "colab": {},
    "colab_type": "code",
    "id": "2K9LF3wR5AFn",
    "outputId": "1bda772e-ab91-46e1-dd63-86df8a3ce216"
   },
   "outputs": [
    {
     "name": "stdout",
     "output_type": "stream",
     "text": [
      "Enter the number: 1567\n",
      "Result: 19\n"
     ]
    }
   ],
   "source": [
    "def sumOfDigits(num):\n",
    "    '''\n",
    "    Objective: To compute sum of digits of a number\n",
    "    Input Parameter: num - numeric\n",
    "    Return Value: numeric\n",
    "    '''\n",
    "    '''\n",
    "    Approach:\n",
    "        Ingore the sign of number. Initialize sum to zero.\n",
    "        Extract digits one by one beginning unit's place and keeps on\n",
    "        adding it to sum.\n",
    "    '''\n",
    "    num = abs(num)\n",
    "    total = 0\n",
    "    while num >= 1:\n",
    "        total += (num % 10)\n",
    "        num = num // 10\n",
    "    return total\n",
    "    \n",
    "def main():\n",
    "    '''\n",
    "    Objective: To compute sum of digits of a number provided as an input\n",
    "    Input Parameter: None\n",
    "    Return Value: None\n",
    "    '''\n",
    "    num = int(input('Enter the number: '))\n",
    "    total = sumOfDigits(num)\n",
    "    print(\"Result:\", total)\n",
    "\n",
    "if __name__ == '__main__':\n",
    "    main()"
   ]
  },
  {
   "cell_type": "markdown",
   "metadata": {
    "colab_type": "text",
    "id": "ylg938S65AFy"
   },
   "source": [
    "# Exercises"
   ]
  },
  {
   "cell_type": "markdown",
   "metadata": {
    "colab_type": "text",
    "id": "Pbjxd1wx5AF0"
   },
   "source": [
    "### <font color= green > Gross Salary </font>"
   ]
  },
  {
   "cell_type": "code",
   "execution_count": 0,
   "metadata": {
    "colab": {},
    "colab_type": "code",
    "collapsed": true,
    "id": "JMwDrREd5AF3"
   },
   "outputs": [],
   "source": [
    "def computeGrossSalary(basicSalary, daPercent, hraPercent):\n",
    "    '''\n",
    "    Objective: To compute gross salary given a basic salary, hra% and da%.\n",
    "    Input Parameters: basicSalary, daPercent, hraPercent - numeric\n",
    "    Return Value: grossSalary - numeric\n",
    "    '''\n",
    "    '''\n",
    "    Approach: grossSalary is calculated as the sum of basicSalary,\n",
    "    daPercent of basicSalary and hraPercent of basicSalary\n",
    "    '''\n",
    "\n",
    "    # +++ Your Code Here +++ \n",
    "    return grossSalary\n",
    "\n",
    "def main():\n",
    "    '''\n",
    "    Objective: To compute gross salary given a basic salary, grade pay, conveyance charges, hra% and da%.\n",
    "    Input Parameter: None\n",
    "    Return Value: None\n",
    "    '''\n",
    "    basicSalary = float(input('Enter Basic Salary (in rupees): '))\n",
    "    daPercent = float(input('percent of da: ')) \n",
    "    hraPercent = float(input('Percent of hra:'))\n",
    "    print('Your Gross Salary ', computeGrossSalary(basicSalary, daPercent, hraPercent))\n",
    "\n",
    "if __name__ == '__main__':\n",
    "    main()"
   ]
  },
  {
   "cell_type": "markdown",
   "metadata": {
    "colab_type": "text",
    "id": "edMnfAnk5AGe"
   },
   "source": [
    "### <font color= green > Max Three </font>"
   ]
  },
  {
   "cell_type": "code",
   "execution_count": 0,
   "metadata": {
    "colab": {},
    "colab_type": "code",
    "collapsed": true,
    "id": "p9xOs3sp5AGo"
   },
   "outputs": [],
   "source": [
    "def max2(n1, n2):\n",
    "   '''\n",
    "   Objective: To find maximum of two numbers\n",
    "   Input Parameters: n1, n2 - numeric values\n",
    "   Return Value: maximum of n1, n2 - numeric value\n",
    "   '''\n",
    "   '''\n",
    "   Approach:\n",
    "       Compare two numbers and return the maximum of two numbers.\n",
    "   '''\n",
    "   # +++ Your Code Here +++ \n",
    "       \n",
    "def max3(n1, n2, n3):\n",
    "   '''\n",
    "   Objective: To find maximum of three numbers\n",
    "   Input Parameters: n1, n2, n3 - numeric values\n",
    "   Return Value: number - numeric value\n",
    "   '''\n",
    "   '''\n",
    "   Approach:\n",
    "       Find maximum of two numbers and compare the larger with the third number\n",
    "       Use function max2\n",
    "   '''\n",
    "   return max2(max2(n1, n2), n3)\n",
    "\n",
    "def main():\n",
    "   '''\n",
    "   Objective: To find maximum of three numbers provided as input\n",
    "   by user\n",
    "   Input Parameter: None\n",
    "   Return Value: None\n",
    "   '''\n",
    "   n1 = int(input('Enter first number: '))\n",
    "   n2 = int(input('Enter second number: '))\n",
    "   n3 = int(input('Enter third number: '))\n",
    "   maximum = max3(n1, n2, n3)\n",
    "   print('Maximum number is', maximum)\n",
    "\n",
    "if __name__ == '__main__':\n",
    "    main()"
   ]
  },
  {
   "cell_type": "markdown",
   "metadata": {
    "colab_type": "text",
    "id": "CcE3BmqG5AG4"
   },
   "source": [
    "### <font color= green > Inverted Triangle </font>"
   ]
  },
  {
   "cell_type": "code",
   "execution_count": 0,
   "metadata": {
    "colab": {},
    "colab_type": "code",
    "collapsed": true,
    "id": "EH_dUB2Z5AG5"
   },
   "outputs": [],
   "source": [
    "def invertedRightTriangle(rows):\n",
    "    '''\n",
    "    Objective: To print an inverted triangle comprising of asterisks\n",
    "    Input Parameter: rows - numeric\n",
    "    Return Value: None\n",
    "    '''\n",
    "    start, end, step = rows, 0, -1\n",
    "    for i in range(start, end, step):\n",
    "        # +++ Your Code Here +++ \n",
    "    \n",
    "def main():\n",
    "    '''\n",
    "    Objective: To compute factorial of a number provided as an input\n",
    "    Input Parameter: None\n",
    "    Return Value: None\n",
    "    '''\n",
    "    rows = int(input('Enter the number: '))\n",
    "    invertedRightTriangle(rows)\n",
    "\n",
    "if __name__ == '__main__':\n",
    "    main()"
   ]
  },
  {
   "cell_type": "markdown",
   "metadata": {
    "colab_type": "text",
    "id": "kv9E3Aij5AHB"
   },
   "source": [
    "### <font color= green > Prime </font>"
   ]
  },
  {
   "cell_type": "code",
   "execution_count": 0,
   "metadata": {
    "colab": {},
    "colab_type": "code",
    "collapsed": true,
    "id": "6J-TycPu5AHE"
   },
   "outputs": [],
   "source": [
    "def isPrime(n):\n",
    "    '''\n",
    "    Objective: To check if a number is prime or not\n",
    "    Input Parameter: n - numeric value\n",
    "    Return Value: message – boolean value\n",
    "    '''\n",
    "    '''\n",
    "    Approach: Check to find out if there is any factor of number n or not.\n",
    "    All the numbers in the range [3, root(n)] are checked for factor test.\n",
    "    '''\n",
    "    if n == 1: # 1 is not prime\n",
    "        return False\n",
    "    limit = int (round(n ** 0.5))\n",
    "    for i in range(2, limit + 1):\n",
    "        if # +++ Condition Here +++ :\n",
    "            return False\n",
    "    return True\n",
    "\n",
    "def main():\n",
    "    '''\n",
    "    Objective: To check if the number entered by the user is a\n",
    "    prime number\n",
    "    Input Parameter: None\n",
    "    Return Value: None\n",
    "    '''\n",
    "    n = int(input('Enter number: '))\n",
    "    result = isPrime(n)\n",
    "    if result == True:\n",
    "        print(n, 'is a prime number')\n",
    "    else:\n",
    "        print(n, 'is not a prime number')\n",
    "\n",
    "if __name__ == '__main__':\n",
    "    main()"
   ]
  },
  {
   "cell_type": "code",
   "execution_count": 0,
   "metadata": {
    "colab": {},
    "colab_type": "code",
    "collapsed": true,
    "id": "2REng3OL5AHJ"
   },
   "outputs": [],
   "source": []
  }
 ],
 "metadata": {
  "colab": {
   "collapsed_sections": [
    "6pDp7b4_4_1t",
    "h2kaUvwx4_4s",
    "sBWzolc34_6F",
    "mNw69dpR4_8f",
    "-XlZTSF44_9n",
    "aGbaeaN44_-E",
    "wGbStyAd4_-z",
    "mbu-X9Ky4__j",
    "l9IUgqOx5AAm",
    "Rai_MdsG5ABD",
    "zSmXBJRj5ADE",
    "yAEjhkFO5ADy",
    "VHvJmh3x5AEz",
    "U9VSyh0o5AFF",
    "gMalChUj5AFl",
    "Pbjxd1wx5AF0",
    "edMnfAnk5AGe",
    "CcE3BmqG5AG4",
    "kv9E3Aij5AHB"
   ],
   "name": "Tutorial_Session1.ipynb",
   "provenance": [],
   "version": "0.3.2"
  },
  "kernelspec": {
   "display_name": "Python 3",
   "language": "python",
   "name": "python3"
  },
  "language_info": {
   "codemirror_mode": {
    "name": "ipython",
    "version": 3
   },
   "file_extension": ".py",
   "mimetype": "text/x-python",
   "name": "python",
   "nbconvert_exporter": "python",
   "pygments_lexer": "ipython3",
   "version": "3.7.1"
  }
 },
 "nbformat": 4,
 "nbformat_minor": 1
}
