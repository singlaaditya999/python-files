{
 "cells": [
  {
   "cell_type": "markdown",
   "metadata": {
    "colab_type": "text",
    "id": "xNPnJI9d5n5g"
   },
   "source": [
    "Classes Tutorial: developed by Sheetal Taneja (Assistant Professor, Dyal Singh College), Ankit Rajpal (Assistant Professor, Deen Dayal Upadhyaya College), Naveen Kumar (Professor, Department of Computer Science), University of Delhi.   "
   ]
  },
  {
   "cell_type": "markdown",
   "metadata": {
    "colab_type": "text",
    "id": "p8rYFVHM7GpL"
   },
   "source": [
    "# <font color= blue > CLASSES </font>\n",
    "* A class is a template that provides a logical grouping of data and methods that operate on them. \n",
    "* Instances of a class are called objects.\n",
    "* Data and methods associated with a class are collectively known as class attributes."
   ]
  },
  {
   "cell_type": "markdown",
   "metadata": {
    "colab_type": "text",
    "id": "mtJuM8cL7Gpd"
   },
   "source": [
    "## <font color= blue > Classes and Objects </font>\n",
    "* Variables used so far took values of types (also called classes) string (str), integer (int), <br> floating point (float), Boolean (bool), list, tuple, or dictionary (dict).\n"
   ]
  },
  {
   "cell_type": "code",
   "execution_count": 1,
   "metadata": {
    "colab": {},
    "colab_type": "code",
    "id": "A9oyW2cn7Gpm",
    "outputId": "d1062c1c-b6bd-43a4-b9d4-084e55c2fd48"
   },
   "outputs": [
    {
     "name": "stdout",
     "output_type": "stream",
     "text": [
      "<class 'int'> <class 'float'> <class 'str'>\n"
     ]
    }
   ],
   "source": [
    "print(type(12), type(12.5), type('hello'))"
   ]
  },
  {
   "cell_type": "markdown",
   "metadata": {
    "colab_type": "text",
    "id": "CVNv2TlA7GqZ"
   },
   "source": [
    "** Accessing attribute of an instance of class** <br>\n",
    "* To specify an attribute of a class (or class instance), we write the name of the class (or class instance) <br> followed by a dot, followed by the name of that attribute. <br>\n",
    "The method **lower** defined in class **str** has been invoked for the object **name**. "
   ]
  },
  {
   "cell_type": "code",
   "execution_count": 4,
   "metadata": {
    "colab": {},
    "colab_type": "code",
    "id": "pisGq9e77Gqh",
    "outputId": "990f7c73-9bb0-42e4-ba6d-f8c2d47e84c5"
   },
   "outputs": [
    {
     "name": "stdout",
     "output_type": "stream",
     "text": [
      "Raman\n",
      "raman\n"
     ]
    }
   ],
   "source": [
    "name = 'Raman'\n",
    "name = str('Raman')\n",
    "lname = name.lower()\n",
    "print(lname)"
   ]
  },
  {
   "cell_type": "code",
   "execution_count": 6,
   "metadata": {},
   "outputs": [
    {
     "name": "stdout",
     "output_type": "stream",
     "text": [
      "raman\n"
     ]
    }
   ],
   "source": [
    "name = \"Raman\"\n",
    "lname = name.lower()\n",
    "print(lname)"
   ]
  },
  {
   "cell_type": "code",
   "execution_count": 9,
   "metadata": {},
   "outputs": [
    {
     "data": {
      "text/plain": [
       "complex"
      ]
     },
     "execution_count": 9,
     "metadata": {},
     "output_type": "execute_result"
    }
   ],
   "source": [
    "complexNum = complex(1+2j)\n",
    "complexNum = 1+2j\n",
    "type(complexNum)"
   ]
  },
  {
   "cell_type": "code",
   "execution_count": 10,
   "metadata": {},
   "outputs": [
    {
     "name": "stdout",
     "output_type": "stream",
     "text": [
      "Real Part = 1.0\n",
      "Imaginary Part = 2.0\n",
      "Complex conjugate = (1-2j)\n"
     ]
    }
   ],
   "source": [
    "print('Real Part =', complexNum.real)\n",
    "print('Imaginary Part =', complexNum.imag)\n",
    "print('Complex conjugate =', complexNum.conjugate())"
   ]
  },
  {
   "cell_type": "markdown",
   "metadata": {
    "colab_type": "text",
    "id": "KAa1BnEd7GrI"
   },
   "source": [
    "**Alternative way of invoking the method associated with an instance of class**: <br>\n",
    "* Specify the name of the class (str), followed by the dot operator (.), followed by the name of the <br> method (lower), followed by an object (name). The object name being an argument is enclosed in parentheses."
   ]
  },
  {
   "cell_type": "code",
   "execution_count": 11,
   "metadata": {
    "colab": {},
    "colab_type": "code",
    "id": "RQTY_RvQ7GrU",
    "outputId": "c2c829e3-5e49-4f51-94f6-f7ab7784e073"
   },
   "outputs": [
    {
     "name": "stdout",
     "output_type": "stream",
     "text": [
      "raman\n"
     ]
    }
   ],
   "source": [
    "lname = str.lower(name)\n",
    "print(lname)"
   ]
  },
  {
   "cell_type": "markdown",
   "metadata": {
    "colab_type": "text",
    "id": "A2fFXDzn7Gr3"
   },
   "source": [
    "---\n",
    "## <font color= blue > PERSON class </font>\n",
    "\n",
    "### <font color= green > Syntax of Class Definiton </font>\n",
    "\n",
    "A class definition begins with the keyword class followed by the name of the class, and a colon. By convention, the first letter of the class name is capitalized. The syntax for class definition is as follows:\n",
    "\n",
    "    class ClassName:\n",
    "        classBody\n",
    "        \n",
    "        \n",
    "### <font color= green > Operations supported by classes: </font>\n",
    "1. **Instantiation**: It refers to the creation of an object, i.e. an instance of the class.\n",
    "2. **Attribute references**: Methods and data members of an object of a class are accessed using the notation: name of the object, followed by dot operator, followed by the member name.\n"
   ]
  },
  {
   "cell_type": "code",
   "execution_count": 5,
   "metadata": {
    "colab": {},
    "colab_type": "code",
    "id": "zqMIZWcT7GsB"
   },
   "outputs": [],
   "source": [
    "class Person:\n",
    "    ''' The class Person describes a person'''\n",
    "    count = 0\n",
    "    def __init__(self, name, DOB, address):\n",
    "        '''\n",
    "        Objective: To initialize object of class Person\n",
    "        Input Parameters:\n",
    "            self (implicit parameter) - object of type Person\n",
    "            name - string\n",
    "            DOB - string (Date of Birth)\n",
    "            address - string\n",
    "        Return Value: None\n",
    "        '''\n",
    "        self.name = name\n",
    "        self.DOB = DOB\n",
    "        self.address = address\n",
    "        Person.count += 1\n",
    "\n",
    "    def getName(self):\n",
    "        '''\n",
    "        Objective: To retrieve name of the person\n",
    "        Input Parameter: self (implicit parameter) - object of type Person\n",
    "        Return Value: name - string\n",
    "        '''\n",
    "        return self.name\n",
    "\n",
    "    def getDOB(self):\n",
    "        '''\n",
    "        Objective: To retrieve the date of birth of a person\n",
    "        Input Parameter: self (implicit parameter) - object of type Person\n",
    "        Return Value: DOB - string\n",
    "        '''\n",
    "        return self.DOB\n",
    "\n",
    "    def getAddress(self):\n",
    "        '''\n",
    "        Objective: To retrieve address of person\n",
    "        Input Parameter: self (implicit parameter) - object of type Person\n",
    "        Return Value: address - string\n",
    "        '''\n",
    "        return self.address\n",
    "\n",
    "    def getCount(self):\n",
    "        '''\n",
    "        Objective: To get count of objects of type Person\n",
    "        Input Parameter: self (implicit parameter) - object of type Person\n",
    "        Return Value: count: numeric\n",
    "        '''\n",
    "        return Person.count\n",
    "\n",
    "    def __str__(self):\n",
    "        '''\n",
    "        Objective: To return string representation of object of type Person\n",
    "        Input Parameter: self (implicit parameter)- object of type\n",
    "        Person\n",
    "        Return Value: string\n",
    "        '''\n",
    "        return 'Name:'+self.name+'\\nDOB:'+str(self.DOB)\\\n",
    "        +'\\nAddress:'+self.address\n"
   ]
  },
  {
   "cell_type": "markdown",
   "metadata": {
    "colab_type": "text",
    "id": "W2TL20iZ7Gsd"
   },
   "source": [
    "### <font color= green > Creating an instance of class Person  </font>"
   ]
  },
  {
   "cell_type": "code",
   "execution_count": 6,
   "metadata": {
    "colab": {},
    "colab_type": "code",
    "id": "cselgAnS7Gss",
    "outputId": "c87a11ca-04a7-499b-a593-dbde6ae499e6"
   },
   "outputs": [
    {
     "name": "stdout",
     "output_type": "stream",
     "text": [
      "1\n"
     ]
    }
   ],
   "source": [
    "p1 = Person('Amir','24-10-1990','38/4, IIT Delhi 110016')\n",
    "print(Person.count)"
   ]
  },
  {
   "cell_type": "code",
   "execution_count": 9,
   "metadata": {},
   "outputs": [
    {
     "name": "stdout",
     "output_type": "stream",
     "text": [
      "4\n",
      "Name:Aditya\n",
      "DOB:21-11-2000\n",
      "Address:M-71, Nivedita Kunj,R.K. Puram\n",
      "Name:Amir\n",
      "DOB:24-10-1990\n",
      "Address:38/4, IIT Delhi 110016\n"
     ]
    }
   ],
   "source": [
    "p2=Person('Aditya','21-11-2000','M-71, Nivedita Kunj,R.K. Puram')\n",
    "print(Person.count)\n",
    "print(p2)\n",
    "print(p1)"
   ]
  },
  {
   "cell_type": "markdown",
   "metadata": {
    "colab_type": "text",
    "id": "XldV7SSe7GtK"
   },
   "source": [
    "The execution of the above statement does three things:\n",
    "1. Creates an instance of class Person\n",
    "2. Initializes it by invoking the method **\\_\\_init\\_\\_** defined in lines\n",
    "3. Returns a reference to it, so the name p1 now refers to the instance of the class Person that has just been created\n",
    "\n",
    "By default, Python passes object itself (such as p1) as the first argument to the method **\\_\\_init\\_\\_**."
   ]
  },
  {
   "cell_type": "markdown",
   "metadata": {
    "colab_type": "text",
    "id": "NdJMA_Oo7Gtd"
   },
   "source": [
    "### <font color= green > Instance p1 of class Person </font>"
   ]
  },
  {
   "cell_type": "markdown",
   "metadata": {
    "colab_type": "text",
    "id": "rdyZDo3w7Gtq"
   },
   "source": [
    "<div style=\"width: 700px;\"> ![](11.png) </div>"
   ]
  },
  {
   "cell_type": "markdown",
   "metadata": {
    "colab_type": "text",
    "id": "bOfqYTPT7GuG"
   },
   "source": [
    "\n",
    "### <font color= green > Printing an instance of class </font>\n",
    "\n",
    "Python invokes **\\_\\_str\\_\\_** method of the corresponding class to obtain a string representation of the object\n"
   ]
  },
  {
   "cell_type": "code",
   "execution_count": 16,
   "metadata": {
    "colab": {},
    "colab_type": "code",
    "id": "yNuPDhii7GuR",
    "outputId": "a6f886bf-686c-4d3d-c3de-4ceb2e78fdc5"
   },
   "outputs": [
    {
     "name": "stdout",
     "output_type": "stream",
     "text": [
      "7\n",
      "7\n",
      "7\n"
     ]
    }
   ],
   "source": [
    "print(7)\n",
    "# OR\n",
    "print(int.__str__(7))\n",
    "print(str(7))"
   ]
  },
  {
   "cell_type": "code",
   "execution_count": 17,
   "metadata": {
    "colab": {},
    "colab_type": "code",
    "id": "Rw3zqUdA7Guv",
    "outputId": "a981c23e-58d9-4c4f-f613-a08e1baf5b1a"
   },
   "outputs": [
    {
     "name": "stdout",
     "output_type": "stream",
     "text": [
      "Name:Amir\n",
      "DOB:24-10-1990\n",
      "Address:38/4, IIT Delhi 110016\n",
      "*****************\n",
      "Name:Amir\n",
      "DOB:24-10-1990\n",
      "Address:38/4, IIT Delhi 110016\n",
      "*****************\n",
      "Name:Amir\n",
      "DOB:24-10-1990\n",
      "Address:38/4, IIT Delhi 110016\n",
      "*****************\n",
      "Name:Amir\n",
      "DOB:24-10-1990\n",
      "Address:38/4, IIT Delhi 110016\n"
     ]
    }
   ],
   "source": [
    "print(p1)\n",
    "print('*****************')\n",
    "print(p1.__str__())\n",
    "print('*****************')\n",
    "print(Person.__str__(p1))\n",
    "print('*****************')\n",
    "print(str(p1))"
   ]
  },
  {
   "cell_type": "code",
   "execution_count": 18,
   "metadata": {
    "colab": {},
    "colab_type": "code",
    "id": "uRoXoC-h7GvE",
    "outputId": "d8982be9-f90c-4aba-d821-73c1cef03be1"
   },
   "outputs": [
    {
     "data": {
      "text/plain": [
       "'24-10-1990'"
      ]
     },
     "execution_count": 18,
     "metadata": {},
     "output_type": "execute_result"
    }
   ],
   "source": [
    "p1.getDOB()"
   ]
  },
  {
   "cell_type": "markdown",
   "metadata": {
    "colab_type": "text",
    "id": "EGF4-QLp7Gvl"
   },
   "source": [
    "### <font color= green > List of attributes of the object </font>"
   ]
  },
  {
   "cell_type": "code",
   "execution_count": 19,
   "metadata": {
    "colab": {},
    "colab_type": "code",
    "id": "PekcOC1i7Gvu",
    "outputId": "63e54e09-b6d2-4481-9119-903f1338f8c4"
   },
   "outputs": [
    {
     "data": {
      "text/plain": [
       "['DOB',\n",
       " '__class__',\n",
       " '__delattr__',\n",
       " '__dict__',\n",
       " '__dir__',\n",
       " '__doc__',\n",
       " '__eq__',\n",
       " '__format__',\n",
       " '__ge__',\n",
       " '__getattribute__',\n",
       " '__gt__',\n",
       " '__hash__',\n",
       " '__init__',\n",
       " '__init_subclass__',\n",
       " '__le__',\n",
       " '__lt__',\n",
       " '__module__',\n",
       " '__ne__',\n",
       " '__new__',\n",
       " '__reduce__',\n",
       " '__reduce_ex__',\n",
       " '__repr__',\n",
       " '__setattr__',\n",
       " '__sizeof__',\n",
       " '__str__',\n",
       " '__subclasshook__',\n",
       " '__weakref__',\n",
       " 'address',\n",
       " 'count',\n",
       " 'getAddress',\n",
       " 'getCount',\n",
       " 'getDOB',\n",
       " 'getName',\n",
       " 'name']"
      ]
     },
     "execution_count": 19,
     "metadata": {},
     "output_type": "execute_result"
    }
   ],
   "source": [
    "dir(p1)"
   ]
  },
  {
   "cell_type": "markdown",
   "metadata": {
    "colab_type": "text",
    "id": "8bJOLY4I7GwB"
   },
   "source": [
    "### <font color= green > Deleting an object of class Person </font>"
   ]
  },
  {
   "cell_type": "code",
   "execution_count": 20,
   "metadata": {
    "colab": {},
    "colab_type": "code",
    "id": "1RbpBvHW7GwG"
   },
   "outputs": [],
   "source": [
    "def __del__(self):\n",
    "    '''\n",
    "    Objective: To be invoked on deletion of an instance of the\n",
    "    class Person\n",
    "    Input Parameter:\n",
    "    self (implicit parameter) – object of type Person\n",
    "    Return Value: None\n",
    "    '''\n",
    "    print('Deleted !!')\n",
    "    Person.count -= 1"
   ]
  },
  {
   "cell_type": "code",
   "execution_count": 21,
   "metadata": {
    "colab": {},
    "colab_type": "code",
    "id": "B-3J97Dw7Gwn"
   },
   "outputs": [],
   "source": [
    "p1.__del__ = __del__"
   ]
  },
  {
   "cell_type": "code",
   "execution_count": 22,
   "metadata": {
    "colab": {},
    "colab_type": "code",
    "id": "Nw42zSKB7GxC"
   },
   "outputs": [],
   "source": [
    "del p1"
   ]
  },
  {
   "cell_type": "code",
   "execution_count": 23,
   "metadata": {
    "colab": {},
    "colab_type": "code",
    "id": "TjuvWdAQ7Gxs",
    "outputId": "2e48e136-402b-47db-cffa-0da95c6f112e"
   },
   "outputs": [
    {
     "ename": "NameError",
     "evalue": "name 'p1' is not defined",
     "output_type": "error",
     "traceback": [
      "\u001b[1;31m---------------------------------------------------------------------------\u001b[0m",
      "\u001b[1;31mNameError\u001b[0m                                 Traceback (most recent call last)",
      "\u001b[1;32m<ipython-input-23-71a0f0e933fe>\u001b[0m in \u001b[0;36m<module>\u001b[1;34m\u001b[0m\n\u001b[1;32m----> 1\u001b[1;33m \u001b[0mprint\u001b[0m\u001b[1;33m(\u001b[0m\u001b[0mp1\u001b[0m\u001b[1;33m)\u001b[0m\u001b[1;33m\u001b[0m\u001b[1;33m\u001b[0m\u001b[0m\n\u001b[0m",
      "\u001b[1;31mNameError\u001b[0m: name 'p1' is not defined"
     ]
    }
   ],
   "source": [
    "print(p1)"
   ]
  },
  {
   "cell_type": "markdown",
   "metadata": {
    "colab_type": "text",
    "id": "RnX9Wypy7GyH"
   },
   "source": [
    "---\n",
    "## <font color= blue > Inheritance </font>\n",
    "* Inheritance is an important feature of object oriented programming that imparts ability to a class to inherit properties and behavior of another class\n",
    "<div style=\"width: 150px;\"> ![](2.png) </div>\n",
    "* In the language of Object-oriented Programming (OOP), we say\n",
    "that Employee class inherits or derives the data and method attributes from the Person class. \n",
    "* Here, Person class is called base, super, or parent class, and Employee class is called derived, sub, or child class."
   ]
  },
  {
   "cell_type": "markdown",
   "metadata": {
    "colab_type": "text",
    "id": "oDiQ04Y17GyV"
   },
   "source": [
    "### <font color= green > Single Inheritance </font>\n",
    "* When inheritance involves a derived class that derives its properties from a single base class, it is called **single inheritance**"
   ]
  },
  {
   "cell_type": "code",
   "execution_count": 24,
   "metadata": {
    "colab": {},
    "colab_type": "code",
    "id": "0jJ1I4dW7Gyb"
   },
   "outputs": [],
   "source": [
    "class Employee(Person):\n",
    "    nextId = 1001\n",
    "    empCount = 0\n",
    "\n",
    "    def __init__(self, name, DOB, address, basicSalary, dateOfJoining):\n",
    "        '''\n",
    "        Objective: To initialize an object of class Employee\n",
    "        Input Parameters:\n",
    "            self (implicit parameter) – object of type Employee\n",
    "            name - string, address – string\n",
    "            DOB - Date of Birth – object of type MyDate\n",
    "            basicSalary - numeric value\n",
    "            dateOfJoining – object of type MyDate\n",
    "        Return Value: None\n",
    "        '''\n",
    "        Person.__init__(self, name, DOB, address)\n",
    "        self.idNum = Employee.nextId\n",
    "        self.basicSalary = basicSalary\n",
    "        self.dateOfJoining = dateOfJoining\n",
    "        Employee.nextId += 1\n",
    "        Employee.empCount += 1\n",
    "\n",
    "    def getId(self):\n",
    "        '''\n",
    "        Objective: To retrieve id of the Employee\n",
    "        Input Parameter: self (implicit parameter)– object of type Employee\n",
    "        Return Value: id - numeric value\n",
    "        '''\n",
    "        return self.idNum\n",
    "\n",
    "    def getSalary(self):\n",
    "        '''\n",
    "        Objective: To retrieve salary of the Employee\n",
    "        Input Parameter: self (implicit parameter) - object of type Employee\n",
    "        Return Value: basicSalary - numeric value\n",
    "        '''\n",
    "        return self.basicSalary\n",
    "\n",
    "    def reviseSalary(self, newSalary):\n",
    "        '''\n",
    "        Objective: To update salary of the Employee\n",
    "        Input Parameters: self (implicit parameter) - object of type Employee\n",
    "        newSalary - numeric value\n",
    "        Return Value: None\n",
    "        '''\n",
    "        self.basicSalary = newSalary\n",
    "\n",
    "    def getJoiningDate(self):\n",
    "        '''\n",
    "        Objective: To retrieve joining date of the Employee\n",
    "        Input Parameter: self (implicit parameter) - object of type Employee\n",
    "        Return Value: dateOfJoining - object of type MyDate\n",
    "        '''\n",
    "        return self.dateOfJoining\n",
    "\n",
    "    def __str__(self):\n",
    "        '''\n",
    "        Objective: To return string representation of object of type\n",
    "        Employee.\n",
    "        Input Parameter: self (implicit parameter) - object of type Employee\n",
    "        Return Value: string\n",
    "        '''\n",
    "        return Person.__str__(self)+'\\nId:'+str(self.getId())+\\\n",
    "            '\\nSalary:'+str(self.getSalary())+\\\n",
    "            '\\nDate of Joining:'+str(self.getJoiningDate())"
   ]
  },
  {
   "cell_type": "code",
   "execution_count": 25,
   "metadata": {
    "colab": {},
    "colab_type": "code",
    "id": "RavBELhC7Gyy"
   },
   "outputs": [],
   "source": [
    "emp1 = Employee('Rehman', '5 June 1990', ' D-9, Vivek Vihar, Delhi', 50000, '2 August 2013')"
   ]
  },
  {
   "cell_type": "code",
   "execution_count": 26,
   "metadata": {
    "colab": {},
    "colab_type": "code",
    "id": "Jey_Af6t7GzM",
    "outputId": "b3540eff-cd1d-4f40-d1a2-78fd8cdbc41c"
   },
   "outputs": [
    {
     "name": "stdout",
     "output_type": "stream",
     "text": [
      "1\n"
     ]
    }
   ],
   "source": [
    "print(Employee.empCount)"
   ]
  },
  {
   "cell_type": "markdown",
   "metadata": {
    "colab_type": "text",
    "id": "2FdKaHTE7Gzh"
   },
   "source": [
    "* Call to the method __init__ is made using a superclass name and the object instance is explicitly passed as an argument to the superclass method. \n",
    "* Alternatively, we may use the **super** function to access a method of the superclass.\n",
    "\n",
    "        super(Employee, self).__init__(name, DOB, address)\n",
    "        super().__init__(name, DOB, address)\n"
   ]
  },
  {
   "cell_type": "markdown",
   "metadata": {
    "colab_type": "text",
    "id": "-ES-vZkM7Gzl"
   },
   "source": [
    "---\n",
    "## <font color= blue > 5. Built-in Functions for Classes </font>"
   ]
  },
  {
   "cell_type": "markdown",
   "metadata": {
    "colab_type": "text",
    "id": "7Y_ZwIG97Gzo"
   },
   "source": [
    "### <font color= green > Function issubclass </font>\n",
    "* The function issubclass returns True if sub is the subclass of class super, and False otherwise.\n",
    "\n",
    "        issubclass(sub, super)"
   ]
  },
  {
   "cell_type": "code",
   "execution_count": 27,
   "metadata": {
    "colab": {},
    "colab_type": "code",
    "id": "b6l_ZmFB7Gzt",
    "outputId": "e5bb9d32-c6ad-4313-ec2b-9b4f3556b49e"
   },
   "outputs": [
    {
     "ename": "TypeError",
     "evalue": "issubclass() arg 2 must be a class or tuple of classes",
     "output_type": "error",
     "traceback": [
      "\u001b[1;31m---------------------------------------------------------------------------\u001b[0m",
      "\u001b[1;31mTypeError\u001b[0m                                 Traceback (most recent call last)",
      "\u001b[1;32m<ipython-input-27-6a52e806a611>\u001b[0m in \u001b[0;36m<module>\u001b[1;34m\u001b[0m\n\u001b[1;32m----> 1\u001b[1;33m \u001b[0missubclass\u001b[0m\u001b[1;33m(\u001b[0m\u001b[0mEmployee\u001b[0m\u001b[1;33m,\u001b[0m \u001b[1;34m\"Person\"\u001b[0m\u001b[1;33m)\u001b[0m\u001b[1;33m\u001b[0m\u001b[1;33m\u001b[0m\u001b[0m\n\u001b[0m",
      "\u001b[1;31mTypeError\u001b[0m: issubclass() arg 2 must be a class or tuple of classes"
     ]
    }
   ],
   "source": [
    "issubclass(Employee, \"Person\")"
   ]
  },
  {
   "cell_type": "markdown",
   "metadata": {
    "colab_type": "text",
    "id": "SkGgRUsv7G0O"
   },
   "source": [
    "### <font color= green > Function isinstance </font>\n",
    "* The function isinstance returns True if either obj is an instance of class class1 or it is an instance of a subclass of class class1.\n",
    "\n",
    "        isinstance(obj, class1)"
   ]
  },
  {
   "cell_type": "code",
   "execution_count": 28,
   "metadata": {
    "colab": {},
    "colab_type": "code",
    "id": "e8QvIPi77G0i",
    "outputId": "af91b2de-3761-45d2-dab7-e457b9f691f3"
   },
   "outputs": [
    {
     "data": {
      "text/plain": [
       "True"
      ]
     },
     "execution_count": 28,
     "metadata": {},
     "output_type": "execute_result"
    }
   ],
   "source": [
    "isinstance(emp1, Person)"
   ]
  },
  {
   "cell_type": "markdown",
   "metadata": {
    "colab_type": "text",
    "id": "km82zZvv7G1B"
   },
   "source": [
    "### <font color= green > Function hasattr </font>\n",
    "* The function hasattr returns True if instance obj contains an attribute attr, and False otherwise.\n",
    "\n",
    "        hasattr(obj, attr)"
   ]
  },
  {
   "cell_type": "code",
   "execution_count": 29,
   "metadata": {
    "colab": {},
    "colab_type": "code",
    "id": "Dm2NJr2n7G1G",
    "outputId": "e2b9144a-6596-4b9b-86ed-dd9e3f1ecea3"
   },
   "outputs": [
    {
     "data": {
      "text/plain": [
       "True"
      ]
     },
     "execution_count": 29,
     "metadata": {},
     "output_type": "execute_result"
    }
   ],
   "source": [
    "hasattr(emp1, 'dateOfJoining')"
   ]
  },
  {
   "cell_type": "markdown",
   "metadata": {
    "colab_type": "text",
    "id": "SUKSZdHn7G1d"
   },
   "source": [
    "# Exercises"
   ]
  },
  {
   "cell_type": "markdown",
   "metadata": {
    "colab_type": "text",
    "id": "Al8B6GCE7G1i"
   },
   "source": [
    "### <font color= green > Rectangle Class </font>"
   ]
  },
  {
   "cell_type": "code",
   "execution_count": 33,
   "metadata": {
    "colab": {},
    "colab_type": "code",
    "id": "CA1e04637G1r"
   },
   "outputs": [
    {
     "name": "stdout",
     "output_type": "stream",
     "text": [
      "Enter length of Rectangle:1\n",
      "Enter breadth of Rectangle:1\n",
      "Length: 1, Breadth: 1\n",
      "Area of Rectangle:   None\n",
      "Perimeter of Rectangle:   None\n"
     ]
    }
   ],
   "source": [
    "'''\n",
    "Define a class Rectangle. The class should contain sides: length and breadth\n",
    "of the rectangle as the data members. It should support the following methods:\n",
    "    (a) __init__ for initializing the data members: length and breadth.\n",
    "    (b) setLength for updating the length of the rectangle.\n",
    "    (c) setBreadth for updating breadth of the rectangle.\n",
    "    (d) getLength for retrieving the length of the rectangle.\n",
    "    (e) getBreadth for retrieving the breadth of the rectangle.\n",
    "    (f)  area to find the area of the rectangle.\n",
    "    (g) perimeter for finding perimeter of the rectangle.\n",
    "'''\n",
    "\n",
    "class Rectangle:\n",
    "    \n",
    "    def __init__(self, length, breadth):\n",
    "        '''\n",
    "        Objective: To initialize an object of class Rectangle\n",
    "        Input Parameters:\n",
    "            self (implicit parameter) - object of type Rectangle\n",
    "            length, breadth- numeric value\n",
    "        Return Value: None\n",
    "        '''\n",
    "        self.length=length\n",
    "        self.breadth=breadth\n",
    "\n",
    "    def setLength(self, length):\n",
    "        '''\n",
    "        Objective: To update the length of the Rectangle object\n",
    "        Input Parameters:\n",
    "            self (implicit parameter) - object of type Rectangle\n",
    "            length- numeric value\n",
    "        Return Value : None\n",
    "        '''\n",
    "        self.length=length\n",
    "        \n",
    "    def setBreadth(self, breadth):\n",
    "        '''\n",
    "        Objective: To update the breadth of the Rectangle\n",
    "        Input Parameters:\n",
    "            self (implicit parameter) - object of type Rectangle\n",
    "            breadth- numeric value\n",
    "        Return Value : None\n",
    "        '''\n",
    "        #+++ Your Code Here +++\n",
    "\n",
    "    def getLength(self):\n",
    "        '''\n",
    "        Objective: To return the length of the Rectangle\n",
    "        Input Parameter:\n",
    "            self (implicit parameter) - object of type Rectangle\n",
    "        Return Value : numeric value\n",
    "        '''\n",
    "        return self.length\n",
    "    \n",
    "    def getBreadth(self):\n",
    "        '''\n",
    "        Objective: To return the breadth of the Rectangle\n",
    "        Input Parameter:\n",
    "            self (implicit parameter) - object of type Rectangle\n",
    "        Return Value : numeric value\n",
    "        '''\n",
    "        #+++ Your Code Here +++\n",
    "    \n",
    "    def area(self):\n",
    "        '''\n",
    "        Objective: To return the area of the Rectangle\n",
    "        Input Parameter:\n",
    "            self (implicit parameter) - object of type Rectangle\n",
    "        Return Value : numeric value\n",
    "        '''\n",
    "        #+++ Your Code Here +++\n",
    "    \n",
    "    def perimeter(self):\n",
    "        '''\n",
    "        Objective: To return the perimeter of the Rectangle\n",
    "        Input Parameter:\n",
    "            self (implicit parameter) - object of type Rectangle\n",
    "        Return Value : numeric value\n",
    "        '''\n",
    "        #+++ Your Code Here +++\n",
    "\n",
    "    def __str__(self):\n",
    "        '''\n",
    "        Objective: To return string representation of object of type\n",
    "        Rectangle\n",
    "        Input Parameter:\n",
    "            self (implicit parameter) - object of type Rectangle\n",
    "        Return Value: string\n",
    "        '''\n",
    "        return 'Length: '+str(self.length)+', Breadth: '+str(self.breadth)\n",
    "\n",
    "def main():\n",
    "    '''\n",
    "    Objective: To create objects of class Rectangle and to perform operations on it\n",
    "    Input Parameter: None\n",
    "    Return Value: None\n",
    "    '''\n",
    "    length = int(input('Enter length of Rectangle:'))\n",
    "    breadth = int(input('Enter breadth of Rectangle:'))\n",
    "    rect = Rectangle(length, breadth)\n",
    "    print(rect)\n",
    "    print('Area of Rectangle:  ', rect.area())\n",
    "    print('Perimeter of Rectangle:  ', rect.perimeter())\n",
    "    \n",
    "        \n",
    "if __name__=='__main__':\n",
    "    main()"
   ]
  },
  {
   "cell_type": "markdown",
   "metadata": {
    "colab_type": "text",
    "id": "kwJULiJF7G16"
   },
   "source": [
    "### <font color= green > Shape Inheritance </font>"
   ]
  },
  {
   "cell_type": "code",
   "execution_count": 31,
   "metadata": {
    "colab": {},
    "colab_type": "code",
    "id": "9yPbE5uS7G19"
   },
   "outputs": [
    {
     "name": "stdout",
     "output_type": "stream",
     "text": [
      "Enter length of Rectangle:\n"
     ]
    },
    {
     "ename": "ValueError",
     "evalue": "invalid literal for int() with base 10: ''",
     "output_type": "error",
     "traceback": [
      "\u001b[1;31m---------------------------------------------------------------------------\u001b[0m",
      "\u001b[1;31mValueError\u001b[0m                                Traceback (most recent call last)",
      "\u001b[1;32m<ipython-input-31-47cfc9d66c59>\u001b[0m in \u001b[0;36m<module>\u001b[1;34m\u001b[0m\n\u001b[0;32m     98\u001b[0m \u001b[1;33m\u001b[0m\u001b[0m\n\u001b[0;32m     99\u001b[0m \u001b[1;32mif\u001b[0m \u001b[0m__name__\u001b[0m\u001b[1;33m==\u001b[0m\u001b[1;34m'__main__'\u001b[0m\u001b[1;33m:\u001b[0m\u001b[1;33m\u001b[0m\u001b[1;33m\u001b[0m\u001b[0m\n\u001b[1;32m--> 100\u001b[1;33m     \u001b[0mmain\u001b[0m\u001b[1;33m(\u001b[0m\u001b[1;33m)\u001b[0m\u001b[1;33m\u001b[0m\u001b[1;33m\u001b[0m\u001b[0m\n\u001b[0m",
      "\u001b[1;32m<ipython-input-31-47cfc9d66c59>\u001b[0m in \u001b[0;36mmain\u001b[1;34m()\u001b[0m\n\u001b[0;32m     85\u001b[0m     \u001b[0mReturn\u001b[0m \u001b[0mValue\u001b[0m\u001b[1;33m:\u001b[0m \u001b[1;32mNone\u001b[0m\u001b[1;33m\u001b[0m\u001b[1;33m\u001b[0m\u001b[0m\n\u001b[0;32m     86\u001b[0m     '''\n\u001b[1;32m---> 87\u001b[1;33m     \u001b[0mlength\u001b[0m \u001b[1;33m=\u001b[0m \u001b[0mint\u001b[0m\u001b[1;33m(\u001b[0m\u001b[0minput\u001b[0m\u001b[1;33m(\u001b[0m\u001b[1;34m'Enter length of Rectangle:'\u001b[0m\u001b[1;33m)\u001b[0m\u001b[1;33m)\u001b[0m\u001b[1;33m\u001b[0m\u001b[1;33m\u001b[0m\u001b[0m\n\u001b[0m\u001b[0;32m     88\u001b[0m     \u001b[0mbreadth\u001b[0m \u001b[1;33m=\u001b[0m \u001b[0mint\u001b[0m\u001b[1;33m(\u001b[0m\u001b[0minput\u001b[0m\u001b[1;33m(\u001b[0m\u001b[1;34m'Enter breadth of Rectangle:'\u001b[0m\u001b[1;33m)\u001b[0m\u001b[1;33m)\u001b[0m\u001b[1;33m\u001b[0m\u001b[1;33m\u001b[0m\u001b[0m\n\u001b[0;32m     89\u001b[0m     \u001b[0mrect\u001b[0m \u001b[1;33m=\u001b[0m \u001b[0mRectangle\u001b[0m\u001b[1;33m(\u001b[0m\u001b[0mlength\u001b[0m\u001b[1;33m,\u001b[0m \u001b[0mbreadth\u001b[0m\u001b[1;33m)\u001b[0m\u001b[1;33m\u001b[0m\u001b[1;33m\u001b[0m\u001b[0m\n",
      "\u001b[1;31mValueError\u001b[0m: invalid literal for int() with base 10: ''"
     ]
    }
   ],
   "source": [
    "class Shape:\n",
    "\n",
    "    \n",
    "    def __init__(self, shapeType):\n",
    "        '''\n",
    "        Objective: To initialize object of class Shape\n",
    "        Input Parameters:\n",
    "        self (implicit parameter) - object of type Shape\n",
    "        shapeType - string\n",
    "        Return Value: None\n",
    "        '''\n",
    "        self.shapeType = shapeType\n",
    "\n",
    "class Rectangle(Shape):\n",
    "\n",
    "    def __init__(self, length, breadth):\n",
    "        '''\n",
    "        Objective: To initialize object of class Rectangle\n",
    "        Input Parameters:\n",
    "            self (implicit parameter) - object of type Rectangle\n",
    "            length, breadth - numeric value\n",
    "        Return Value: None\n",
    "        '''\n",
    "        Shape.__init__(self, 'Rectangle')\n",
    "        self.length = length\n",
    "        self.breadth = breadth\n",
    "\n",
    "    def area(self):\n",
    "        '''\n",
    "        Objective: To compute area of the Rectangle\n",
    "        Input Parameter:\n",
    "            self (implicit parameter) - object of type Rectangle\n",
    "        Return Value: numeric value\n",
    "        '''\n",
    "        #+++ Your Code Here +++\n",
    "\n",
    "\n",
    "    def perimeter(self):\n",
    "        '''\n",
    "        Objective: To compute perimeter of the Rectangle\n",
    "        Input Parameter:\n",
    "            self (implicit parameter) - object of type Rectangle\n",
    "        Return Value: numeric value\n",
    "        '''\n",
    "        #+++ Your Code Here +++\n",
    "\n",
    "\n",
    "class Circle(Shape):\n",
    "\n",
    "    pi = 3.14\n",
    "    def __init__(self, radius):\n",
    "        '''\n",
    "        Objective: To initialize object of class Circle\n",
    "        Input Parameters:\n",
    "            self (implicit parameter) - object of type Circle\n",
    "            radius - numeric value\n",
    "        Return Value: None\n",
    "        '''\n",
    "        #+++ Your Code Here +++\n",
    "\n",
    "    def area(self):\n",
    "        '''\n",
    "        Objective: To compute the area of the Circle\n",
    "        Input Parameter:\n",
    "            self (implicit parameter) - object of type Circle\n",
    "        Return Value: area - numeric value\n",
    "        '''\n",
    "        #+++ Your Code Here +++\n",
    "\n",
    "\n",
    "    def perimeter(self):\n",
    "        '''\n",
    "        Objective: To compute the perimeter of the Circle\n",
    "        Input Parameter:\n",
    "            self (implicit parameter) - object of type Circle\n",
    "        Return Value: perimeter - numeric value\n",
    "        '''\n",
    "        #+++ Your Code Here +++\n",
    "\n",
    "def main():\n",
    "    '''\n",
    "    Objective: To create objects of class Rectangle and Circle\n",
    "    and to perform operations on it\n",
    "    Input Parameter: None\n",
    "    Return Value: None\n",
    "    '''\n",
    "    length = int(input('Enter length of Rectangle:'))\n",
    "    breadth = int(input('Enter breadth of Rectangle:'))\n",
    "    rect = Rectangle(length, breadth)\n",
    "    print('Area of Rectangle:  ', rect.area())\n",
    "    print('Perimeter of Rectangle:  ', rect.perimeter())\n",
    "\n",
    "    radius = int(input('\\n\\nEnter length of Circle:'))\n",
    "    circ = Circle(radius)\n",
    "    print('Area of Circle:  ', circ.area())\n",
    "    print('Perimeter of Circle:  ', circ.perimeter())\n",
    "    \n",
    "        \n",
    "if __name__=='__main__':\n",
    "    main()\n"
   ]
  },
  {
   "cell_type": "code",
   "execution_count": 32,
   "metadata": {},
   "outputs": [
    {
     "ename": "error",
     "evalue": "OpenCV(3.4.1) C:\\Miniconda3\\conda-bld\\opencv-suite_1533128839831\\work\\modules\\objdetect\\src\\cascadedetect.cpp:1698: error: (-215) !empty() in function cv::CascadeClassifier::detectMultiScale\n",
     "output_type": "error",
     "traceback": [
      "\u001b[1;31m---------------------------------------------------------------------------\u001b[0m",
      "\u001b[1;31merror\u001b[0m                                     Traceback (most recent call last)",
      "\u001b[1;32m<ipython-input-32-75fe7eb5eaf4>\u001b[0m in \u001b[0;36m<module>\u001b[1;34m\u001b[0m\n\u001b[0;32m     31\u001b[0m \u001b[1;33m\u001b[0m\u001b[0m\n\u001b[0;32m     32\u001b[0m         \u001b[1;31m# Detects faces of different sizes in the input image\u001b[0m\u001b[1;33m\u001b[0m\u001b[1;33m\u001b[0m\u001b[1;33m\u001b[0m\u001b[0m\n\u001b[1;32m---> 33\u001b[1;33m         \u001b[0mfaces\u001b[0m \u001b[1;33m=\u001b[0m \u001b[0mface_cascade\u001b[0m\u001b[1;33m.\u001b[0m\u001b[0mdetectMultiScale\u001b[0m\u001b[1;33m(\u001b[0m\u001b[0mgray\u001b[0m\u001b[1;33m,\u001b[0m \u001b[1;36m1.3\u001b[0m\u001b[1;33m,\u001b[0m \u001b[1;36m5\u001b[0m\u001b[1;33m)\u001b[0m\u001b[1;33m\u001b[0m\u001b[1;33m\u001b[0m\u001b[0m\n\u001b[0m\u001b[0;32m     34\u001b[0m \u001b[1;33m\u001b[0m\u001b[0m\n\u001b[0;32m     35\u001b[0m         \u001b[1;32mfor\u001b[0m \u001b[1;33m(\u001b[0m\u001b[0mx\u001b[0m\u001b[1;33m,\u001b[0m\u001b[0my\u001b[0m\u001b[1;33m,\u001b[0m\u001b[0mw\u001b[0m\u001b[1;33m,\u001b[0m\u001b[0mh\u001b[0m\u001b[1;33m)\u001b[0m \u001b[1;32min\u001b[0m \u001b[0mfaces\u001b[0m\u001b[1;33m:\u001b[0m\u001b[1;33m\u001b[0m\u001b[1;33m\u001b[0m\u001b[0m\n",
      "\u001b[1;31merror\u001b[0m: OpenCV(3.4.1) C:\\Miniconda3\\conda-bld\\opencv-suite_1533128839831\\work\\modules\\objdetect\\src\\cascadedetect.cpp:1698: error: (-215) !empty() in function cv::CascadeClassifier::detectMultiScale\n"
     ]
    }
   ],
   "source": [
    "# OpenCV program to detect face in real time \n",
    "# import libraries of python OpenCV \n",
    "# where its functionality resides \n",
    "import cv2 \n",
    "\n",
    "# load the required trained XML classifiers \n",
    "# https://github.com/Itseez/opencv/blob/master/ \n",
    "# data/haarcascades/haarcascade_frontalface_default.xml \n",
    "# Trained XML classifiers describes some features of some \n",
    "# object we want to detect a cascade function is trained \n",
    "# from a lot of positive(faces) and negative(non-faces) \n",
    "# images. \n",
    "face_cascade = cv2.CascadeClassifier('haarcascade_frontalface_default.xml') \n",
    "\n",
    "# https://github.com/Itseez/opencv/blob/master \n",
    "# /data/haarcascades/haarcascade_eye.xml \n",
    "# Trained XML file for detecting eyes \n",
    "eye_cascade = cv2.CascadeClassifier('haarcascade_eye.xml') \n",
    "\n",
    "# capture frames from a camera \n",
    "cap = cv2.VideoCapture(0) \n",
    "\n",
    "# loop runs if capturing has been initialized. \n",
    "while 1: \n",
    "\n",
    "\t# reads frames from a camera \n",
    "\tret, img = cap.read() \n",
    "\n",
    "\t# convert to gray scale of each frames \n",
    "\tgray = cv2.cvtColor(img, cv2.COLOR_BGR2GRAY) \n",
    "\n",
    "\t# Detects faces of different sizes in the input image \n",
    "\tfaces = face_cascade.detectMultiScale(gray, 1.3, 5) \n",
    "\n",
    "\tfor (x,y,w,h) in faces: \n",
    "\t\t# To draw a rectangle in a face \n",
    "\t\tcv2.rectangle(img,(x,y),(x+w,y+h),(255,255,0),2) \n",
    "\t\troi_gray = gray[y:y+h, x:x+w] \n",
    "\t\troi_color = img[y:y+h, x:x+w] \n",
    "\n",
    "\t\t# Detects eyes of different sizes in the input image \n",
    "\t\teyes = eye_cascade.detectMultiScale(roi_gray) \n",
    "\n",
    "\t\t#To draw a rectangle in eyes \n",
    "\t\tfor (ex,ey,ew,eh) in eyes: \n",
    "\t\t\tcv2.rectangle(roi_color,(ex,ey),(ex+ew,ey+eh),(0,127,255),2) \n",
    "\n",
    "\t# Display an image in a window \n",
    "\tcv2.imshow('img',img) \n",
    "\n",
    "\t# Wait for Esc key to stop \n",
    "\tk = cv2.waitKey(30) & 0xff\n",
    "\tif k == 27: \n",
    "\t\tbreak\n",
    "\n",
    "# Close the window \n",
    "cap.release() \n",
    "\n",
    "# De-allocate any associated memory usage \n",
    "cv2.destroyAllWindows() \n"
   ]
  },
  {
   "cell_type": "code",
   "execution_count": null,
   "metadata": {},
   "outputs": [],
   "source": [
    "from PIL import Image\n",
    "#img = Image.open(path)\t \n",
    "# On successful execution of this statement, \n",
    "# an object of Image type is returned and stored in img variable) \n",
    "\n",
    "try: \n",
    "\timg = Image.open(C:\\Users\\DELL\\Pictures\\Screenshots\\Screenshot(3).png) \n",
    "except IOError: \n",
    "\tpass\n",
    "# Use the above statement within try block, as it can \n",
    "# raise an IOError if file cannot be found, \n",
    "# or image cannot be opened.\n"
   ]
  }
 ],
 "metadata": {
  "colab": {
   "collapsed_sections": [
    "Al8B6GCE7G1i",
    "kwJULiJF7G16"
   ],
   "name": "Tutorial_Session6.ipynb",
   "provenance": [],
   "version": "0.3.2"
  },
  "kernelspec": {
   "display_name": "Python 3",
   "language": "python",
   "name": "python3"
  },
  "language_info": {
   "codemirror_mode": {
    "name": "ipython",
    "version": 3
   },
   "file_extension": ".py",
   "mimetype": "text/x-python",
   "name": "python",
   "nbconvert_exporter": "python",
   "pygments_lexer": "ipython3",
   "version": "3.7.1"
  }
 },
 "nbformat": 4,
 "nbformat_minor": 1
}
